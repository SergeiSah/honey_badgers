{
 "cells": [
  {
   "cell_type": "code",
   "execution_count": 172,
   "id": "a7dcd505-2d89-4824-8ddc-a69c6550c288",
   "metadata": {
    "tags": []
   },
   "outputs": [],
   "source": [
    "import pandas as pd\n",
    "import numpy as np\n",
    "\n",
    "from geopy.distance import geodesic\n",
    "from collections import deque\n",
    "\n",
    "import plotly.graph_objects as go\n",
    "import plotly.express as px"
   ]
  },
  {
   "cell_type": "code",
   "execution_count": 2,
   "id": "0cb3a1a5-d04c-445e-853e-2658f32a3609",
   "metadata": {
    "tags": []
   },
   "outputs": [
    {
     "data": {
      "text/html": [
       "<div>\n",
       "<style scoped>\n",
       "    .dataframe tbody tr th:only-of-type {\n",
       "        vertical-align: middle;\n",
       "    }\n",
       "\n",
       "    .dataframe tbody tr th {\n",
       "        vertical-align: top;\n",
       "    }\n",
       "\n",
       "    .dataframe thead th {\n",
       "        text-align: right;\n",
       "    }\n",
       "</style>\n",
       "<table border=\"1\" class=\"dataframe\">\n",
       "  <thead>\n",
       "    <tr style=\"text-align: right;\">\n",
       "      <th></th>\n",
       "      <th>ice_class</th>\n",
       "      <th>0</th>\n",
       "      <th>1</th>\n",
       "      <th>2</th>\n",
       "      <th>3</th>\n",
       "      <th>4</th>\n",
       "      <th>5</th>\n",
       "      <th>6</th>\n",
       "      <th>7</th>\n",
       "      <th>8</th>\n",
       "      <th>9</th>\n",
       "    </tr>\n",
       "  </thead>\n",
       "  <tbody>\n",
       "    <tr>\n",
       "      <th>0</th>\n",
       "      <td>No ice class</td>\n",
       "      <td>self</td>\n",
       "      <td>self</td>\n",
       "      <td>self</td>\n",
       "      <td>self</td>\n",
       "      <td>wiring</td>\n",
       "      <td>wiring</td>\n",
       "      <td>wiring</td>\n",
       "      <td>forbidden</td>\n",
       "      <td>forbidden</td>\n",
       "      <td>forbidden</td>\n",
       "    </tr>\n",
       "    <tr>\n",
       "      <th>1</th>\n",
       "      <td>Ice1</td>\n",
       "      <td>self</td>\n",
       "      <td>self</td>\n",
       "      <td>self</td>\n",
       "      <td>self</td>\n",
       "      <td>wiring</td>\n",
       "      <td>wiring</td>\n",
       "      <td>wiring</td>\n",
       "      <td>forbidden</td>\n",
       "      <td>forbidden</td>\n",
       "      <td>forbidden</td>\n",
       "    </tr>\n",
       "    <tr>\n",
       "      <th>2</th>\n",
       "      <td>Ice2</td>\n",
       "      <td>self</td>\n",
       "      <td>self</td>\n",
       "      <td>self</td>\n",
       "      <td>self</td>\n",
       "      <td>wiring</td>\n",
       "      <td>wiring</td>\n",
       "      <td>wiring</td>\n",
       "      <td>forbidden</td>\n",
       "      <td>forbidden</td>\n",
       "      <td>forbidden</td>\n",
       "    </tr>\n",
       "    <tr>\n",
       "      <th>3</th>\n",
       "      <td>Ice3</td>\n",
       "      <td>self</td>\n",
       "      <td>self</td>\n",
       "      <td>self</td>\n",
       "      <td>self</td>\n",
       "      <td>wiring</td>\n",
       "      <td>wiring</td>\n",
       "      <td>wiring</td>\n",
       "      <td>forbidden</td>\n",
       "      <td>forbidden</td>\n",
       "      <td>forbidden</td>\n",
       "    </tr>\n",
       "    <tr>\n",
       "      <th>4</th>\n",
       "      <td>Arc4</td>\n",
       "      <td>self</td>\n",
       "      <td>self</td>\n",
       "      <td>self</td>\n",
       "      <td>self</td>\n",
       "      <td>self</td>\n",
       "      <td>self</td>\n",
       "      <td>self</td>\n",
       "      <td>wiring</td>\n",
       "      <td>wiring</td>\n",
       "      <td>wiring</td>\n",
       "    </tr>\n",
       "    <tr>\n",
       "      <th>5</th>\n",
       "      <td>Arc5</td>\n",
       "      <td>self</td>\n",
       "      <td>self</td>\n",
       "      <td>self</td>\n",
       "      <td>self</td>\n",
       "      <td>self</td>\n",
       "      <td>self</td>\n",
       "      <td>self</td>\n",
       "      <td>wiring</td>\n",
       "      <td>wiring</td>\n",
       "      <td>wiring</td>\n",
       "    </tr>\n",
       "    <tr>\n",
       "      <th>6</th>\n",
       "      <td>Arc6</td>\n",
       "      <td>self</td>\n",
       "      <td>self</td>\n",
       "      <td>self</td>\n",
       "      <td>self</td>\n",
       "      <td>self</td>\n",
       "      <td>self</td>\n",
       "      <td>self</td>\n",
       "      <td>wiring</td>\n",
       "      <td>wiring</td>\n",
       "      <td>wiring</td>\n",
       "    </tr>\n",
       "    <tr>\n",
       "      <th>7</th>\n",
       "      <td>Arc7</td>\n",
       "      <td>self</td>\n",
       "      <td>self</td>\n",
       "      <td>self</td>\n",
       "      <td>self</td>\n",
       "      <td>self</td>\n",
       "      <td>self</td>\n",
       "      <td>self</td>\n",
       "      <td>self</td>\n",
       "      <td>self</td>\n",
       "      <td>self</td>\n",
       "    </tr>\n",
       "    <tr>\n",
       "      <th>8</th>\n",
       "      <td>Arc8</td>\n",
       "      <td>self</td>\n",
       "      <td>self</td>\n",
       "      <td>self</td>\n",
       "      <td>self</td>\n",
       "      <td>self</td>\n",
       "      <td>self</td>\n",
       "      <td>self</td>\n",
       "      <td>self</td>\n",
       "      <td>self</td>\n",
       "      <td>self</td>\n",
       "    </tr>\n",
       "    <tr>\n",
       "      <th>9</th>\n",
       "      <td>Arc9</td>\n",
       "      <td>self</td>\n",
       "      <td>self</td>\n",
       "      <td>self</td>\n",
       "      <td>self</td>\n",
       "      <td>self</td>\n",
       "      <td>self</td>\n",
       "      <td>self</td>\n",
       "      <td>self</td>\n",
       "      <td>self</td>\n",
       "      <td>self</td>\n",
       "    </tr>\n",
       "  </tbody>\n",
       "</table>\n",
       "</div>"
      ],
      "text/plain": [
       "      ice_class     0     1     2     3       4       5       6          7  \\\n",
       "0  No ice class  self  self  self  self  wiring  wiring  wiring  forbidden   \n",
       "1          Ice1  self  self  self  self  wiring  wiring  wiring  forbidden   \n",
       "2          Ice2  self  self  self  self  wiring  wiring  wiring  forbidden   \n",
       "3          Ice3  self  self  self  self  wiring  wiring  wiring  forbidden   \n",
       "4          Arc4  self  self  self  self    self    self    self     wiring   \n",
       "5          Arc5  self  self  self  self    self    self    self     wiring   \n",
       "6          Arc6  self  self  self  self    self    self    self     wiring   \n",
       "7          Arc7  self  self  self  self    self    self    self       self   \n",
       "8          Arc8  self  self  self  self    self    self    self       self   \n",
       "9          Arc9  self  self  self  self    self    self    self       self   \n",
       "\n",
       "           8          9  \n",
       "0  forbidden  forbidden  \n",
       "1  forbidden  forbidden  \n",
       "2  forbidden  forbidden  \n",
       "3  forbidden  forbidden  \n",
       "4     wiring     wiring  \n",
       "5     wiring     wiring  \n",
       "6     wiring     wiring  \n",
       "7       self       self  \n",
       "8       self       self  \n",
       "9       self       self  "
      ]
     },
     "execution_count": 2,
     "metadata": {},
     "output_type": "execute_result"
    }
   ],
   "source": [
    "# режимы движения на отрезках маршрута\n",
    "traffic_mode = pd.DataFrame(\n",
    "    {\n",
    "        'ice_class': ['No ice class', 'Ice1', 'Ice2', 'Ice3', 'Arc4', 'Arc5', 'Arc6', 'Arc7', 'Arc8', 'Arc9'],\n",
    "        **{num: ['self', 'self', 'self', 'self', 'self', 'self', 'self', 'self', 'self', 'self'] for num in range(4)},\n",
    "        **{num: ['wiring', 'wiring', 'wiring', 'wiring', 'self', 'self', 'self', 'self', 'self', 'self'] for num in range(4, 7)},\n",
    "        **{num: ['forbidden', 'forbidden', 'forbidden', 'forbidden', 'wiring', 'wiring', 'wiring', 'self', 'self', 'self'] \n",
    "           for num in range(7, 10)},\n",
    "    }\n",
    ")\n",
    "\n",
    "traffic_mode"
   ]
  },
  {
   "cell_type": "code",
   "execution_count": 3,
   "id": "cde20ace-35b0-4fcb-86f3-031b404f6fac",
   "metadata": {
    "tags": []
   },
   "outputs": [
    {
     "data": {
      "text/html": [
       "<div>\n",
       "<style scoped>\n",
       "    .dataframe tbody tr th:only-of-type {\n",
       "        vertical-align: middle;\n",
       "    }\n",
       "\n",
       "    .dataframe tbody tr th {\n",
       "        vertical-align: top;\n",
       "    }\n",
       "\n",
       "    .dataframe thead th {\n",
       "        text-align: right;\n",
       "    }\n",
       "</style>\n",
       "<table border=\"1\" class=\"dataframe\">\n",
       "  <thead>\n",
       "    <tr style=\"text-align: right;\">\n",
       "      <th></th>\n",
       "      <th>name</th>\n",
       "      <th>imo</th>\n",
       "    </tr>\n",
       "  </thead>\n",
       "  <tbody>\n",
       "    <tr>\n",
       "      <th>0</th>\n",
       "      <td>50 лет Победы</td>\n",
       "      <td>9152959</td>\n",
       "    </tr>\n",
       "    <tr>\n",
       "      <th>1</th>\n",
       "      <td>Ямал</td>\n",
       "      <td>9077549</td>\n",
       "    </tr>\n",
       "    <tr>\n",
       "      <th>2</th>\n",
       "      <td>Таймыр</td>\n",
       "      <td>8417481</td>\n",
       "    </tr>\n",
       "    <tr>\n",
       "      <th>3</th>\n",
       "      <td>Вайгач</td>\n",
       "      <td>8417493</td>\n",
       "    </tr>\n",
       "  </tbody>\n",
       "</table>\n",
       "</div>"
      ],
      "text/plain": [
       "            name      imo\n",
       "0  50 лет Победы  9152959\n",
       "1           Ямал  9077549\n",
       "2         Таймыр  8417481\n",
       "3         Вайгач  8417493"
      ]
     },
     "execution_count": 3,
     "metadata": {},
     "output_type": "execute_result"
    }
   ],
   "source": [
    "# информация по ледоклам\n",
    "icebreakers = pd.read_csv('icebreakers.csv', encoding='utf-8', sep=';')\n",
    "icebreakers.columns = ['name', 'imo']\n",
    "icebreakers"
   ]
  },
  {
   "cell_type": "code",
   "execution_count": 4,
   "id": "25ba0e16-9990-4d52-834d-d04aa061c459",
   "metadata": {
    "tags": []
   },
   "outputs": [
    {
     "data": {
      "text/html": [
       "<div>\n",
       "<style scoped>\n",
       "    .dataframe tbody tr th:only-of-type {\n",
       "        vertical-align: middle;\n",
       "    }\n",
       "\n",
       "    .dataframe tbody tr th {\n",
       "        vertical-align: top;\n",
       "    }\n",
       "\n",
       "    .dataframe thead th {\n",
       "        text-align: right;\n",
       "    }\n",
       "</style>\n",
       "<table border=\"1\" class=\"dataframe\">\n",
       "  <thead>\n",
       "    <tr style=\"text-align: right;\">\n",
       "      <th></th>\n",
       "      <th>edge_num</th>\n",
       "      <th>1</th>\n",
       "      <th>2</th>\n",
       "      <th>3</th>\n",
       "      <th>4</th>\n",
       "      <th>5</th>\n",
       "      <th>6</th>\n",
       "      <th>7</th>\n",
       "      <th>8</th>\n",
       "      <th>9</th>\n",
       "      <th>...</th>\n",
       "      <th>21</th>\n",
       "      <th>22</th>\n",
       "      <th>23</th>\n",
       "      <th>24</th>\n",
       "      <th>25</th>\n",
       "      <th>26</th>\n",
       "      <th>27</th>\n",
       "      <th>28</th>\n",
       "      <th>29</th>\n",
       "      <th>30</th>\n",
       "    </tr>\n",
       "  </thead>\n",
       "  <tbody>\n",
       "    <tr>\n",
       "      <th>0</th>\n",
       "      <td>1</td>\n",
       "      <td>0</td>\n",
       "      <td>0</td>\n",
       "      <td>0</td>\n",
       "      <td>0</td>\n",
       "      <td>0</td>\n",
       "      <td>0</td>\n",
       "      <td>0</td>\n",
       "      <td>0</td>\n",
       "      <td>0</td>\n",
       "      <td>...</td>\n",
       "      <td>1</td>\n",
       "      <td>1</td>\n",
       "      <td>1</td>\n",
       "      <td>1</td>\n",
       "      <td>1</td>\n",
       "      <td>1</td>\n",
       "      <td>1</td>\n",
       "      <td>1</td>\n",
       "      <td>1</td>\n",
       "      <td>2</td>\n",
       "    </tr>\n",
       "    <tr>\n",
       "      <th>1</th>\n",
       "      <td>2</td>\n",
       "      <td>0</td>\n",
       "      <td>1</td>\n",
       "      <td>1</td>\n",
       "      <td>1</td>\n",
       "      <td>1</td>\n",
       "      <td>2</td>\n",
       "      <td>2</td>\n",
       "      <td>2</td>\n",
       "      <td>2</td>\n",
       "      <td>...</td>\n",
       "      <td>4</td>\n",
       "      <td>4</td>\n",
       "      <td>4</td>\n",
       "      <td>4</td>\n",
       "      <td>4</td>\n",
       "      <td>4</td>\n",
       "      <td>4</td>\n",
       "      <td>5</td>\n",
       "      <td>5</td>\n",
       "      <td>5</td>\n",
       "    </tr>\n",
       "    <tr>\n",
       "      <th>2</th>\n",
       "      <td>3</td>\n",
       "      <td>1</td>\n",
       "      <td>1</td>\n",
       "      <td>1</td>\n",
       "      <td>1</td>\n",
       "      <td>2</td>\n",
       "      <td>2</td>\n",
       "      <td>2</td>\n",
       "      <td>2</td>\n",
       "      <td>2</td>\n",
       "      <td>...</td>\n",
       "      <td>4</td>\n",
       "      <td>4</td>\n",
       "      <td>5</td>\n",
       "      <td>5</td>\n",
       "      <td>5</td>\n",
       "      <td>5</td>\n",
       "      <td>6</td>\n",
       "      <td>6</td>\n",
       "      <td>6</td>\n",
       "      <td>6</td>\n",
       "    </tr>\n",
       "    <tr>\n",
       "      <th>3</th>\n",
       "      <td>4</td>\n",
       "      <td>0</td>\n",
       "      <td>0</td>\n",
       "      <td>0</td>\n",
       "      <td>0</td>\n",
       "      <td>0</td>\n",
       "      <td>0</td>\n",
       "      <td>0</td>\n",
       "      <td>0</td>\n",
       "      <td>0</td>\n",
       "      <td>...</td>\n",
       "      <td>1</td>\n",
       "      <td>1</td>\n",
       "      <td>1</td>\n",
       "      <td>1</td>\n",
       "      <td>1</td>\n",
       "      <td>1</td>\n",
       "      <td>1</td>\n",
       "      <td>1</td>\n",
       "      <td>1</td>\n",
       "      <td>2</td>\n",
       "    </tr>\n",
       "    <tr>\n",
       "      <th>4</th>\n",
       "      <td>5</td>\n",
       "      <td>0</td>\n",
       "      <td>0</td>\n",
       "      <td>0</td>\n",
       "      <td>0</td>\n",
       "      <td>0</td>\n",
       "      <td>0</td>\n",
       "      <td>0</td>\n",
       "      <td>0</td>\n",
       "      <td>0</td>\n",
       "      <td>...</td>\n",
       "      <td>1</td>\n",
       "      <td>1</td>\n",
       "      <td>1</td>\n",
       "      <td>1</td>\n",
       "      <td>1</td>\n",
       "      <td>1</td>\n",
       "      <td>1</td>\n",
       "      <td>1</td>\n",
       "      <td>2</td>\n",
       "      <td>2</td>\n",
       "    </tr>\n",
       "  </tbody>\n",
       "</table>\n",
       "<p>5 rows × 31 columns</p>\n",
       "</div>"
      ],
      "text/plain": [
       "   edge_num  1  2  3  4  5  6  7  8  9  ...  21  22  23  24  25  26  27  28  \\\n",
       "0         1  0  0  0  0  0  0  0  0  0  ...   1   1   1   1   1   1   1   1   \n",
       "1         2  0  1  1  1  1  2  2  2  2  ...   4   4   4   4   4   4   4   5   \n",
       "2         3  1  1  1  1  2  2  2  2  2  ...   4   4   5   5   5   5   6   6   \n",
       "3         4  0  0  0  0  0  0  0  0  0  ...   1   1   1   1   1   1   1   1   \n",
       "4         5  0  0  0  0  0  0  0  0  0  ...   1   1   1   1   1   1   1   1   \n",
       "\n",
       "   29  30  \n",
       "0   1   2  \n",
       "1   5   5  \n",
       "2   6   6  \n",
       "3   1   2  \n",
       "4   2   2  \n",
       "\n",
       "[5 rows x 31 columns]"
      ]
     },
     "execution_count": 4,
     "metadata": {},
     "output_type": "execute_result"
    }
   ],
   "source": [
    "# сплоченность льдов\n",
    "cohesion = pd.read_csv('cohesion.csv', encoding='utf-8', sep=';')\n",
    "cohesion = cohesion.rename(columns={\n",
    "    'Номер ребра': 'edge_num',\n",
    "})\n",
    "cohesion.head()"
   ]
  },
  {
   "cell_type": "code",
   "execution_count": 95,
   "id": "0efb241f-b6f3-47ba-b245-3c0fd6043be9",
   "metadata": {
    "tags": []
   },
   "outputs": [],
   "source": [
    "# путь от самой заподной вершины\n",
    "PATH_1 = [1, 2, 3, 7, 8, 9, 10]\n",
    "PATH_2 = [4, 5, 6, 7, 8, 9, 10]\n",
    "\n",
    "# до трех возможных портов\n",
    "PORTS = [[12, 14], [12, 13], [11]]\n",
    "\n",
    "TO = {\n",
    "    'Саббета 1': [PATH_1 + PORTS[0], PATH_2 + PORTS[0]],\n",
    "    'Саббета 2': [PATH_1 + PORTS[1], PATH_2 + PORTS[1]],\n",
    "    'Саббета 3': [PATH_1 + PORTS[2], PATH_2 + PORTS[2]],\n",
    "}"
   ]
  },
  {
   "cell_type": "code",
   "execution_count": 7,
   "id": "aa4cad47-e724-4947-afb0-cc221293547b",
   "metadata": {
    "tags": []
   },
   "outputs": [
    {
     "data": {
      "text/html": [
       "<div>\n",
       "<style scoped>\n",
       "    .dataframe tbody tr th:only-of-type {\n",
       "        vertical-align: middle;\n",
       "    }\n",
       "\n",
       "    .dataframe tbody tr th {\n",
       "        vertical-align: top;\n",
       "    }\n",
       "\n",
       "    .dataframe thead th {\n",
       "        text-align: right;\n",
       "    }\n",
       "</style>\n",
       "<table border=\"1\" class=\"dataframe\">\n",
       "  <thead>\n",
       "    <tr style=\"text-align: right;\">\n",
       "      <th></th>\n",
       "      <th>name</th>\n",
       "      <th>imo</th>\n",
       "      <th>ice_class</th>\n",
       "      <th>speed</th>\n",
       "      <th>start_point</th>\n",
       "      <th>end_point</th>\n",
       "      <th>date_start</th>\n",
       "      <th>date_end</th>\n",
       "    </tr>\n",
       "  </thead>\n",
       "  <tbody>\n",
       "    <tr>\n",
       "      <th>0</th>\n",
       "      <td>Штурман Альбанов</td>\n",
       "      <td>9752084</td>\n",
       "      <td>Arc7</td>\n",
       "      <td>27.78</td>\n",
       "      <td>точка в Баренцевом море</td>\n",
       "      <td>Саббета 3</td>\n",
       "      <td>2021-01-01 23:30:00</td>\n",
       "      <td>2021-01-05 05:00:00</td>\n",
       "    </tr>\n",
       "    <tr>\n",
       "      <th>1</th>\n",
       "      <td>Штурман Альбанов</td>\n",
       "      <td>9752084</td>\n",
       "      <td>Arc7</td>\n",
       "      <td>27.78</td>\n",
       "      <td>Саббета 3</td>\n",
       "      <td>точка в Баренцевом море</td>\n",
       "      <td>2021-01-06 11:00:00</td>\n",
       "      <td>2021-01-10 18:00:00</td>\n",
       "    </tr>\n",
       "    <tr>\n",
       "      <th>2</th>\n",
       "      <td>Штурман Альбанов</td>\n",
       "      <td>9752084</td>\n",
       "      <td>Arc7</td>\n",
       "      <td>27.78</td>\n",
       "      <td>точка в Баренцевом море</td>\n",
       "      <td>Саббета 3</td>\n",
       "      <td>2021-01-12 18:00:00</td>\n",
       "      <td>2021-01-16 22:00:00</td>\n",
       "    </tr>\n",
       "    <tr>\n",
       "      <th>3</th>\n",
       "      <td>Штурман Альбанов</td>\n",
       "      <td>9752084</td>\n",
       "      <td>Arc7</td>\n",
       "      <td>27.78</td>\n",
       "      <td>Саббета 3</td>\n",
       "      <td>точка в Баренцевом море</td>\n",
       "      <td>2021-01-17 06:00:00</td>\n",
       "      <td>2021-01-21 20:45:00</td>\n",
       "    </tr>\n",
       "    <tr>\n",
       "      <th>4</th>\n",
       "      <td>Штурман Альбанов</td>\n",
       "      <td>9752084</td>\n",
       "      <td>Arc7</td>\n",
       "      <td>27.78</td>\n",
       "      <td>точка в Баренцевом море</td>\n",
       "      <td>Саббета 3</td>\n",
       "      <td>2021-01-21 09:00:00</td>\n",
       "      <td>2021-01-26 22:00:00</td>\n",
       "    </tr>\n",
       "  </tbody>\n",
       "</table>\n",
       "</div>"
      ],
      "text/plain": [
       "               name      imo ice_class  speed              start_point  \\\n",
       "0  Штурман Альбанов  9752084      Arc7  27.78  точка в Баренцевом море   \n",
       "1  Штурман Альбанов  9752084      Arc7  27.78                Саббета 3   \n",
       "2  Штурман Альбанов  9752084      Arc7  27.78  точка в Баренцевом море   \n",
       "3  Штурман Альбанов  9752084      Arc7  27.78                Саббета 3   \n",
       "4  Штурман Альбанов  9752084      Arc7  27.78  точка в Баренцевом море   \n",
       "\n",
       "                 end_point          date_start            date_end  \n",
       "0                Саббета 3 2021-01-01 23:30:00 2021-01-05 05:00:00  \n",
       "1  точка в Баренцевом море 2021-01-06 11:00:00 2021-01-10 18:00:00  \n",
       "2                Саббета 3 2021-01-12 18:00:00 2021-01-16 22:00:00  \n",
       "3  точка в Баренцевом море 2021-01-17 06:00:00 2021-01-21 20:45:00  \n",
       "4                Саббета 3 2021-01-21 09:00:00 2021-01-26 22:00:00  "
      ]
     },
     "execution_count": 7,
     "metadata": {},
     "output_type": "execute_result"
    }
   ],
   "source": [
    "requests = pd.read_csv('requests.csv', encoding='utf-8', sep=';')\n",
    "\n",
    "requests['Дата и время начала плавания'] = pd.to_datetime(requests['Дата и время начала плавания'], format='%d.%m.%Y %H:%M')\n",
    "requests['Дата и время окончания плавания'] = pd.to_datetime(requests['Дата и время окончания плавания'], format='%d.%m.%Y %H:%M')\n",
    "\n",
    "requests.columns = [\n",
    "    'name', 'imo', 'ice_class', 'speed', 'start_point', 'end_point', 'date_start', 'date_end'\n",
    "]\n",
    "\n",
    "requests.start_point = requests.start_point.str.strip()\n",
    "\n",
    "for val in range(1, 3):\n",
    "    requests.start_point = requests.start_point.str.replace(f'Сабетта {val}', f'Саббета {val}')\n",
    "    requests.end_point = requests.end_point.str.replace(f'Сабетта {val}', f'Саббета {val}')\n",
    "\n",
    "requests.speed *= 1.852  # переводим уздлы в км/ч \n",
    "\n",
    "requests.head()"
   ]
  },
  {
   "cell_type": "code",
   "execution_count": 8,
   "id": "11055a89-13a7-4113-b377-f010429b6b8a",
   "metadata": {
    "tags": []
   },
   "outputs": [],
   "source": [
    "# функция для учета дней в декабре и феврале \n",
    "def clip_day(date):\n",
    "    if date.month == 12:\n",
    "        return 1\n",
    "    if date.month == 2 or date.day == 31:\n",
    "        return 30\n",
    "    return date.day\n",
    "\n",
    "# функция для определения необходимости проводки\n",
    "def is_wiring_needed(ice_class, speed, start_point, end_point, date_start, date_end): \n",
    "    if 'Саббета' in start_point:\n",
    "        routes = [route[::-1] for route in TO[start_point]]\n",
    "    else:\n",
    "        routes = TO[end_point]\n",
    "    \n",
    "    start_day = clip_day(date_start)\n",
    "    end_day = clip_day(date_end)\n",
    "    \n",
    "    for route in routes:\n",
    "        max_difficulty = cohesion[cohesion.edge_num.isin(route)].loc[:, str(start_day):str(end_day)].values.max()\n",
    "        mode = traffic_mode[traffic_mode.ice_class == ice_class][max_difficulty].values[0]\n",
    "        decreased_speed = speed * (1 - max_difficulty * 0.07)\n",
    "        \n",
    "        if decreased_speed < 9 * 1.852:\n",
    "            return True\n",
    "        if mode != 'self':\n",
    "            return True\n",
    "    return False         "
   ]
  },
  {
   "cell_type": "code",
   "execution_count": 9,
   "id": "63865bdb-01de-4d76-a6c3-259aa557bc68",
   "metadata": {
    "tags": []
   },
   "outputs": [],
   "source": [
    "requests['wiring_needed'] = requests.apply(lambda x: is_wiring_needed(x['ice_class'], x['speed'], x['start_point'], x['end_point'], x['date_start'], x['date_end']), axis=1)"
   ]
  },
  {
   "cell_type": "code",
   "execution_count": 10,
   "id": "75fa3077-3623-4eb0-a07f-e31e6e64c798",
   "metadata": {
    "tags": []
   },
   "outputs": [
    {
     "data": {
      "text/plain": [
       "array(['точка в Баренцевом море', 'Саббета 3', 'Саббета 2', 'Саббета 1'],\n",
       "      dtype=object)"
      ]
     },
     "execution_count": 10,
     "metadata": {},
     "output_type": "execute_result"
    }
   ],
   "source": [
    "requests['start_point'].unique()"
   ]
  },
  {
   "cell_type": "code",
   "execution_count": 11,
   "id": "824e6941-7c43-48b2-abb1-35370651d9a2",
   "metadata": {
    "tags": []
   },
   "outputs": [
    {
     "name": "stdout",
     "output_type": "stream",
     "text": [
      "Уникальных судов:  17\n"
     ]
    }
   ],
   "source": [
    "print('Уникальных судов: ', requests.imo.nunique())"
   ]
  },
  {
   "cell_type": "code",
   "execution_count": 12,
   "id": "c27efa49-3eac-4883-aea8-b130476fceb1",
   "metadata": {
    "tags": []
   },
   "outputs": [
    {
     "name": "stdout",
     "output_type": "stream",
     "text": [
      "Уникальные классы судов\n"
     ]
    },
    {
     "data": {
      "text/html": [
       "<div>\n",
       "<style scoped>\n",
       "    .dataframe tbody tr th:only-of-type {\n",
       "        vertical-align: middle;\n",
       "    }\n",
       "\n",
       "    .dataframe tbody tr th {\n",
       "        vertical-align: top;\n",
       "    }\n",
       "\n",
       "    .dataframe thead th {\n",
       "        text-align: right;\n",
       "    }\n",
       "</style>\n",
       "<table border=\"1\" class=\"dataframe\">\n",
       "  <thead>\n",
       "    <tr style=\"text-align: right;\">\n",
       "      <th></th>\n",
       "      <th>imo</th>\n",
       "    </tr>\n",
       "    <tr>\n",
       "      <th>ice_class</th>\n",
       "      <th></th>\n",
       "    </tr>\n",
       "  </thead>\n",
       "  <tbody>\n",
       "    <tr>\n",
       "      <th>Arc4</th>\n",
       "      <td>4</td>\n",
       "    </tr>\n",
       "    <tr>\n",
       "      <th>Arc5</th>\n",
       "      <td>3</td>\n",
       "    </tr>\n",
       "    <tr>\n",
       "      <th>Arc7</th>\n",
       "      <td>8</td>\n",
       "    </tr>\n",
       "    <tr>\n",
       "      <th>No ice class</th>\n",
       "      <td>2</td>\n",
       "    </tr>\n",
       "  </tbody>\n",
       "</table>\n",
       "</div>"
      ],
      "text/plain": [
       "              imo\n",
       "ice_class        \n",
       "Arc4            4\n",
       "Arc5            3\n",
       "Arc7            8\n",
       "No ice class    2"
      ]
     },
     "execution_count": 12,
     "metadata": {},
     "output_type": "execute_result"
    }
   ],
   "source": [
    "print('Уникальные классы судов')\n",
    "requests.pivot_table(index='ice_class', values='imo', aggfunc='nunique')"
   ]
  },
  {
   "cell_type": "code",
   "execution_count": 13,
   "id": "a7d2f66f-90b7-4ece-a862-96fc6df7b233",
   "metadata": {
    "tags": []
   },
   "outputs": [],
   "source": [
    "POINT_IN_SEA = (69.930300, 46.142578)\n",
    "SABBETA_1 = (68.664551, 73.528748)\n",
    "SABBETA_2 = (71.033035, 73.712769)\n",
    "SABBETA_3 = (71.244356, 72.202148)\n",
    "\n",
    "def set_point_coordinates(name):\n",
    "    if name == 'точка в Баренцевом море':\n",
    "        return POINT_IN_SEA\n",
    "    if name == 'Саббета 3':\n",
    "        return SABBETA_3\n",
    "    if name == 'Саббета 2':\n",
    "        return SABBETA_2\n",
    "    if name == 'Саббета 1':\n",
    "        return SABBETA_1\n",
    "    \n",
    "requests['start_point_coord'] = requests['start_point'].apply(set_point_coordinates)\n",
    "requests['end_point_coord'] = requests['end_point'].apply(set_point_coordinates)"
   ]
  },
  {
   "cell_type": "code",
   "execution_count": 175,
   "id": "3ed73cc8-c330-4889-81c8-375aa1dd5443",
   "metadata": {
    "tags": []
   },
   "outputs": [
    {
     "data": {
      "text/html": [
       "<div>\n",
       "<style scoped>\n",
       "    .dataframe tbody tr th:only-of-type {\n",
       "        vertical-align: middle;\n",
       "    }\n",
       "\n",
       "    .dataframe tbody tr th {\n",
       "        vertical-align: top;\n",
       "    }\n",
       "\n",
       "    .dataframe thead th {\n",
       "        text-align: right;\n",
       "    }\n",
       "</style>\n",
       "<table border=\"1\" class=\"dataframe\">\n",
       "  <thead>\n",
       "    <tr style=\"text-align: right;\">\n",
       "      <th></th>\n",
       "      <th>name</th>\n",
       "      <th>imo</th>\n",
       "      <th>ice_class</th>\n",
       "      <th>speed</th>\n",
       "      <th>start_point</th>\n",
       "      <th>end_point</th>\n",
       "      <th>date_start</th>\n",
       "      <th>date_end</th>\n",
       "      <th>wiring_needed</th>\n",
       "      <th>start_point_coord</th>\n",
       "      <th>end_point_coord</th>\n",
       "    </tr>\n",
       "  </thead>\n",
       "  <tbody>\n",
       "    <tr>\n",
       "      <th>42</th>\n",
       "      <td>LNG DUBHE</td>\n",
       "      <td>9834296</td>\n",
       "      <td>No ice class</td>\n",
       "      <td>29.632</td>\n",
       "      <td>Саббета 1</td>\n",
       "      <td>точка в Баренцевом море</td>\n",
       "      <td>2021-01-06 15:00:00</td>\n",
       "      <td>2021-01-08 16:00:00</td>\n",
       "      <td>True</td>\n",
       "      <td>(68.664551, 73.528748)</td>\n",
       "      <td>(69.9303, 46.142578)</td>\n",
       "    </tr>\n",
       "    <tr>\n",
       "      <th>43</th>\n",
       "      <td>LNG DUBHE</td>\n",
       "      <td>9834296</td>\n",
       "      <td>No ice class</td>\n",
       "      <td>29.632</td>\n",
       "      <td>точка в Баренцевом море</td>\n",
       "      <td>Саббета 1</td>\n",
       "      <td>2021-01-12 10:00:00</td>\n",
       "      <td>2021-01-14 16:30:00</td>\n",
       "      <td>True</td>\n",
       "      <td>(69.9303, 46.142578)</td>\n",
       "      <td>(68.664551, 73.528748)</td>\n",
       "    </tr>\n",
       "    <tr>\n",
       "      <th>44</th>\n",
       "      <td>LNG DUBHE</td>\n",
       "      <td>9834296</td>\n",
       "      <td>No ice class</td>\n",
       "      <td>29.632</td>\n",
       "      <td>Саббета 1</td>\n",
       "      <td>точка в Баренцевом море</td>\n",
       "      <td>2021-01-13 19:30:00</td>\n",
       "      <td>2021-01-15 10:00:00</td>\n",
       "      <td>True</td>\n",
       "      <td>(68.664551, 73.528748)</td>\n",
       "      <td>(69.9303, 46.142578)</td>\n",
       "    </tr>\n",
       "    <tr>\n",
       "      <th>45</th>\n",
       "      <td>LNG DUBHE</td>\n",
       "      <td>9834296</td>\n",
       "      <td>No ice class</td>\n",
       "      <td>29.632</td>\n",
       "      <td>точка в Баренцевом море</td>\n",
       "      <td>Саббета 1</td>\n",
       "      <td>2021-01-22 07:00:00</td>\n",
       "      <td>2021-01-24 18:30:00</td>\n",
       "      <td>True</td>\n",
       "      <td>(69.9303, 46.142578)</td>\n",
       "      <td>(68.664551, 73.528748)</td>\n",
       "    </tr>\n",
       "    <tr>\n",
       "      <th>46</th>\n",
       "      <td>LNG DUBHE</td>\n",
       "      <td>9834296</td>\n",
       "      <td>No ice class</td>\n",
       "      <td>29.632</td>\n",
       "      <td>Саббета 1</td>\n",
       "      <td>точка в Баренцевом море</td>\n",
       "      <td>2021-01-23 00:30:00</td>\n",
       "      <td>2021-01-25 23:30:00</td>\n",
       "      <td>True</td>\n",
       "      <td>(68.664551, 73.528748)</td>\n",
       "      <td>(69.9303, 46.142578)</td>\n",
       "    </tr>\n",
       "  </tbody>\n",
       "</table>\n",
       "</div>"
      ],
      "text/plain": [
       "         name      imo     ice_class   speed              start_point  \\\n",
       "42  LNG DUBHE  9834296  No ice class  29.632                Саббета 1   \n",
       "43  LNG DUBHE  9834296  No ice class  29.632  точка в Баренцевом море   \n",
       "44  LNG DUBHE  9834296  No ice class  29.632                Саббета 1   \n",
       "45  LNG DUBHE  9834296  No ice class  29.632  точка в Баренцевом море   \n",
       "46  LNG DUBHE  9834296  No ice class  29.632                Саббета 1   \n",
       "\n",
       "                  end_point          date_start            date_end  \\\n",
       "42  точка в Баренцевом море 2021-01-06 15:00:00 2021-01-08 16:00:00   \n",
       "43                Саббета 1 2021-01-12 10:00:00 2021-01-14 16:30:00   \n",
       "44  точка в Баренцевом море 2021-01-13 19:30:00 2021-01-15 10:00:00   \n",
       "45                Саббета 1 2021-01-22 07:00:00 2021-01-24 18:30:00   \n",
       "46  точка в Баренцевом море 2021-01-23 00:30:00 2021-01-25 23:30:00   \n",
       "\n",
       "    wiring_needed       start_point_coord         end_point_coord  \n",
       "42           True  (68.664551, 73.528748)    (69.9303, 46.142578)  \n",
       "43           True    (69.9303, 46.142578)  (68.664551, 73.528748)  \n",
       "44           True  (68.664551, 73.528748)    (69.9303, 46.142578)  \n",
       "45           True    (69.9303, 46.142578)  (68.664551, 73.528748)  \n",
       "46           True  (68.664551, 73.528748)    (69.9303, 46.142578)  "
      ]
     },
     "execution_count": 175,
     "metadata": {},
     "output_type": "execute_result"
    }
   ],
   "source": [
    "requests.tail()"
   ]
  },
  {
   "cell_type": "code",
   "execution_count": 15,
   "id": "d6801c53-3263-4582-a1ca-b808b5480993",
   "metadata": {
    "tags": []
   },
   "outputs": [
    {
     "data": {
      "text/html": [
       "<div>\n",
       "<style scoped>\n",
       "    .dataframe tbody tr th:only-of-type {\n",
       "        vertical-align: middle;\n",
       "    }\n",
       "\n",
       "    .dataframe tbody tr th {\n",
       "        vertical-align: top;\n",
       "    }\n",
       "\n",
       "    .dataframe thead th {\n",
       "        text-align: right;\n",
       "    }\n",
       "</style>\n",
       "<table border=\"1\" class=\"dataframe\">\n",
       "  <thead>\n",
       "    <tr style=\"text-align: right;\">\n",
       "      <th></th>\n",
       "      <th>edge_num</th>\n",
       "      <th>50 лет Победы</th>\n",
       "      <th>Ямал</th>\n",
       "      <th>Таймыр</th>\n",
       "      <th>Вайгач</th>\n",
       "    </tr>\n",
       "  </thead>\n",
       "  <tbody>\n",
       "    <tr>\n",
       "      <th>0</th>\n",
       "      <td>1</td>\n",
       "      <td>1</td>\n",
       "      <td>1</td>\n",
       "      <td>1</td>\n",
       "      <td>1</td>\n",
       "    </tr>\n",
       "    <tr>\n",
       "      <th>1</th>\n",
       "      <td>2</td>\n",
       "      <td>1</td>\n",
       "      <td>1</td>\n",
       "      <td>1</td>\n",
       "      <td>1</td>\n",
       "    </tr>\n",
       "    <tr>\n",
       "      <th>2</th>\n",
       "      <td>3</td>\n",
       "      <td>1</td>\n",
       "      <td>1</td>\n",
       "      <td>1</td>\n",
       "      <td>1</td>\n",
       "    </tr>\n",
       "    <tr>\n",
       "      <th>3</th>\n",
       "      <td>4</td>\n",
       "      <td>1</td>\n",
       "      <td>1</td>\n",
       "      <td>1</td>\n",
       "      <td>1</td>\n",
       "    </tr>\n",
       "    <tr>\n",
       "      <th>4</th>\n",
       "      <td>5</td>\n",
       "      <td>1</td>\n",
       "      <td>1</td>\n",
       "      <td>1</td>\n",
       "      <td>1</td>\n",
       "    </tr>\n",
       "    <tr>\n",
       "      <th>5</th>\n",
       "      <td>6</td>\n",
       "      <td>1</td>\n",
       "      <td>1</td>\n",
       "      <td>1</td>\n",
       "      <td>1</td>\n",
       "    </tr>\n",
       "    <tr>\n",
       "      <th>6</th>\n",
       "      <td>7</td>\n",
       "      <td>1</td>\n",
       "      <td>1</td>\n",
       "      <td>1</td>\n",
       "      <td>1</td>\n",
       "    </tr>\n",
       "    <tr>\n",
       "      <th>7</th>\n",
       "      <td>8</td>\n",
       "      <td>1</td>\n",
       "      <td>1</td>\n",
       "      <td>1</td>\n",
       "      <td>1</td>\n",
       "    </tr>\n",
       "    <tr>\n",
       "      <th>8</th>\n",
       "      <td>9</td>\n",
       "      <td>1</td>\n",
       "      <td>1</td>\n",
       "      <td>1</td>\n",
       "      <td>1</td>\n",
       "    </tr>\n",
       "    <tr>\n",
       "      <th>9</th>\n",
       "      <td>10</td>\n",
       "      <td>1</td>\n",
       "      <td>1</td>\n",
       "      <td>1</td>\n",
       "      <td>1</td>\n",
       "    </tr>\n",
       "    <tr>\n",
       "      <th>10</th>\n",
       "      <td>11</td>\n",
       "      <td>1</td>\n",
       "      <td>1</td>\n",
       "      <td>1</td>\n",
       "      <td>1</td>\n",
       "    </tr>\n",
       "    <tr>\n",
       "      <th>11</th>\n",
       "      <td>12</td>\n",
       "      <td>1</td>\n",
       "      <td>1</td>\n",
       "      <td>1</td>\n",
       "      <td>1</td>\n",
       "    </tr>\n",
       "    <tr>\n",
       "      <th>12</th>\n",
       "      <td>13</td>\n",
       "      <td>1</td>\n",
       "      <td>1</td>\n",
       "      <td>1</td>\n",
       "      <td>1</td>\n",
       "    </tr>\n",
       "    <tr>\n",
       "      <th>13</th>\n",
       "      <td>14</td>\n",
       "      <td>0</td>\n",
       "      <td>0</td>\n",
       "      <td>1</td>\n",
       "      <td>1</td>\n",
       "    </tr>\n",
       "  </tbody>\n",
       "</table>\n",
       "</div>"
      ],
      "text/plain": [
       "    edge_num  50 лет Победы  Ямал  Таймыр  Вайгач\n",
       "0          1              1     1       1       1\n",
       "1          2              1     1       1       1\n",
       "2          3              1     1       1       1\n",
       "3          4              1     1       1       1\n",
       "4          5              1     1       1       1\n",
       "5          6              1     1       1       1\n",
       "6          7              1     1       1       1\n",
       "7          8              1     1       1       1\n",
       "8          9              1     1       1       1\n",
       "9         10              1     1       1       1\n",
       "10        11              1     1       1       1\n",
       "11        12              1     1       1       1\n",
       "12        13              1     1       1       1\n",
       "13        14              0     0       1       1"
      ]
     },
     "execution_count": 15,
     "metadata": {},
     "output_type": "execute_result"
    }
   ],
   "source": [
    "graph_availability = pd.read_csv('graph_availability.csv', encoding='utf-8', sep=';')\n",
    "graph_availability = graph_availability.rename(columns={\n",
    "    'Номер ребра': 'edge_num',\n",
    "})\n",
    "graph_availability"
   ]
  },
  {
   "cell_type": "code",
   "execution_count": 16,
   "id": "ccf7353b-3017-4c1a-8999-503f9831ee20",
   "metadata": {
    "tags": []
   },
   "outputs": [],
   "source": [
    "coordinates = pd.read_csv('json_coords.csv', encoding='utf-8', sep=',')\n",
    "coordinates = coordinates.drop(['type', 'geometry_type'], axis=1)\n",
    "coordinates = coordinates.rename(columns={\n",
    "    'properties_id': 'edge_num',\n",
    "    'geometry_coordinates_0_1': 'lat_0',\n",
    "    'geometry_coordinates_0_0': 'lon_0',\n",
    "    'geometry_coordinates_1_1': 'lat_1', \n",
    "    'geometry_coordinates_1_0': 'lon_1'})"
   ]
  },
  {
   "cell_type": "code",
   "execution_count": 17,
   "id": "58fb8a03-53f0-41bc-8a5e-3e92a9b95419",
   "metadata": {
    "tags": []
   },
   "outputs": [
    {
     "data": {
      "application/vnd.plotly.v1+json": {
       "config": {
        "plotlyServerURL": "https://plot.ly"
       },
       "data": [
        {
         "hoverinfo": "text",
         "lat": [
          69.93030017617484,
          70.4367988185464
         ],
         "lon": [
          46.142578125,
          57.74414062500001
         ],
         "mode": "lines",
         "text": "1",
         "type": "scattergeo"
        },
        {
         "hoverinfo": "text",
         "lat": [
          70.4367988185464,
          73.53462847039683
         ],
         "lon": [
          57.74414062500001,
          66.20361328125
         ],
         "mode": "lines",
         "text": "2",
         "type": "scattergeo"
        },
        {
         "hoverinfo": "text",
         "lat": [
          73.53462847039683,
          73.77577986189993
         ],
         "lon": [
          66.20361328125,
          71.54296874999999
         ],
         "mode": "lines",
         "text": "3",
         "type": "scattergeo"
        },
        {
         "hoverinfo": "text",
         "lat": [
          69.93030017617484,
          76.2059670431415
         ],
         "lon": [
          46.142578125,
          55.01953125
         ],
         "mode": "lines",
         "text": "4",
         "type": "scattergeo"
        },
        {
         "hoverinfo": "text",
         "lat": [
          76.2059670431415,
          77.44694030325893
         ],
         "lon": [
          55.01953125,
          68.90625
         ],
         "mode": "lines",
         "text": "5",
         "type": "scattergeo"
        },
        {
         "hoverinfo": "text",
         "lat": [
          77.44694030325893,
          73.77577986189993
         ],
         "lon": [
          68.90625,
          71.54296874999999
         ],
         "mode": "lines",
         "text": "6",
         "type": "scattergeo"
        },
        {
         "hoverinfo": "text",
         "lat": [
          73.77577986189993,
          72.76406472320436
         ],
         "lon": [
          71.54296874999999,
          73.125
         ],
         "mode": "lines",
         "text": "7",
         "type": "scattergeo"
        },
        {
         "hoverinfo": "text",
         "lat": [
          72.76406472320436,
          72.63337363853837
         ],
         "lon": [
          73.125,
          74.02587890625
         ],
         "mode": "lines",
         "text": "8",
         "type": "scattergeo"
        },
        {
         "hoverinfo": "text",
         "lat": [
          72.63337363853837,
          72.0739114882038
         ],
         "lon": [
          74.02587890625,
          72.92724609375
         ],
         "mode": "lines",
         "text": "9",
         "type": "scattergeo"
        },
        {
         "hoverinfo": "text",
         "lat": [
          72.0739114882038,
          71.30783606806223
         ],
         "lon": [
          72.92724609375,
          72.59765625
         ],
         "mode": "lines",
         "text": "10",
         "type": "scattergeo"
        },
        {
         "hoverinfo": "text",
         "lat": [
          71.30783606806223,
          71.24435551310674
         ],
         "lon": [
          72.59765625,
          72.2021484375
         ],
         "mode": "lines",
         "text": "11",
         "type": "scattergeo"
        },
        {
         "hoverinfo": "text",
         "lat": [
          71.30783606806223,
          70.9722375547307
         ],
         "lon": [
          72.59765625,
          73.32275390625
         ],
         "mode": "lines",
         "text": "12",
         "type": "scattergeo"
        },
        {
         "hoverinfo": "text",
         "lat": [
          70.9722375547307,
          71.03303495416577
         ],
         "lon": [
          73.32275390625,
          73.7127685546875
         ],
         "mode": "lines",
         "text": "13",
         "type": "scattergeo"
        },
        {
         "hoverinfo": "text",
         "lat": [
          70.9722375547307,
          68.66455067163206
         ],
         "lon": [
          73.32275390625,
          73.52874755859375
         ],
         "mode": "lines",
         "text": "14",
         "type": "scattergeo"
        }
       ],
       "layout": {
        "geo": {
         "center": {
          "lat": 74.05568284519424,
          "lon": 61.229840770280916
         },
         "lataxis": {
          "dtick": 10,
          "range": [
           67.93030017617484,
           79.44694030325893
          ],
          "showgrid": true
         },
         "lonaxis": {
          "dtick": 20,
          "range": [
           44.142578125,
           76.02587890625
          ],
          "showgrid": true
         },
         "projection": {
          "rotation": {
           "lon": -298.77015922971907
          },
          "scale": 0.8497305478221009
         }
        },
        "height": 700,
        "showlegend": false,
        "template": {
         "data": {
          "bar": [
           {
            "error_x": {
             "color": "#2a3f5f"
            },
            "error_y": {
             "color": "#2a3f5f"
            },
            "marker": {
             "line": {
              "color": "#E5ECF6",
              "width": 0.5
             },
             "pattern": {
              "fillmode": "overlay",
              "size": 10,
              "solidity": 0.2
             }
            },
            "type": "bar"
           }
          ],
          "barpolar": [
           {
            "marker": {
             "line": {
              "color": "#E5ECF6",
              "width": 0.5
             },
             "pattern": {
              "fillmode": "overlay",
              "size": 10,
              "solidity": 0.2
             }
            },
            "type": "barpolar"
           }
          ],
          "carpet": [
           {
            "aaxis": {
             "endlinecolor": "#2a3f5f",
             "gridcolor": "white",
             "linecolor": "white",
             "minorgridcolor": "white",
             "startlinecolor": "#2a3f5f"
            },
            "baxis": {
             "endlinecolor": "#2a3f5f",
             "gridcolor": "white",
             "linecolor": "white",
             "minorgridcolor": "white",
             "startlinecolor": "#2a3f5f"
            },
            "type": "carpet"
           }
          ],
          "choropleth": [
           {
            "colorbar": {
             "outlinewidth": 0,
             "ticks": ""
            },
            "type": "choropleth"
           }
          ],
          "contour": [
           {
            "colorbar": {
             "outlinewidth": 0,
             "ticks": ""
            },
            "colorscale": [
             [
              0,
              "#0d0887"
             ],
             [
              0.1111111111111111,
              "#46039f"
             ],
             [
              0.2222222222222222,
              "#7201a8"
             ],
             [
              0.3333333333333333,
              "#9c179e"
             ],
             [
              0.4444444444444444,
              "#bd3786"
             ],
             [
              0.5555555555555556,
              "#d8576b"
             ],
             [
              0.6666666666666666,
              "#ed7953"
             ],
             [
              0.7777777777777778,
              "#fb9f3a"
             ],
             [
              0.8888888888888888,
              "#fdca26"
             ],
             [
              1,
              "#f0f921"
             ]
            ],
            "type": "contour"
           }
          ],
          "contourcarpet": [
           {
            "colorbar": {
             "outlinewidth": 0,
             "ticks": ""
            },
            "type": "contourcarpet"
           }
          ],
          "heatmap": [
           {
            "colorbar": {
             "outlinewidth": 0,
             "ticks": ""
            },
            "colorscale": [
             [
              0,
              "#0d0887"
             ],
             [
              0.1111111111111111,
              "#46039f"
             ],
             [
              0.2222222222222222,
              "#7201a8"
             ],
             [
              0.3333333333333333,
              "#9c179e"
             ],
             [
              0.4444444444444444,
              "#bd3786"
             ],
             [
              0.5555555555555556,
              "#d8576b"
             ],
             [
              0.6666666666666666,
              "#ed7953"
             ],
             [
              0.7777777777777778,
              "#fb9f3a"
             ],
             [
              0.8888888888888888,
              "#fdca26"
             ],
             [
              1,
              "#f0f921"
             ]
            ],
            "type": "heatmap"
           }
          ],
          "heatmapgl": [
           {
            "colorbar": {
             "outlinewidth": 0,
             "ticks": ""
            },
            "colorscale": [
             [
              0,
              "#0d0887"
             ],
             [
              0.1111111111111111,
              "#46039f"
             ],
             [
              0.2222222222222222,
              "#7201a8"
             ],
             [
              0.3333333333333333,
              "#9c179e"
             ],
             [
              0.4444444444444444,
              "#bd3786"
             ],
             [
              0.5555555555555556,
              "#d8576b"
             ],
             [
              0.6666666666666666,
              "#ed7953"
             ],
             [
              0.7777777777777778,
              "#fb9f3a"
             ],
             [
              0.8888888888888888,
              "#fdca26"
             ],
             [
              1,
              "#f0f921"
             ]
            ],
            "type": "heatmapgl"
           }
          ],
          "histogram": [
           {
            "marker": {
             "pattern": {
              "fillmode": "overlay",
              "size": 10,
              "solidity": 0.2
             }
            },
            "type": "histogram"
           }
          ],
          "histogram2d": [
           {
            "colorbar": {
             "outlinewidth": 0,
             "ticks": ""
            },
            "colorscale": [
             [
              0,
              "#0d0887"
             ],
             [
              0.1111111111111111,
              "#46039f"
             ],
             [
              0.2222222222222222,
              "#7201a8"
             ],
             [
              0.3333333333333333,
              "#9c179e"
             ],
             [
              0.4444444444444444,
              "#bd3786"
             ],
             [
              0.5555555555555556,
              "#d8576b"
             ],
             [
              0.6666666666666666,
              "#ed7953"
             ],
             [
              0.7777777777777778,
              "#fb9f3a"
             ],
             [
              0.8888888888888888,
              "#fdca26"
             ],
             [
              1,
              "#f0f921"
             ]
            ],
            "type": "histogram2d"
           }
          ],
          "histogram2dcontour": [
           {
            "colorbar": {
             "outlinewidth": 0,
             "ticks": ""
            },
            "colorscale": [
             [
              0,
              "#0d0887"
             ],
             [
              0.1111111111111111,
              "#46039f"
             ],
             [
              0.2222222222222222,
              "#7201a8"
             ],
             [
              0.3333333333333333,
              "#9c179e"
             ],
             [
              0.4444444444444444,
              "#bd3786"
             ],
             [
              0.5555555555555556,
              "#d8576b"
             ],
             [
              0.6666666666666666,
              "#ed7953"
             ],
             [
              0.7777777777777778,
              "#fb9f3a"
             ],
             [
              0.8888888888888888,
              "#fdca26"
             ],
             [
              1,
              "#f0f921"
             ]
            ],
            "type": "histogram2dcontour"
           }
          ],
          "mesh3d": [
           {
            "colorbar": {
             "outlinewidth": 0,
             "ticks": ""
            },
            "type": "mesh3d"
           }
          ],
          "parcoords": [
           {
            "line": {
             "colorbar": {
              "outlinewidth": 0,
              "ticks": ""
             }
            },
            "type": "parcoords"
           }
          ],
          "pie": [
           {
            "automargin": true,
            "type": "pie"
           }
          ],
          "scatter": [
           {
            "fillpattern": {
             "fillmode": "overlay",
             "size": 10,
             "solidity": 0.2
            },
            "type": "scatter"
           }
          ],
          "scatter3d": [
           {
            "line": {
             "colorbar": {
              "outlinewidth": 0,
              "ticks": ""
             }
            },
            "marker": {
             "colorbar": {
              "outlinewidth": 0,
              "ticks": ""
             }
            },
            "type": "scatter3d"
           }
          ],
          "scattercarpet": [
           {
            "marker": {
             "colorbar": {
              "outlinewidth": 0,
              "ticks": ""
             }
            },
            "type": "scattercarpet"
           }
          ],
          "scattergeo": [
           {
            "marker": {
             "colorbar": {
              "outlinewidth": 0,
              "ticks": ""
             }
            },
            "type": "scattergeo"
           }
          ],
          "scattergl": [
           {
            "marker": {
             "colorbar": {
              "outlinewidth": 0,
              "ticks": ""
             }
            },
            "type": "scattergl"
           }
          ],
          "scattermapbox": [
           {
            "marker": {
             "colorbar": {
              "outlinewidth": 0,
              "ticks": ""
             }
            },
            "type": "scattermapbox"
           }
          ],
          "scatterpolar": [
           {
            "marker": {
             "colorbar": {
              "outlinewidth": 0,
              "ticks": ""
             }
            },
            "type": "scatterpolar"
           }
          ],
          "scatterpolargl": [
           {
            "marker": {
             "colorbar": {
              "outlinewidth": 0,
              "ticks": ""
             }
            },
            "type": "scatterpolargl"
           }
          ],
          "scatterternary": [
           {
            "marker": {
             "colorbar": {
              "outlinewidth": 0,
              "ticks": ""
             }
            },
            "type": "scatterternary"
           }
          ],
          "surface": [
           {
            "colorbar": {
             "outlinewidth": 0,
             "ticks": ""
            },
            "colorscale": [
             [
              0,
              "#0d0887"
             ],
             [
              0.1111111111111111,
              "#46039f"
             ],
             [
              0.2222222222222222,
              "#7201a8"
             ],
             [
              0.3333333333333333,
              "#9c179e"
             ],
             [
              0.4444444444444444,
              "#bd3786"
             ],
             [
              0.5555555555555556,
              "#d8576b"
             ],
             [
              0.6666666666666666,
              "#ed7953"
             ],
             [
              0.7777777777777778,
              "#fb9f3a"
             ],
             [
              0.8888888888888888,
              "#fdca26"
             ],
             [
              1,
              "#f0f921"
             ]
            ],
            "type": "surface"
           }
          ],
          "table": [
           {
            "cells": {
             "fill": {
              "color": "#EBF0F8"
             },
             "line": {
              "color": "white"
             }
            },
            "header": {
             "fill": {
              "color": "#C8D4E3"
             },
             "line": {
              "color": "white"
             }
            },
            "type": "table"
           }
          ]
         },
         "layout": {
          "annotationdefaults": {
           "arrowcolor": "#2a3f5f",
           "arrowhead": 0,
           "arrowwidth": 1
          },
          "autotypenumbers": "strict",
          "coloraxis": {
           "colorbar": {
            "outlinewidth": 0,
            "ticks": ""
           }
          },
          "colorscale": {
           "diverging": [
            [
             0,
             "#8e0152"
            ],
            [
             0.1,
             "#c51b7d"
            ],
            [
             0.2,
             "#de77ae"
            ],
            [
             0.3,
             "#f1b6da"
            ],
            [
             0.4,
             "#fde0ef"
            ],
            [
             0.5,
             "#f7f7f7"
            ],
            [
             0.6,
             "#e6f5d0"
            ],
            [
             0.7,
             "#b8e186"
            ],
            [
             0.8,
             "#7fbc41"
            ],
            [
             0.9,
             "#4d9221"
            ],
            [
             1,
             "#276419"
            ]
           ],
           "sequential": [
            [
             0,
             "#0d0887"
            ],
            [
             0.1111111111111111,
             "#46039f"
            ],
            [
             0.2222222222222222,
             "#7201a8"
            ],
            [
             0.3333333333333333,
             "#9c179e"
            ],
            [
             0.4444444444444444,
             "#bd3786"
            ],
            [
             0.5555555555555556,
             "#d8576b"
            ],
            [
             0.6666666666666666,
             "#ed7953"
            ],
            [
             0.7777777777777778,
             "#fb9f3a"
            ],
            [
             0.8888888888888888,
             "#fdca26"
            ],
            [
             1,
             "#f0f921"
            ]
           ],
           "sequentialminus": [
            [
             0,
             "#0d0887"
            ],
            [
             0.1111111111111111,
             "#46039f"
            ],
            [
             0.2222222222222222,
             "#7201a8"
            ],
            [
             0.3333333333333333,
             "#9c179e"
            ],
            [
             0.4444444444444444,
             "#bd3786"
            ],
            [
             0.5555555555555556,
             "#d8576b"
            ],
            [
             0.6666666666666666,
             "#ed7953"
            ],
            [
             0.7777777777777778,
             "#fb9f3a"
            ],
            [
             0.8888888888888888,
             "#fdca26"
            ],
            [
             1,
             "#f0f921"
            ]
           ]
          },
          "colorway": [
           "#636efa",
           "#EF553B",
           "#00cc96",
           "#ab63fa",
           "#FFA15A",
           "#19d3f3",
           "#FF6692",
           "#B6E880",
           "#FF97FF",
           "#FECB52"
          ],
          "font": {
           "color": "#2a3f5f"
          },
          "geo": {
           "bgcolor": "white",
           "lakecolor": "white",
           "landcolor": "#E5ECF6",
           "showlakes": true,
           "showland": true,
           "subunitcolor": "white"
          },
          "hoverlabel": {
           "align": "left"
          },
          "hovermode": "closest",
          "mapbox": {
           "style": "light"
          },
          "paper_bgcolor": "white",
          "plot_bgcolor": "#E5ECF6",
          "polar": {
           "angularaxis": {
            "gridcolor": "white",
            "linecolor": "white",
            "ticks": ""
           },
           "bgcolor": "#E5ECF6",
           "radialaxis": {
            "gridcolor": "white",
            "linecolor": "white",
            "ticks": ""
           }
          },
          "scene": {
           "xaxis": {
            "backgroundcolor": "#E5ECF6",
            "gridcolor": "white",
            "gridwidth": 2,
            "linecolor": "white",
            "showbackground": true,
            "ticks": "",
            "zerolinecolor": "white"
           },
           "yaxis": {
            "backgroundcolor": "#E5ECF6",
            "gridcolor": "white",
            "gridwidth": 2,
            "linecolor": "white",
            "showbackground": true,
            "ticks": "",
            "zerolinecolor": "white"
           },
           "zaxis": {
            "backgroundcolor": "#E5ECF6",
            "gridcolor": "white",
            "gridwidth": 2,
            "linecolor": "white",
            "showbackground": true,
            "ticks": "",
            "zerolinecolor": "white"
           }
          },
          "shapedefaults": {
           "line": {
            "color": "#2a3f5f"
           }
          },
          "ternary": {
           "aaxis": {
            "gridcolor": "white",
            "linecolor": "white",
            "ticks": ""
           },
           "baxis": {
            "gridcolor": "white",
            "linecolor": "white",
            "ticks": ""
           },
           "bgcolor": "#E5ECF6",
           "caxis": {
            "gridcolor": "white",
            "linecolor": "white",
            "ticks": ""
           }
          },
          "title": {
           "x": 0.05
          },
          "xaxis": {
           "automargin": true,
           "gridcolor": "white",
           "linecolor": "white",
           "ticks": "",
           "title": {
            "standoff": 15
           },
           "zerolinecolor": "white",
           "zerolinewidth": 2
          },
          "yaxis": {
           "automargin": true,
           "gridcolor": "white",
           "linecolor": "white",
           "ticks": "",
           "title": {
            "standoff": 15
           },
           "zerolinecolor": "white",
           "zerolinewidth": 2
          }
         }
        },
        "width": 800
       }
      },
      "image/png": "[encoded data removed]",
      "text/html": [
       "<div>                            <div id=\"a57d5224-63b0-4e83-9213-524deb81ab6a\" class=\"plotly-graph-div\" style=\"height:700px; width:800px;\"></div>            <script type=\"text/javascript\">                require([\"plotly\"], function(Plotly) {                    window.PLOTLYENV=window.PLOTLYENV || {};                                    if (document.getElementById(\"a57d5224-63b0-4e83-9213-524deb81ab6a\")) {                    Plotly.newPlot(                        \"a57d5224-63b0-4e83-9213-524deb81ab6a\",                        [{\"hoverinfo\":\"text\",\"lat\":[69.93030017617484,70.4367988185464],\"lon\":[46.142578125,57.74414062500001],\"mode\":\"lines\",\"text\":\"1\",\"type\":\"scattergeo\"},{\"hoverinfo\":\"text\",\"lat\":[70.4367988185464,73.53462847039683],\"lon\":[57.74414062500001,66.20361328125],\"mode\":\"lines\",\"text\":\"2\",\"type\":\"scattergeo\"},{\"hoverinfo\":\"text\",\"lat\":[73.53462847039683,73.77577986189993],\"lon\":[66.20361328125,71.54296874999999],\"mode\":\"lines\",\"text\":\"3\",\"type\":\"scattergeo\"},{\"hoverinfo\":\"text\",\"lat\":[69.93030017617484,76.2059670431415],\"lon\":[46.142578125,55.01953125],\"mode\":\"lines\",\"text\":\"4\",\"type\":\"scattergeo\"},{\"hoverinfo\":\"text\",\"lat\":[76.2059670431415,77.44694030325893],\"lon\":[55.01953125,68.90625],\"mode\":\"lines\",\"text\":\"5\",\"type\":\"scattergeo\"},{\"hoverinfo\":\"text\",\"lat\":[77.44694030325893,73.77577986189993],\"lon\":[68.90625,71.54296874999999],\"mode\":\"lines\",\"text\":\"6\",\"type\":\"scattergeo\"},{\"hoverinfo\":\"text\",\"lat\":[73.77577986189993,72.76406472320436],\"lon\":[71.54296874999999,73.125],\"mode\":\"lines\",\"text\":\"7\",\"type\":\"scattergeo\"},{\"hoverinfo\":\"text\",\"lat\":[72.76406472320436,72.63337363853837],\"lon\":[73.125,74.02587890625],\"mode\":\"lines\",\"text\":\"8\",\"type\":\"scattergeo\"},{\"hoverinfo\":\"text\",\"lat\":[72.63337363853837,72.0739114882038],\"lon\":[74.02587890625,72.92724609375],\"mode\":\"lines\",\"text\":\"9\",\"type\":\"scattergeo\"},{\"hoverinfo\":\"text\",\"lat\":[72.0739114882038,71.30783606806223],\"lon\":[72.92724609375,72.59765625],\"mode\":\"lines\",\"text\":\"10\",\"type\":\"scattergeo\"},{\"hoverinfo\":\"text\",\"lat\":[71.30783606806223,71.24435551310674],\"lon\":[72.59765625,72.2021484375],\"mode\":\"lines\",\"text\":\"11\",\"type\":\"scattergeo\"},{\"hoverinfo\":\"text\",\"lat\":[71.30783606806223,70.9722375547307],\"lon\":[72.59765625,73.32275390625],\"mode\":\"lines\",\"text\":\"12\",\"type\":\"scattergeo\"},{\"hoverinfo\":\"text\",\"lat\":[70.9722375547307,71.03303495416577],\"lon\":[73.32275390625,73.7127685546875],\"mode\":\"lines\",\"text\":\"13\",\"type\":\"scattergeo\"},{\"hoverinfo\":\"text\",\"lat\":[70.9722375547307,68.66455067163206],\"lon\":[73.32275390625,73.52874755859375],\"mode\":\"lines\",\"text\":\"14\",\"type\":\"scattergeo\"}],                        {\"template\":{\"data\":{\"histogram2dcontour\":[{\"type\":\"histogram2dcontour\",\"colorbar\":{\"outlinewidth\":0,\"ticks\":\"\"},\"colorscale\":[[0.0,\"#0d0887\"],[0.1111111111111111,\"#46039f\"],[0.2222222222222222,\"#7201a8\"],[0.3333333333333333,\"#9c179e\"],[0.4444444444444444,\"#bd3786\"],[0.5555555555555556,\"#d8576b\"],[0.6666666666666666,\"#ed7953\"],[0.7777777777777778,\"#fb9f3a\"],[0.8888888888888888,\"#fdca26\"],[1.0,\"#f0f921\"]]}],\"choropleth\":[{\"type\":\"choropleth\",\"colorbar\":{\"outlinewidth\":0,\"ticks\":\"\"}}],\"histogram2d\":[{\"type\":\"histogram2d\",\"colorbar\":{\"outlinewidth\":0,\"ticks\":\"\"},\"colorscale\":[[0.0,\"#0d0887\"],[0.1111111111111111,\"#46039f\"],[0.2222222222222222,\"#7201a8\"],[0.3333333333333333,\"#9c179e\"],[0.4444444444444444,\"#bd3786\"],[0.5555555555555556,\"#d8576b\"],[0.6666666666666666,\"#ed7953\"],[0.7777777777777778,\"#fb9f3a\"],[0.8888888888888888,\"#fdca26\"],[1.0,\"#f0f921\"]]}],\"heatmap\":[{\"type\":\"heatmap\",\"colorbar\":{\"outlinewidth\":0,\"ticks\":\"\"},\"colorscale\":[[0.0,\"#0d0887\"],[0.1111111111111111,\"#46039f\"],[0.2222222222222222,\"#7201a8\"],[0.3333333333333333,\"#9c179e\"],[0.4444444444444444,\"#bd3786\"],[0.5555555555555556,\"#d8576b\"],[0.6666666666666666,\"#ed7953\"],[0.7777777777777778,\"#fb9f3a\"],[0.8888888888888888,\"#fdca26\"],[1.0,\"#f0f921\"]]}],\"heatmapgl\":[{\"type\":\"heatmapgl\",\"colorbar\":{\"outlinewidth\":0,\"ticks\":\"\"},\"colorscale\":[[0.0,\"#0d0887\"],[0.1111111111111111,\"#46039f\"],[0.2222222222222222,\"#7201a8\"],[0.3333333333333333,\"#9c179e\"],[0.4444444444444444,\"#bd3786\"],[0.5555555555555556,\"#d8576b\"],[0.6666666666666666,\"#ed7953\"],[0.7777777777777778,\"#fb9f3a\"],[0.8888888888888888,\"#fdca26\"],[1.0,\"#f0f921\"]]}],\"contourcarpet\":[{\"type\":\"contourcarpet\",\"colorbar\":{\"outlinewidth\":0,\"ticks\":\"\"}}],\"contour\":[{\"type\":\"contour\",\"colorbar\":{\"outlinewidth\":0,\"ticks\":\"\"},\"colorscale\":[[0.0,\"#0d0887\"],[0.1111111111111111,\"#46039f\"],[0.2222222222222222,\"#7201a8\"],[0.3333333333333333,\"#9c179e\"],[0.4444444444444444,\"#bd3786\"],[0.5555555555555556,\"#d8576b\"],[0.6666666666666666,\"#ed7953\"],[0.7777777777777778,\"#fb9f3a\"],[0.8888888888888888,\"#fdca26\"],[1.0,\"#f0f921\"]]}],\"surface\":[{\"type\":\"surface\",\"colorbar\":{\"outlinewidth\":0,\"ticks\":\"\"},\"colorscale\":[[0.0,\"#0d0887\"],[0.1111111111111111,\"#46039f\"],[0.2222222222222222,\"#7201a8\"],[0.3333333333333333,\"#9c179e\"],[0.4444444444444444,\"#bd3786\"],[0.5555555555555556,\"#d8576b\"],[0.6666666666666666,\"#ed7953\"],[0.7777777777777778,\"#fb9f3a\"],[0.8888888888888888,\"#fdca26\"],[1.0,\"#f0f921\"]]}],\"mesh3d\":[{\"type\":\"mesh3d\",\"colorbar\":{\"outlinewidth\":0,\"ticks\":\"\"}}],\"scatter\":[{\"fillpattern\":{\"fillmode\":\"overlay\",\"size\":10,\"solidity\":0.2},\"type\":\"scatter\"}],\"parcoords\":[{\"type\":\"parcoords\",\"line\":{\"colorbar\":{\"outlinewidth\":0,\"ticks\":\"\"}}}],\"scatterpolargl\":[{\"type\":\"scatterpolargl\",\"marker\":{\"colorbar\":{\"outlinewidth\":0,\"ticks\":\"\"}}}],\"bar\":[{\"error_x\":{\"color\":\"#2a3f5f\"},\"error_y\":{\"color\":\"#2a3f5f\"},\"marker\":{\"line\":{\"color\":\"#E5ECF6\",\"width\":0.5},\"pattern\":{\"fillmode\":\"overlay\",\"size\":10,\"solidity\":0.2}},\"type\":\"bar\"}],\"scattergeo\":[{\"type\":\"scattergeo\",\"marker\":{\"colorbar\":{\"outlinewidth\":0,\"ticks\":\"\"}}}],\"scatterpolar\":[{\"type\":\"scatterpolar\",\"marker\":{\"colorbar\":{\"outlinewidth\":0,\"ticks\":\"\"}}}],\"histogram\":[{\"marker\":{\"pattern\":{\"fillmode\":\"overlay\",\"size\":10,\"solidity\":0.2}},\"type\":\"histogram\"}],\"scattergl\":[{\"type\":\"scattergl\",\"marker\":{\"colorbar\":{\"outlinewidth\":0,\"ticks\":\"\"}}}],\"scatter3d\":[{\"type\":\"scatter3d\",\"line\":{\"colorbar\":{\"outlinewidth\":0,\"ticks\":\"\"}},\"marker\":{\"colorbar\":{\"outlinewidth\":0,\"ticks\":\"\"}}}],\"scattermapbox\":[{\"type\":\"scattermapbox\",\"marker\":{\"colorbar\":{\"outlinewidth\":0,\"ticks\":\"\"}}}],\"scatterternary\":[{\"type\":\"scatterternary\",\"marker\":{\"colorbar\":{\"outlinewidth\":0,\"ticks\":\"\"}}}],\"scattercarpet\":[{\"type\":\"scattercarpet\",\"marker\":{\"colorbar\":{\"outlinewidth\":0,\"ticks\":\"\"}}}],\"carpet\":[{\"aaxis\":{\"endlinecolor\":\"#2a3f5f\",\"gridcolor\":\"white\",\"linecolor\":\"white\",\"minorgridcolor\":\"white\",\"startlinecolor\":\"#2a3f5f\"},\"baxis\":{\"endlinecolor\":\"#2a3f5f\",\"gridcolor\":\"white\",\"linecolor\":\"white\",\"minorgridcolor\":\"white\",\"startlinecolor\":\"#2a3f5f\"},\"type\":\"carpet\"}],\"table\":[{\"cells\":{\"fill\":{\"color\":\"#EBF0F8\"},\"line\":{\"color\":\"white\"}},\"header\":{\"fill\":{\"color\":\"#C8D4E3\"},\"line\":{\"color\":\"white\"}},\"type\":\"table\"}],\"barpolar\":[{\"marker\":{\"line\":{\"color\":\"#E5ECF6\",\"width\":0.5},\"pattern\":{\"fillmode\":\"overlay\",\"size\":10,\"solidity\":0.2}},\"type\":\"barpolar\"}],\"pie\":[{\"automargin\":true,\"type\":\"pie\"}]},\"layout\":{\"autotypenumbers\":\"strict\",\"colorway\":[\"#636efa\",\"#EF553B\",\"#00cc96\",\"#ab63fa\",\"#FFA15A\",\"#19d3f3\",\"#FF6692\",\"#B6E880\",\"#FF97FF\",\"#FECB52\"],\"font\":{\"color\":\"#2a3f5f\"},\"hovermode\":\"closest\",\"hoverlabel\":{\"align\":\"left\"},\"paper_bgcolor\":\"white\",\"plot_bgcolor\":\"#E5ECF6\",\"polar\":{\"bgcolor\":\"#E5ECF6\",\"angularaxis\":{\"gridcolor\":\"white\",\"linecolor\":\"white\",\"ticks\":\"\"},\"radialaxis\":{\"gridcolor\":\"white\",\"linecolor\":\"white\",\"ticks\":\"\"}},\"ternary\":{\"bgcolor\":\"#E5ECF6\",\"aaxis\":{\"gridcolor\":\"white\",\"linecolor\":\"white\",\"ticks\":\"\"},\"baxis\":{\"gridcolor\":\"white\",\"linecolor\":\"white\",\"ticks\":\"\"},\"caxis\":{\"gridcolor\":\"white\",\"linecolor\":\"white\",\"ticks\":\"\"}},\"coloraxis\":{\"colorbar\":{\"outlinewidth\":0,\"ticks\":\"\"}},\"colorscale\":{\"sequential\":[[0.0,\"#0d0887\"],[0.1111111111111111,\"#46039f\"],[0.2222222222222222,\"#7201a8\"],[0.3333333333333333,\"#9c179e\"],[0.4444444444444444,\"#bd3786\"],[0.5555555555555556,\"#d8576b\"],[0.6666666666666666,\"#ed7953\"],[0.7777777777777778,\"#fb9f3a\"],[0.8888888888888888,\"#fdca26\"],[1.0,\"#f0f921\"]],\"sequentialminus\":[[0.0,\"#0d0887\"],[0.1111111111111111,\"#46039f\"],[0.2222222222222222,\"#7201a8\"],[0.3333333333333333,\"#9c179e\"],[0.4444444444444444,\"#bd3786\"],[0.5555555555555556,\"#d8576b\"],[0.6666666666666666,\"#ed7953\"],[0.7777777777777778,\"#fb9f3a\"],[0.8888888888888888,\"#fdca26\"],[1.0,\"#f0f921\"]],\"diverging\":[[0,\"#8e0152\"],[0.1,\"#c51b7d\"],[0.2,\"#de77ae\"],[0.3,\"#f1b6da\"],[0.4,\"#fde0ef\"],[0.5,\"#f7f7f7\"],[0.6,\"#e6f5d0\"],[0.7,\"#b8e186\"],[0.8,\"#7fbc41\"],[0.9,\"#4d9221\"],[1,\"#276419\"]]},\"xaxis\":{\"gridcolor\":\"white\",\"linecolor\":\"white\",\"ticks\":\"\",\"title\":{\"standoff\":15},\"zerolinecolor\":\"white\",\"automargin\":true,\"zerolinewidth\":2},\"yaxis\":{\"gridcolor\":\"white\",\"linecolor\":\"white\",\"ticks\":\"\",\"title\":{\"standoff\":15},\"zerolinecolor\":\"white\",\"automargin\":true,\"zerolinewidth\":2},\"scene\":{\"xaxis\":{\"backgroundcolor\":\"#E5ECF6\",\"gridcolor\":\"white\",\"linecolor\":\"white\",\"showbackground\":true,\"ticks\":\"\",\"zerolinecolor\":\"white\",\"gridwidth\":2},\"yaxis\":{\"backgroundcolor\":\"#E5ECF6\",\"gridcolor\":\"white\",\"linecolor\":\"white\",\"showbackground\":true,\"ticks\":\"\",\"zerolinecolor\":\"white\",\"gridwidth\":2},\"zaxis\":{\"backgroundcolor\":\"#E5ECF6\",\"gridcolor\":\"white\",\"linecolor\":\"white\",\"showbackground\":true,\"ticks\":\"\",\"zerolinecolor\":\"white\",\"gridwidth\":2}},\"shapedefaults\":{\"line\":{\"color\":\"#2a3f5f\"}},\"annotationdefaults\":{\"arrowcolor\":\"#2a3f5f\",\"arrowhead\":0,\"arrowwidth\":1},\"geo\":{\"bgcolor\":\"white\",\"landcolor\":\"#E5ECF6\",\"subunitcolor\":\"white\",\"showland\":true,\"showlakes\":true,\"lakecolor\":\"white\"},\"title\":{\"x\":0.05},\"mapbox\":{\"style\":\"light\"}}},\"geo\":{\"lataxis\":{\"range\":[67.93030017617484,79.44694030325893],\"showgrid\":true,\"dtick\":10},\"lonaxis\":{\"range\":[44.142578125,76.02587890625],\"showgrid\":true,\"dtick\":20}},\"width\":800,\"height\":700,\"showlegend\":false},                        {\"responsive\": true}                    ).then(function(){\n",
       "                            \n",
       "var gd = document.getElementById('a57d5224-63b0-4e83-9213-524deb81ab6a');\n",
       "var x = new MutationObserver(function (mutations, observer) {{\n",
       "        var display = window.getComputedStyle(gd).display;\n",
       "        if (!display || display === 'none') {{\n",
       "            console.log([gd, 'removed!']);\n",
       "            Plotly.purge(gd);\n",
       "            observer.disconnect();\n",
       "        }}\n",
       "}});\n",
       "\n",
       "// Listen for the removal of the full notebook cells\n",
       "var notebookContainer = gd.closest('#notebook-container');\n",
       "if (notebookContainer) {{\n",
       "    x.observe(notebookContainer, {childList: true});\n",
       "}}\n",
       "\n",
       "// Listen for the clearing of the current output cell\n",
       "var outputEl = gd.closest('.output');\n",
       "if (outputEl) {{\n",
       "    x.observe(outputEl, {childList: true});\n",
       "}}\n",
       "\n",
       "                        })                };                });            </script>        </div>"
      ]
     },
     "metadata": {},
     "output_type": "display_data"
    }
   ],
   "source": [
    "MARGIN = 2\n",
    "\n",
    "fig = go.Figure()\n",
    "\n",
    "i = 0\n",
    "while i < coordinates.shape[0]:\n",
    "\n",
    "    fig.add_trace(go.Scattergeo(\n",
    "        lon=[coordinates.loc[i, 'lon_0'], coordinates.loc[i, 'lon_1']],\n",
    "        lat=[coordinates.loc[i, 'lat_0'], coordinates.loc[i, 'lat_1']],\n",
    "        mode='lines',\n",
    "        hoverinfo='text',\n",
    "        text=str(coordinates.loc[i, 'edge_num']),\n",
    "    ))\n",
    "    \n",
    "    i += 1\n",
    "    \n",
    "fig.update_layout(\n",
    "    width = 800,\n",
    "    height = 700,\n",
    "    showlegend = False,\n",
    "    geo = dict(\n",
    "        lataxis = dict(\n",
    "            range = [coordinates.lat_0.min()-MARGIN, coordinates.lat_1.max()+MARGIN],\n",
    "            showgrid = True,\n",
    "            dtick = 10\n",
    "        ),\n",
    "        lonaxis = dict(\n",
    "            range = [coordinates.lon_0.min()-MARGIN, coordinates.lon_1.max()+MARGIN],\n",
    "            showgrid = True,\n",
    "            dtick = 20\n",
    "        ),\n",
    "    ),\n",
    ")\n",
    "    \n",
    "fig.show()"
   ]
  },
  {
   "cell_type": "code",
   "execution_count": 252,
   "id": "48aa83c9-c72c-428b-9fae-7afc9c99aa8e",
   "metadata": {
    "tags": []
   },
   "outputs": [
    {
     "data": {
      "application/vnd.plotly.v1+json": {
       "config": {
        "plotlyServerURL": "https://plot.ly"
       },
       "data": [
        {
         "name": "5",
         "type": "scatter",
         "x": [
          1,
          2,
          3,
          4,
          5,
          6,
          7,
          8,
          9,
          10,
          11,
          12,
          13,
          14
         ],
         "y": [
          0,
          1,
          2,
          0,
          0,
          1,
          2,
          2,
          3,
          3,
          3,
          3,
          3,
          3
         ]
        },
        {
         "name": "10",
         "type": "scatter",
         "x": [
          1,
          2,
          3,
          4,
          5,
          6,
          7,
          8,
          9,
          10,
          11,
          12,
          13,
          14
         ],
         "y": [
          0,
          2,
          2,
          0,
          0,
          1,
          3,
          3,
          4,
          4,
          4,
          4,
          4,
          4
         ]
        },
        {
         "name": "15",
         "type": "scatter",
         "x": [
          1,
          2,
          3,
          4,
          5,
          6,
          7,
          8,
          9,
          10,
          11,
          12,
          13,
          14
         ],
         "y": [
          0,
          3,
          3,
          0,
          1,
          2,
          3,
          4,
          5,
          5,
          5,
          5,
          5,
          4
         ]
        },
        {
         "name": "20",
         "type": "scatter",
         "x": [
          1,
          2,
          3,
          4,
          5,
          6,
          7,
          8,
          9,
          10,
          11,
          12,
          13,
          14
         ],
         "y": [
          1,
          3,
          4,
          1,
          1,
          3,
          4,
          5,
          6,
          6,
          6,
          6,
          6,
          5
         ]
        },
        {
         "name": "25",
         "type": "scatter",
         "x": [
          1,
          2,
          3,
          4,
          5,
          6,
          7,
          8,
          9,
          10,
          11,
          12,
          13,
          14
         ],
         "y": [
          1,
          4,
          5,
          1,
          1,
          4,
          6,
          6,
          7,
          7,
          7,
          7,
          7,
          6
         ]
        },
        {
         "name": "30",
         "type": "scatter",
         "x": [
          1,
          2,
          3,
          4,
          5,
          6,
          7,
          8,
          9,
          10,
          11,
          12,
          13,
          14
         ],
         "y": [
          2,
          5,
          6,
          2,
          2,
          6,
          7,
          7,
          8,
          8,
          7,
          7,
          7,
          9
         ]
        }
       ],
       "layout": {
        "autosize": true,
        "template": {
         "data": {
          "bar": [
           {
            "error_x": {
             "color": "#2a3f5f"
            },
            "error_y": {
             "color": "#2a3f5f"
            },
            "marker": {
             "line": {
              "color": "#E5ECF6",
              "width": 0.5
             },
             "pattern": {
              "fillmode": "overlay",
              "size": 10,
              "solidity": 0.2
             }
            },
            "type": "bar"
           }
          ],
          "barpolar": [
           {
            "marker": {
             "line": {
              "color": "#E5ECF6",
              "width": 0.5
             },
             "pattern": {
              "fillmode": "overlay",
              "size": 10,
              "solidity": 0.2
             }
            },
            "type": "barpolar"
           }
          ],
          "carpet": [
           {
            "aaxis": {
             "endlinecolor": "#2a3f5f",
             "gridcolor": "white",
             "linecolor": "white",
             "minorgridcolor": "white",
             "startlinecolor": "#2a3f5f"
            },
            "baxis": {
             "endlinecolor": "#2a3f5f",
             "gridcolor": "white",
             "linecolor": "white",
             "minorgridcolor": "white",
             "startlinecolor": "#2a3f5f"
            },
            "type": "carpet"
           }
          ],
          "choropleth": [
           {
            "colorbar": {
             "outlinewidth": 0,
             "ticks": ""
            },
            "type": "choropleth"
           }
          ],
          "contour": [
           {
            "colorbar": {
             "outlinewidth": 0,
             "ticks": ""
            },
            "colorscale": [
             [
              0,
              "#0d0887"
             ],
             [
              0.1111111111111111,
              "#46039f"
             ],
             [
              0.2222222222222222,
              "#7201a8"
             ],
             [
              0.3333333333333333,
              "#9c179e"
             ],
             [
              0.4444444444444444,
              "#bd3786"
             ],
             [
              0.5555555555555556,
              "#d8576b"
             ],
             [
              0.6666666666666666,
              "#ed7953"
             ],
             [
              0.7777777777777778,
              "#fb9f3a"
             ],
             [
              0.8888888888888888,
              "#fdca26"
             ],
             [
              1,
              "#f0f921"
             ]
            ],
            "type": "contour"
           }
          ],
          "contourcarpet": [
           {
            "colorbar": {
             "outlinewidth": 0,
             "ticks": ""
            },
            "type": "contourcarpet"
           }
          ],
          "heatmap": [
           {
            "colorbar": {
             "outlinewidth": 0,
             "ticks": ""
            },
            "colorscale": [
             [
              0,
              "#0d0887"
             ],
             [
              0.1111111111111111,
              "#46039f"
             ],
             [
              0.2222222222222222,
              "#7201a8"
             ],
             [
              0.3333333333333333,
              "#9c179e"
             ],
             [
              0.4444444444444444,
              "#bd3786"
             ],
             [
              0.5555555555555556,
              "#d8576b"
             ],
             [
              0.6666666666666666,
              "#ed7953"
             ],
             [
              0.7777777777777778,
              "#fb9f3a"
             ],
             [
              0.8888888888888888,
              "#fdca26"
             ],
             [
              1,
              "#f0f921"
             ]
            ],
            "type": "heatmap"
           }
          ],
          "heatmapgl": [
           {
            "colorbar": {
             "outlinewidth": 0,
             "ticks": ""
            },
            "colorscale": [
             [
              0,
              "#0d0887"
             ],
             [
              0.1111111111111111,
              "#46039f"
             ],
             [
              0.2222222222222222,
              "#7201a8"
             ],
             [
              0.3333333333333333,
              "#9c179e"
             ],
             [
              0.4444444444444444,
              "#bd3786"
             ],
             [
              0.5555555555555556,
              "#d8576b"
             ],
             [
              0.6666666666666666,
              "#ed7953"
             ],
             [
              0.7777777777777778,
              "#fb9f3a"
             ],
             [
              0.8888888888888888,
              "#fdca26"
             ],
             [
              1,
              "#f0f921"
             ]
            ],
            "type": "heatmapgl"
           }
          ],
          "histogram": [
           {
            "marker": {
             "pattern": {
              "fillmode": "overlay",
              "size": 10,
              "solidity": 0.2
             }
            },
            "type": "histogram"
           }
          ],
          "histogram2d": [
           {
            "colorbar": {
             "outlinewidth": 0,
             "ticks": ""
            },
            "colorscale": [
             [
              0,
              "#0d0887"
             ],
             [
              0.1111111111111111,
              "#46039f"
             ],
             [
              0.2222222222222222,
              "#7201a8"
             ],
             [
              0.3333333333333333,
              "#9c179e"
             ],
             [
              0.4444444444444444,
              "#bd3786"
             ],
             [
              0.5555555555555556,
              "#d8576b"
             ],
             [
              0.6666666666666666,
              "#ed7953"
             ],
             [
              0.7777777777777778,
              "#fb9f3a"
             ],
             [
              0.8888888888888888,
              "#fdca26"
             ],
             [
              1,
              "#f0f921"
             ]
            ],
            "type": "histogram2d"
           }
          ],
          "histogram2dcontour": [
           {
            "colorbar": {
             "outlinewidth": 0,
             "ticks": ""
            },
            "colorscale": [
             [
              0,
              "#0d0887"
             ],
             [
              0.1111111111111111,
              "#46039f"
             ],
             [
              0.2222222222222222,
              "#7201a8"
             ],
             [
              0.3333333333333333,
              "#9c179e"
             ],
             [
              0.4444444444444444,
              "#bd3786"
             ],
             [
              0.5555555555555556,
              "#d8576b"
             ],
             [
              0.6666666666666666,
              "#ed7953"
             ],
             [
              0.7777777777777778,
              "#fb9f3a"
             ],
             [
              0.8888888888888888,
              "#fdca26"
             ],
             [
              1,
              "#f0f921"
             ]
            ],
            "type": "histogram2dcontour"
           }
          ],
          "mesh3d": [
           {
            "colorbar": {
             "outlinewidth": 0,
             "ticks": ""
            },
            "type": "mesh3d"
           }
          ],
          "parcoords": [
           {
            "line": {
             "colorbar": {
              "outlinewidth": 0,
              "ticks": ""
             }
            },
            "type": "parcoords"
           }
          ],
          "pie": [
           {
            "automargin": true,
            "type": "pie"
           }
          ],
          "scatter": [
           {
            "fillpattern": {
             "fillmode": "overlay",
             "size": 10,
             "solidity": 0.2
            },
            "type": "scatter"
           }
          ],
          "scatter3d": [
           {
            "line": {
             "colorbar": {
              "outlinewidth": 0,
              "ticks": ""
             }
            },
            "marker": {
             "colorbar": {
              "outlinewidth": 0,
              "ticks": ""
             }
            },
            "type": "scatter3d"
           }
          ],
          "scattercarpet": [
           {
            "marker": {
             "colorbar": {
              "outlinewidth": 0,
              "ticks": ""
             }
            },
            "type": "scattercarpet"
           }
          ],
          "scattergeo": [
           {
            "marker": {
             "colorbar": {
              "outlinewidth": 0,
              "ticks": ""
             }
            },
            "type": "scattergeo"
           }
          ],
          "scattergl": [
           {
            "marker": {
             "colorbar": {
              "outlinewidth": 0,
              "ticks": ""
             }
            },
            "type": "scattergl"
           }
          ],
          "scattermapbox": [
           {
            "marker": {
             "colorbar": {
              "outlinewidth": 0,
              "ticks": ""
             }
            },
            "type": "scattermapbox"
           }
          ],
          "scatterpolar": [
           {
            "marker": {
             "colorbar": {
              "outlinewidth": 0,
              "ticks": ""
             }
            },
            "type": "scatterpolar"
           }
          ],
          "scatterpolargl": [
           {
            "marker": {
             "colorbar": {
              "outlinewidth": 0,
              "ticks": ""
             }
            },
            "type": "scatterpolargl"
           }
          ],
          "scatterternary": [
           {
            "marker": {
             "colorbar": {
              "outlinewidth": 0,
              "ticks": ""
             }
            },
            "type": "scatterternary"
           }
          ],
          "surface": [
           {
            "colorbar": {
             "outlinewidth": 0,
             "ticks": ""
            },
            "colorscale": [
             [
              0,
              "#0d0887"
             ],
             [
              0.1111111111111111,
              "#46039f"
             ],
             [
              0.2222222222222222,
              "#7201a8"
             ],
             [
              0.3333333333333333,
              "#9c179e"
             ],
             [
              0.4444444444444444,
              "#bd3786"
             ],
             [
              0.5555555555555556,
              "#d8576b"
             ],
             [
              0.6666666666666666,
              "#ed7953"
             ],
             [
              0.7777777777777778,
              "#fb9f3a"
             ],
             [
              0.8888888888888888,
              "#fdca26"
             ],
             [
              1,
              "#f0f921"
             ]
            ],
            "type": "surface"
           }
          ],
          "table": [
           {
            "cells": {
             "fill": {
              "color": "#EBF0F8"
             },
             "line": {
              "color": "white"
             }
            },
            "header": {
             "fill": {
              "color": "#C8D4E3"
             },
             "line": {
              "color": "white"
             }
            },
            "type": "table"
           }
          ]
         },
         "layout": {
          "annotationdefaults": {
           "arrowcolor": "#2a3f5f",
           "arrowhead": 0,
           "arrowwidth": 1
          },
          "autotypenumbers": "strict",
          "coloraxis": {
           "colorbar": {
            "outlinewidth": 0,
            "ticks": ""
           }
          },
          "colorscale": {
           "diverging": [
            [
             0,
             "#8e0152"
            ],
            [
             0.1,
             "#c51b7d"
            ],
            [
             0.2,
             "#de77ae"
            ],
            [
             0.3,
             "#f1b6da"
            ],
            [
             0.4,
             "#fde0ef"
            ],
            [
             0.5,
             "#f7f7f7"
            ],
            [
             0.6,
             "#e6f5d0"
            ],
            [
             0.7,
             "#b8e186"
            ],
            [
             0.8,
             "#7fbc41"
            ],
            [
             0.9,
             "#4d9221"
            ],
            [
             1,
             "#276419"
            ]
           ],
           "sequential": [
            [
             0,
             "#0d0887"
            ],
            [
             0.1111111111111111,
             "#46039f"
            ],
            [
             0.2222222222222222,
             "#7201a8"
            ],
            [
             0.3333333333333333,
             "#9c179e"
            ],
            [
             0.4444444444444444,
             "#bd3786"
            ],
            [
             0.5555555555555556,
             "#d8576b"
            ],
            [
             0.6666666666666666,
             "#ed7953"
            ],
            [
             0.7777777777777778,
             "#fb9f3a"
            ],
            [
             0.8888888888888888,
             "#fdca26"
            ],
            [
             1,
             "#f0f921"
            ]
           ],
           "sequentialminus": [
            [
             0,
             "#0d0887"
            ],
            [
             0.1111111111111111,
             "#46039f"
            ],
            [
             0.2222222222222222,
             "#7201a8"
            ],
            [
             0.3333333333333333,
             "#9c179e"
            ],
            [
             0.4444444444444444,
             "#bd3786"
            ],
            [
             0.5555555555555556,
             "#d8576b"
            ],
            [
             0.6666666666666666,
             "#ed7953"
            ],
            [
             0.7777777777777778,
             "#fb9f3a"
            ],
            [
             0.8888888888888888,
             "#fdca26"
            ],
            [
             1,
             "#f0f921"
            ]
           ]
          },
          "colorway": [
           "#636efa",
           "#EF553B",
           "#00cc96",
           "#ab63fa",
           "#FFA15A",
           "#19d3f3",
           "#FF6692",
           "#B6E880",
           "#FF97FF",
           "#FECB52"
          ],
          "font": {
           "color": "#2a3f5f"
          },
          "geo": {
           "bgcolor": "white",
           "lakecolor": "white",
           "landcolor": "#E5ECF6",
           "showlakes": true,
           "showland": true,
           "subunitcolor": "white"
          },
          "hoverlabel": {
           "align": "left"
          },
          "hovermode": "closest",
          "mapbox": {
           "style": "light"
          },
          "paper_bgcolor": "white",
          "plot_bgcolor": "#E5ECF6",
          "polar": {
           "angularaxis": {
            "gridcolor": "white",
            "linecolor": "white",
            "ticks": ""
           },
           "bgcolor": "#E5ECF6",
           "radialaxis": {
            "gridcolor": "white",
            "linecolor": "white",
            "ticks": ""
           }
          },
          "scene": {
           "xaxis": {
            "backgroundcolor": "#E5ECF6",
            "gridcolor": "white",
            "gridwidth": 2,
            "linecolor": "white",
            "showbackground": true,
            "ticks": "",
            "zerolinecolor": "white"
           },
           "yaxis": {
            "backgroundcolor": "#E5ECF6",
            "gridcolor": "white",
            "gridwidth": 2,
            "linecolor": "white",
            "showbackground": true,
            "ticks": "",
            "zerolinecolor": "white"
           },
           "zaxis": {
            "backgroundcolor": "#E5ECF6",
            "gridcolor": "white",
            "gridwidth": 2,
            "linecolor": "white",
            "showbackground": true,
            "ticks": "",
            "zerolinecolor": "white"
           }
          },
          "shapedefaults": {
           "line": {
            "color": "#2a3f5f"
           }
          },
          "ternary": {
           "aaxis": {
            "gridcolor": "white",
            "linecolor": "white",
            "ticks": ""
           },
           "baxis": {
            "gridcolor": "white",
            "linecolor": "white",
            "ticks": ""
           },
           "bgcolor": "#E5ECF6",
           "caxis": {
            "gridcolor": "white",
            "linecolor": "white",
            "ticks": ""
           }
          },
          "title": {
           "x": 0.05
          },
          "xaxis": {
           "automargin": true,
           "gridcolor": "white",
           "linecolor": "white",
           "ticks": "",
           "title": {
            "standoff": 15
           },
           "zerolinecolor": "white",
           "zerolinewidth": 2
          },
          "yaxis": {
           "automargin": true,
           "gridcolor": "white",
           "linecolor": "white",
           "ticks": "",
           "title": {
            "standoff": 15
           },
           "zerolinecolor": "white",
           "zerolinewidth": 2
          }
         }
        },
        "xaxis": {
         "autorange": true,
         "range": [
          0.2112503070498648,
          14.788749692950136
         ],
         "type": "linear"
        },
        "yaxis": {
         "autorange": true,
         "range": [
          -0.7427184466019418,
          9.742718446601941
         ],
         "type": "linear"
        }
       }
      },
      "image/png": "[encoded data removed]",
      "text/html": [
       "<div>                            <div id=\"276eb06d-721c-46f7-a013-d020397455e2\" class=\"plotly-graph-div\" style=\"height:525px; width:100%;\"></div>            <script type=\"text/javascript\">                require([\"plotly\"], function(Plotly) {                    window.PLOTLYENV=window.PLOTLYENV || {};                                    if (document.getElementById(\"276eb06d-721c-46f7-a013-d020397455e2\")) {                    Plotly.newPlot(                        \"276eb06d-721c-46f7-a013-d020397455e2\",                        [{\"name\":\"5\",\"x\":[1,2,3,4,5,6,7,8,9,10,11,12,13,14],\"y\":[0,1,2,0,0,1,2,2,3,3,3,3,3,3],\"type\":\"scatter\"},{\"name\":\"10\",\"x\":[1,2,3,4,5,6,7,8,9,10,11,12,13,14],\"y\":[0,2,2,0,0,1,3,3,4,4,4,4,4,4],\"type\":\"scatter\"},{\"name\":\"15\",\"x\":[1,2,3,4,5,6,7,8,9,10,11,12,13,14],\"y\":[0,3,3,0,1,2,3,4,5,5,5,5,5,4],\"type\":\"scatter\"},{\"name\":\"20\",\"x\":[1,2,3,4,5,6,7,8,9,10,11,12,13,14],\"y\":[1,3,4,1,1,3,4,5,6,6,6,6,6,5],\"type\":\"scatter\"},{\"name\":\"25\",\"x\":[1,2,3,4,5,6,7,8,9,10,11,12,13,14],\"y\":[1,4,5,1,1,4,6,6,7,7,7,7,7,6],\"type\":\"scatter\"},{\"name\":\"30\",\"x\":[1,2,3,4,5,6,7,8,9,10,11,12,13,14],\"y\":[2,5,6,2,2,6,7,7,8,8,7,7,7,9],\"type\":\"scatter\"}],                        {\"template\":{\"data\":{\"histogram2dcontour\":[{\"type\":\"histogram2dcontour\",\"colorbar\":{\"outlinewidth\":0,\"ticks\":\"\"},\"colorscale\":[[0.0,\"#0d0887\"],[0.1111111111111111,\"#46039f\"],[0.2222222222222222,\"#7201a8\"],[0.3333333333333333,\"#9c179e\"],[0.4444444444444444,\"#bd3786\"],[0.5555555555555556,\"#d8576b\"],[0.6666666666666666,\"#ed7953\"],[0.7777777777777778,\"#fb9f3a\"],[0.8888888888888888,\"#fdca26\"],[1.0,\"#f0f921\"]]}],\"choropleth\":[{\"type\":\"choropleth\",\"colorbar\":{\"outlinewidth\":0,\"ticks\":\"\"}}],\"histogram2d\":[{\"type\":\"histogram2d\",\"colorbar\":{\"outlinewidth\":0,\"ticks\":\"\"},\"colorscale\":[[0.0,\"#0d0887\"],[0.1111111111111111,\"#46039f\"],[0.2222222222222222,\"#7201a8\"],[0.3333333333333333,\"#9c179e\"],[0.4444444444444444,\"#bd3786\"],[0.5555555555555556,\"#d8576b\"],[0.6666666666666666,\"#ed7953\"],[0.7777777777777778,\"#fb9f3a\"],[0.8888888888888888,\"#fdca26\"],[1.0,\"#f0f921\"]]}],\"heatmap\":[{\"type\":\"heatmap\",\"colorbar\":{\"outlinewidth\":0,\"ticks\":\"\"},\"colorscale\":[[0.0,\"#0d0887\"],[0.1111111111111111,\"#46039f\"],[0.2222222222222222,\"#7201a8\"],[0.3333333333333333,\"#9c179e\"],[0.4444444444444444,\"#bd3786\"],[0.5555555555555556,\"#d8576b\"],[0.6666666666666666,\"#ed7953\"],[0.7777777777777778,\"#fb9f3a\"],[0.8888888888888888,\"#fdca26\"],[1.0,\"#f0f921\"]]}],\"heatmapgl\":[{\"type\":\"heatmapgl\",\"colorbar\":{\"outlinewidth\":0,\"ticks\":\"\"},\"colorscale\":[[0.0,\"#0d0887\"],[0.1111111111111111,\"#46039f\"],[0.2222222222222222,\"#7201a8\"],[0.3333333333333333,\"#9c179e\"],[0.4444444444444444,\"#bd3786\"],[0.5555555555555556,\"#d8576b\"],[0.6666666666666666,\"#ed7953\"],[0.7777777777777778,\"#fb9f3a\"],[0.8888888888888888,\"#fdca26\"],[1.0,\"#f0f921\"]]}],\"contourcarpet\":[{\"type\":\"contourcarpet\",\"colorbar\":{\"outlinewidth\":0,\"ticks\":\"\"}}],\"contour\":[{\"type\":\"contour\",\"colorbar\":{\"outlinewidth\":0,\"ticks\":\"\"},\"colorscale\":[[0.0,\"#0d0887\"],[0.1111111111111111,\"#46039f\"],[0.2222222222222222,\"#7201a8\"],[0.3333333333333333,\"#9c179e\"],[0.4444444444444444,\"#bd3786\"],[0.5555555555555556,\"#d8576b\"],[0.6666666666666666,\"#ed7953\"],[0.7777777777777778,\"#fb9f3a\"],[0.8888888888888888,\"#fdca26\"],[1.0,\"#f0f921\"]]}],\"surface\":[{\"type\":\"surface\",\"colorbar\":{\"outlinewidth\":0,\"ticks\":\"\"},\"colorscale\":[[0.0,\"#0d0887\"],[0.1111111111111111,\"#46039f\"],[0.2222222222222222,\"#7201a8\"],[0.3333333333333333,\"#9c179e\"],[0.4444444444444444,\"#bd3786\"],[0.5555555555555556,\"#d8576b\"],[0.6666666666666666,\"#ed7953\"],[0.7777777777777778,\"#fb9f3a\"],[0.8888888888888888,\"#fdca26\"],[1.0,\"#f0f921\"]]}],\"mesh3d\":[{\"type\":\"mesh3d\",\"colorbar\":{\"outlinewidth\":0,\"ticks\":\"\"}}],\"scatter\":[{\"fillpattern\":{\"fillmode\":\"overlay\",\"size\":10,\"solidity\":0.2},\"type\":\"scatter\"}],\"parcoords\":[{\"type\":\"parcoords\",\"line\":{\"colorbar\":{\"outlinewidth\":0,\"ticks\":\"\"}}}],\"scatterpolargl\":[{\"type\":\"scatterpolargl\",\"marker\":{\"colorbar\":{\"outlinewidth\":0,\"ticks\":\"\"}}}],\"bar\":[{\"error_x\":{\"color\":\"#2a3f5f\"},\"error_y\":{\"color\":\"#2a3f5f\"},\"marker\":{\"line\":{\"color\":\"#E5ECF6\",\"width\":0.5},\"pattern\":{\"fillmode\":\"overlay\",\"size\":10,\"solidity\":0.2}},\"type\":\"bar\"}],\"scattergeo\":[{\"type\":\"scattergeo\",\"marker\":{\"colorbar\":{\"outlinewidth\":0,\"ticks\":\"\"}}}],\"scatterpolar\":[{\"type\":\"scatterpolar\",\"marker\":{\"colorbar\":{\"outlinewidth\":0,\"ticks\":\"\"}}}],\"histogram\":[{\"marker\":{\"pattern\":{\"fillmode\":\"overlay\",\"size\":10,\"solidity\":0.2}},\"type\":\"histogram\"}],\"scattergl\":[{\"type\":\"scattergl\",\"marker\":{\"colorbar\":{\"outlinewidth\":0,\"ticks\":\"\"}}}],\"scatter3d\":[{\"type\":\"scatter3d\",\"line\":{\"colorbar\":{\"outlinewidth\":0,\"ticks\":\"\"}},\"marker\":{\"colorbar\":{\"outlinewidth\":0,\"ticks\":\"\"}}}],\"scattermapbox\":[{\"type\":\"scattermapbox\",\"marker\":{\"colorbar\":{\"outlinewidth\":0,\"ticks\":\"\"}}}],\"scatterternary\":[{\"type\":\"scatterternary\",\"marker\":{\"colorbar\":{\"outlinewidth\":0,\"ticks\":\"\"}}}],\"scattercarpet\":[{\"type\":\"scattercarpet\",\"marker\":{\"colorbar\":{\"outlinewidth\":0,\"ticks\":\"\"}}}],\"carpet\":[{\"aaxis\":{\"endlinecolor\":\"#2a3f5f\",\"gridcolor\":\"white\",\"linecolor\":\"white\",\"minorgridcolor\":\"white\",\"startlinecolor\":\"#2a3f5f\"},\"baxis\":{\"endlinecolor\":\"#2a3f5f\",\"gridcolor\":\"white\",\"linecolor\":\"white\",\"minorgridcolor\":\"white\",\"startlinecolor\":\"#2a3f5f\"},\"type\":\"carpet\"}],\"table\":[{\"cells\":{\"fill\":{\"color\":\"#EBF0F8\"},\"line\":{\"color\":\"white\"}},\"header\":{\"fill\":{\"color\":\"#C8D4E3\"},\"line\":{\"color\":\"white\"}},\"type\":\"table\"}],\"barpolar\":[{\"marker\":{\"line\":{\"color\":\"#E5ECF6\",\"width\":0.5},\"pattern\":{\"fillmode\":\"overlay\",\"size\":10,\"solidity\":0.2}},\"type\":\"barpolar\"}],\"pie\":[{\"automargin\":true,\"type\":\"pie\"}]},\"layout\":{\"autotypenumbers\":\"strict\",\"colorway\":[\"#636efa\",\"#EF553B\",\"#00cc96\",\"#ab63fa\",\"#FFA15A\",\"#19d3f3\",\"#FF6692\",\"#B6E880\",\"#FF97FF\",\"#FECB52\"],\"font\":{\"color\":\"#2a3f5f\"},\"hovermode\":\"closest\",\"hoverlabel\":{\"align\":\"left\"},\"paper_bgcolor\":\"white\",\"plot_bgcolor\":\"#E5ECF6\",\"polar\":{\"bgcolor\":\"#E5ECF6\",\"angularaxis\":{\"gridcolor\":\"white\",\"linecolor\":\"white\",\"ticks\":\"\"},\"radialaxis\":{\"gridcolor\":\"white\",\"linecolor\":\"white\",\"ticks\":\"\"}},\"ternary\":{\"bgcolor\":\"#E5ECF6\",\"aaxis\":{\"gridcolor\":\"white\",\"linecolor\":\"white\",\"ticks\":\"\"},\"baxis\":{\"gridcolor\":\"white\",\"linecolor\":\"white\",\"ticks\":\"\"},\"caxis\":{\"gridcolor\":\"white\",\"linecolor\":\"white\",\"ticks\":\"\"}},\"coloraxis\":{\"colorbar\":{\"outlinewidth\":0,\"ticks\":\"\"}},\"colorscale\":{\"sequential\":[[0.0,\"#0d0887\"],[0.1111111111111111,\"#46039f\"],[0.2222222222222222,\"#7201a8\"],[0.3333333333333333,\"#9c179e\"],[0.4444444444444444,\"#bd3786\"],[0.5555555555555556,\"#d8576b\"],[0.6666666666666666,\"#ed7953\"],[0.7777777777777778,\"#fb9f3a\"],[0.8888888888888888,\"#fdca26\"],[1.0,\"#f0f921\"]],\"sequentialminus\":[[0.0,\"#0d0887\"],[0.1111111111111111,\"#46039f\"],[0.2222222222222222,\"#7201a8\"],[0.3333333333333333,\"#9c179e\"],[0.4444444444444444,\"#bd3786\"],[0.5555555555555556,\"#d8576b\"],[0.6666666666666666,\"#ed7953\"],[0.7777777777777778,\"#fb9f3a\"],[0.8888888888888888,\"#fdca26\"],[1.0,\"#f0f921\"]],\"diverging\":[[0,\"#8e0152\"],[0.1,\"#c51b7d\"],[0.2,\"#de77ae\"],[0.3,\"#f1b6da\"],[0.4,\"#fde0ef\"],[0.5,\"#f7f7f7\"],[0.6,\"#e6f5d0\"],[0.7,\"#b8e186\"],[0.8,\"#7fbc41\"],[0.9,\"#4d9221\"],[1,\"#276419\"]]},\"xaxis\":{\"gridcolor\":\"white\",\"linecolor\":\"white\",\"ticks\":\"\",\"title\":{\"standoff\":15},\"zerolinecolor\":\"white\",\"automargin\":true,\"zerolinewidth\":2},\"yaxis\":{\"gridcolor\":\"white\",\"linecolor\":\"white\",\"ticks\":\"\",\"title\":{\"standoff\":15},\"zerolinecolor\":\"white\",\"automargin\":true,\"zerolinewidth\":2},\"scene\":{\"xaxis\":{\"backgroundcolor\":\"#E5ECF6\",\"gridcolor\":\"white\",\"linecolor\":\"white\",\"showbackground\":true,\"ticks\":\"\",\"zerolinecolor\":\"white\",\"gridwidth\":2},\"yaxis\":{\"backgroundcolor\":\"#E5ECF6\",\"gridcolor\":\"white\",\"linecolor\":\"white\",\"showbackground\":true,\"ticks\":\"\",\"zerolinecolor\":\"white\",\"gridwidth\":2},\"zaxis\":{\"backgroundcolor\":\"#E5ECF6\",\"gridcolor\":\"white\",\"linecolor\":\"white\",\"showbackground\":true,\"ticks\":\"\",\"zerolinecolor\":\"white\",\"gridwidth\":2}},\"shapedefaults\":{\"line\":{\"color\":\"#2a3f5f\"}},\"annotationdefaults\":{\"arrowcolor\":\"#2a3f5f\",\"arrowhead\":0,\"arrowwidth\":1},\"geo\":{\"bgcolor\":\"white\",\"landcolor\":\"#E5ECF6\",\"subunitcolor\":\"white\",\"showland\":true,\"showlakes\":true,\"lakecolor\":\"white\"},\"title\":{\"x\":0.05},\"mapbox\":{\"style\":\"light\"}}}},                        {\"responsive\": true}                    ).then(function(){\n",
       "                            \n",
       "var gd = document.getElementById('276eb06d-721c-46f7-a013-d020397455e2');\n",
       "var x = new MutationObserver(function (mutations, observer) {{\n",
       "        var display = window.getComputedStyle(gd).display;\n",
       "        if (!display || display === 'none') {{\n",
       "            console.log([gd, 'removed!']);\n",
       "            Plotly.purge(gd);\n",
       "            observer.disconnect();\n",
       "        }}\n",
       "}});\n",
       "\n",
       "// Listen for the removal of the full notebook cells\n",
       "var notebookContainer = gd.closest('#notebook-container');\n",
       "if (notebookContainer) {{\n",
       "    x.observe(notebookContainer, {childList: true});\n",
       "}}\n",
       "\n",
       "// Listen for the clearing of the current output cell\n",
       "var outputEl = gd.closest('.output');\n",
       "if (outputEl) {{\n",
       "    x.observe(outputEl, {childList: true});\n",
       "}}\n",
       "\n",
       "                        })                };                });            </script>        </div>"
      ]
     },
     "metadata": {},
     "output_type": "display_data"
    }
   ],
   "source": [
    "# нарисуем как меняется сплоченность льда в январе по дням\n",
    "fig = go.Figure()\n",
    "\n",
    "for i in range(5, 31, 5):\n",
    "    fig.add_trace(go.Scatter(\n",
    "        x=cohesion['edge_num'], y=cohesion[str(i)], name=str(i)\n",
    "    ))\n",
    "    \n",
    "fig.show()"
   ]
  },
  {
   "cell_type": "code",
   "execution_count": 18,
   "id": "3fa090be-cb34-4baa-bb38-2e7a1a7f4b67",
   "metadata": {
    "tags": []
   },
   "outputs": [],
   "source": [
    "def get_distance(lat_0, lon_0, lat_1, lon_1):\n",
    "    return geodesic((lat_0, lon_0), (lat_1, lon_1)).km\n",
    "\n",
    "coordinates['distance'] = coordinates.apply(lambda x: get_distance(x['lat_0'], x['lon_0'], x['lat_1'], x['lon_1']), axis=1)"
   ]
  },
  {
   "cell_type": "code",
   "execution_count": 105,
   "id": "582d0bb9-bd0a-4f1a-adc7-ea5f0229c8ed",
   "metadata": {
    "tags": []
   },
   "outputs": [
    {
     "data": {
      "text/html": [
       "<div>\n",
       "<style scoped>\n",
       "    .dataframe tbody tr th:only-of-type {\n",
       "        vertical-align: middle;\n",
       "    }\n",
       "\n",
       "    .dataframe tbody tr th {\n",
       "        vertical-align: top;\n",
       "    }\n",
       "\n",
       "    .dataframe thead th {\n",
       "        text-align: right;\n",
       "    }\n",
       "</style>\n",
       "<table border=\"1\" class=\"dataframe\">\n",
       "  <thead>\n",
       "    <tr style=\"text-align: right;\">\n",
       "      <th></th>\n",
       "      <th>edge_num</th>\n",
       "      <th>lon_0</th>\n",
       "      <th>lat_0</th>\n",
       "      <th>lon_1</th>\n",
       "      <th>lat_1</th>\n",
       "      <th>distance</th>\n",
       "    </tr>\n",
       "  </thead>\n",
       "  <tbody>\n",
       "    <tr>\n",
       "      <th>0</th>\n",
       "      <td>1</td>\n",
       "      <td>46.142578</td>\n",
       "      <td>69.930300</td>\n",
       "      <td>57.744141</td>\n",
       "      <td>70.436799</td>\n",
       "      <td>442.053045</td>\n",
       "    </tr>\n",
       "    <tr>\n",
       "      <th>1</th>\n",
       "      <td>2</td>\n",
       "      <td>57.744141</td>\n",
       "      <td>70.436799</td>\n",
       "      <td>66.203613</td>\n",
       "      <td>73.534628</td>\n",
       "      <td>451.740435</td>\n",
       "    </tr>\n",
       "    <tr>\n",
       "      <th>2</th>\n",
       "      <td>3</td>\n",
       "      <td>66.203613</td>\n",
       "      <td>73.534628</td>\n",
       "      <td>71.542969</td>\n",
       "      <td>73.775780</td>\n",
       "      <td>169.870241</td>\n",
       "    </tr>\n",
       "    <tr>\n",
       "      <th>3</th>\n",
       "      <td>4</td>\n",
       "      <td>46.142578</td>\n",
       "      <td>69.930300</td>\n",
       "      <td>55.019531</td>\n",
       "      <td>76.205967</td>\n",
       "      <td>755.572096</td>\n",
       "    </tr>\n",
       "    <tr>\n",
       "      <th>4</th>\n",
       "      <td>5</td>\n",
       "      <td>55.019531</td>\n",
       "      <td>76.205967</td>\n",
       "      <td>68.906250</td>\n",
       "      <td>77.446940</td>\n",
       "      <td>378.488196</td>\n",
       "    </tr>\n",
       "    <tr>\n",
       "      <th>5</th>\n",
       "      <td>6</td>\n",
       "      <td>68.906250</td>\n",
       "      <td>77.446940</td>\n",
       "      <td>71.542969</td>\n",
       "      <td>73.775780</td>\n",
       "      <td>416.166793</td>\n",
       "    </tr>\n",
       "    <tr>\n",
       "      <th>6</th>\n",
       "      <td>7</td>\n",
       "      <td>71.542969</td>\n",
       "      <td>73.775780</td>\n",
       "      <td>73.125000</td>\n",
       "      <td>72.764065</td>\n",
       "      <td>123.821180</td>\n",
       "    </tr>\n",
       "    <tr>\n",
       "      <th>7</th>\n",
       "      <td>8</td>\n",
       "      <td>73.125000</td>\n",
       "      <td>72.764065</td>\n",
       "      <td>74.025879</td>\n",
       "      <td>72.633374</td>\n",
       "      <td>33.281169</td>\n",
       "    </tr>\n",
       "    <tr>\n",
       "      <th>8</th>\n",
       "      <td>9</td>\n",
       "      <td>74.025879</td>\n",
       "      <td>72.633374</td>\n",
       "      <td>72.927246</td>\n",
       "      <td>72.073911</td>\n",
       "      <td>72.664156</td>\n",
       "    </tr>\n",
       "    <tr>\n",
       "      <th>9</th>\n",
       "      <td>10</td>\n",
       "      <td>72.927246</td>\n",
       "      <td>72.073911</td>\n",
       "      <td>72.597656</td>\n",
       "      <td>71.307836</td>\n",
       "      <td>86.258602</td>\n",
       "    </tr>\n",
       "    <tr>\n",
       "      <th>10</th>\n",
       "      <td>11</td>\n",
       "      <td>72.597656</td>\n",
       "      <td>71.307836</td>\n",
       "      <td>72.202148</td>\n",
       "      <td>71.244356</td>\n",
       "      <td>15.846877</td>\n",
       "    </tr>\n",
       "    <tr>\n",
       "      <th>11</th>\n",
       "      <td>12</td>\n",
       "      <td>72.597656</td>\n",
       "      <td>71.307836</td>\n",
       "      <td>73.322754</td>\n",
       "      <td>70.972238</td>\n",
       "      <td>45.683384</td>\n",
       "    </tr>\n",
       "    <tr>\n",
       "      <th>12</th>\n",
       "      <td>13</td>\n",
       "      <td>73.322754</td>\n",
       "      <td>70.972238</td>\n",
       "      <td>73.712769</td>\n",
       "      <td>71.033035</td>\n",
       "      <td>15.714951</td>\n",
       "    </tr>\n",
       "    <tr>\n",
       "      <th>13</th>\n",
       "      <td>14</td>\n",
       "      <td>73.322754</td>\n",
       "      <td>70.972238</td>\n",
       "      <td>73.528748</td>\n",
       "      <td>68.664551</td>\n",
       "      <td>257.566499</td>\n",
       "    </tr>\n",
       "  </tbody>\n",
       "</table>\n",
       "</div>"
      ],
      "text/plain": [
       "    edge_num      lon_0      lat_0      lon_1      lat_1    distance\n",
       "0          1  46.142578  69.930300  57.744141  70.436799  442.053045\n",
       "1          2  57.744141  70.436799  66.203613  73.534628  451.740435\n",
       "2          3  66.203613  73.534628  71.542969  73.775780  169.870241\n",
       "3          4  46.142578  69.930300  55.019531  76.205967  755.572096\n",
       "4          5  55.019531  76.205967  68.906250  77.446940  378.488196\n",
       "5          6  68.906250  77.446940  71.542969  73.775780  416.166793\n",
       "6          7  71.542969  73.775780  73.125000  72.764065  123.821180\n",
       "7          8  73.125000  72.764065  74.025879  72.633374   33.281169\n",
       "8          9  74.025879  72.633374  72.927246  72.073911   72.664156\n",
       "9         10  72.927246  72.073911  72.597656  71.307836   86.258602\n",
       "10        11  72.597656  71.307836  72.202148  71.244356   15.846877\n",
       "11        12  72.597656  71.307836  73.322754  70.972238   45.683384\n",
       "12        13  73.322754  70.972238  73.712769  71.033035   15.714951\n",
       "13        14  73.322754  70.972238  73.528748  68.664551  257.566499"
      ]
     },
     "execution_count": 105,
     "metadata": {},
     "output_type": "execute_result"
    }
   ],
   "source": [
    "coordinates"
   ]
  },
  {
   "cell_type": "code",
   "execution_count": 142,
   "id": "a85d776a-683d-4b20-9ce0-1075d05214d6",
   "metadata": {
    "tags": []
   },
   "outputs": [],
   "source": [
    "requests_self = requests[requests.wiring_needed == False]\n",
    "requests_wiring = requests[requests.wiring_needed == True]"
   ]
  },
  {
   "cell_type": "code",
   "execution_count": 244,
   "id": "87178a8b-ad44-42bc-a813-2234025c3723",
   "metadata": {
    "tags": []
   },
   "outputs": [],
   "source": [
    "def find_routes_with_wiring(ice_class, speed, start_point, end_point, date_start, date_end):\n",
    "    if 'Саббета' in start_point:\n",
    "        routes = [route[::-1] for route in TO[start_point]]\n",
    "    else:\n",
    "        routes = TO[end_point]\n",
    "\n",
    "    start_day = date_start.day\n",
    "    end_day = date_end.day\n",
    "    \n",
    "    # определяем число минут в каждом дне\n",
    "    if date_start.date() == date_end.date():\n",
    "        hours_per_day = [(date_end - date_start).total_seconds() / 60 / 24]\n",
    "    else:\n",
    "        full_days = (date_end - date_start).days - 1\n",
    "        hours_per_day = [24 - date_start.hour - date_start.minute / 60] + [24 for _ in range(full_days)] + \\\n",
    "                          [date_end.hour + date_end.minute / 60]\n",
    "\n",
    "    route_time = []\n",
    "    route_distance = []\n",
    "    max_edge = []\n",
    "    needed_wiring = []\n",
    "\n",
    "    for route in routes:\n",
    "        r = route.copy()\n",
    "        flag = True\n",
    "        \n",
    "        needed_wiring.append([])\n",
    "        \n",
    "        while flag:\n",
    "            total_time = 0\n",
    "            \n",
    "            edges = deque(r)\n",
    "            hours = deque(hours_per_day)\n",
    "            i = 0\n",
    "            \n",
    "            if not edges:\n",
    "                max_edge.append('not allowed')\n",
    "                break\n",
    "            \n",
    "            edge = edges.popleft()\n",
    "            hour = hours.popleft()\n",
    "            dist = coordinates.loc[coordinates.edge_num == edge, 'distance'].values[0]\n",
    "\n",
    "            while True:\n",
    "\n",
    "                day = clip_day(date_start + pd.DateOffset(days=i))\n",
    "\n",
    "                difficulty = cohesion[cohesion['edge_num'] == edge][str(day)].values[0]\n",
    "                mode = traffic_mode[traffic_mode.ice_class == ice_class][difficulty].values[0] \n",
    "                decreased_speed = speed * (1 - difficulty * 0.07)\n",
    "                \n",
    "                if mode == 'forbidden':\n",
    "                    flag = False\n",
    "                    max_edge.append('not allowed')\n",
    "                    break\n",
    "                elif mode == 'wiring' or decreased_speed < 9 * 1.852:\n",
    "                    decreased_speed = 9 * 1.852\n",
    "                    if edge not in needed_wiring[-1]:\n",
    "                        needed_wiring[-1].append(edge)\n",
    "                    \n",
    "                hours_needed = dist / decreased_speed\n",
    "\n",
    "                if hours_needed <= hour:\n",
    "                    total_time += hours_needed\n",
    "                    hour -= hours_needed\n",
    "\n",
    "                    if not edges:\n",
    "                        flag = False\n",
    "                        break\n",
    "\n",
    "                    edge = edges.popleft()\n",
    "                    \n",
    "                    dist = coordinates.loc[coordinates.edge_num == edge, 'distance'].values[0]\n",
    "                else:\n",
    "                    total_time += hour\n",
    "\n",
    "                    if not hours:\n",
    "                        r.remove(min(r))  # удаляем одно ребро в Баренцевом море\n",
    "                        break\n",
    "\n",
    "                    i += 1  # следующий день\n",
    "                    \n",
    "                    dist -= hour * decreased_speed\n",
    "                    hour = hours.popleft()\n",
    "        \n",
    "        if r and 'not allowed' not in max_edge:\n",
    "            max_edge.append(min(r))\n",
    "            route_distance.append(coordinates.loc[coordinates.edge_num.isin(r), 'distance'].values.sum())\n",
    "        route_time.append(total_time)\n",
    "        \n",
    "    \n",
    "    return {\n",
    "        'edges_of_routes': max_edge,\n",
    "        'opt_time_of_routes': route_time,\n",
    "        'distance_of_routes': route_distance,\n",
    "        'needed_wiring': needed_wiring\n",
    "    }\n",
    "    "
   ]
  },
  {
   "cell_type": "code",
   "execution_count": 245,
   "id": "1b70ea59-2aa3-4f73-b36b-454d0b8f0386",
   "metadata": {
    "tags": []
   },
   "outputs": [],
   "source": [
    "res = requests.apply(lambda x: find_routes_with_wiring(x['ice_class'], x['speed'], x['start_point'], x['end_point'], x['date_start'], x['date_end']), axis=1)"
   ]
  },
  {
   "cell_type": "code",
   "execution_count": 250,
   "id": "f72da688-1120-4bc4-8106-724967e7fde6",
   "metadata": {
    "tags": []
   },
   "outputs": [
    {
     "data": {
      "text/plain": [
       "{'edges_of_routes': [1, 4],\n",
       " 'opt_time_of_routes': [75.2539759921851, 91.96745741188643],\n",
       " 'distance_of_routes': [1441.0871627359327, 1927.6505271784379],\n",
       " 'needed_wiring': [[7, 8, 9, 10, 12, 13], [7, 8, 9, 10, 12, 13]]}"
      ]
     },
     "execution_count": 250,
     "metadata": {},
     "output_type": "execute_result"
    }
   ],
   "source": [
    "res[30]"
   ]
  },
  {
   "cell_type": "code",
   "execution_count": 185,
   "id": "e9c8c9dd-12e0-49ad-95fb-63517b511fa9",
   "metadata": {
    "tags": []
   },
   "outputs": [
    {
     "data": {
      "application/vnd.plotly.v1+json": {
       "config": {
        "plotlyServerURL": "https://plot.ly"
       },
       "data": [
        {
         "alignmentgroup": "True",
         "base": [
          "2021-01-01T23:30:00",
          "2021-01-12T18:00:00",
          "2021-01-07T19:00:00",
          "2020-12-27T23:00:00",
          "2021-01-01T17:30:00",
          "2021-01-08T22:00:00",
          "2021-01-16T18:00:00",
          "2021-01-13T01:30:00",
          "2021-01-09T03:00:00",
          "2020-12-31T12:00:00",
          "2021-01-02T12:30:00",
          "2021-01-02T00:30:00"
         ],
         "hovertemplate": "wiring_needed=False<br>date_start=%{base}<br>date_end=%{x}<br>name=%{y}<extra></extra>",
         "legendgroup": "False",
         "marker": {
          "color": "#636efa",
          "pattern": {
           "shape": ""
          }
         },
         "name": "False",
         "offsetgroup": "False",
         "orientation": "h",
         "showlegend": true,
         "textposition": "auto",
         "type": "bar",
         "x": [
          279000000,
          360000000,
          289200000,
          928800000,
          214200000,
          144900000,
          176400000,
          288000000,
          412200000,
          172800000,
          171000000,
          169200000
         ],
         "xaxis": "x",
         "y": [
          "Штурман Альбанов",
          "Штурман Альбанов",
          "Штурман Кошелев",
          "Лагорта",
          "Эдуард Толль",
          "Борис Давыдов",
          "Владимир Воронин",
          "Арктика-2",
          "РЗК Константа",
          "Мыс Желания",
          "LNG PHECDA",
          "LNG DUBHE"
         ],
         "yaxis": "y"
        },
        {
         "alignmentgroup": "True",
         "base": [
          "2021-01-21T09:00:00",
          "2021-01-17T13:00:00",
          "2021-01-28T02:00:00",
          "2021-01-19T12:00:00",
          "2021-01-26T22:00:00",
          "2021-01-24T10:00:00",
          "2021-01-23T00:30:00",
          "2021-01-29T10:00:00",
          "2021-01-16T03:00:00",
          "2021-01-16T09:00:00",
          "2021-01-12T10:00:00",
          "2021-01-22T07:00:00"
         ],
         "hovertemplate": "wiring_needed=True<br>date_start=%{base}<br>date_end=%{x}<br>name=%{y}<extra></extra>",
         "legendgroup": "True",
         "marker": {
          "color": "#EF553B",
          "pattern": {
           "shape": ""
          }
         },
         "name": "True",
         "offsetgroup": "True",
         "orientation": "h",
         "showlegend": true,
         "textposition": "auto",
         "type": "bar",
         "visible": true,
         "x": [
          478800000,
          357600000,
          579600000,
          345600000,
          424800000,
          388800000,
          678600000,
          307800000,
          345600000,
          199800000,
          196200000,
          214200000
         ],
         "xaxis": "x",
         "y": [
          "Штурман Альбанов",
          "Штурман Кошелев",
          "Штурман Кошелев",
          "Михаил Лазарев",
          "Юрий Кучиев",
          "Беринг",
          "Северный проект",
          "Мыс Желания",
          "Никифор Бегичев",
          "LNG PHECDA",
          "LNG DUBHE",
          "LNG DUBHE"
         ],
         "yaxis": "y"
        }
       ],
       "layout": {
        "autosize": true,
        "barmode": "overlay",
        "legend": {
         "title": {
          "text": "wiring_needed"
         },
         "tracegroupgap": 0
        },
        "margin": {
         "t": 60
        },
        "template": {
         "data": {
          "bar": [
           {
            "error_x": {
             "color": "#2a3f5f"
            },
            "error_y": {
             "color": "#2a3f5f"
            },
            "marker": {
             "line": {
              "color": "#E5ECF6",
              "width": 0.5
             },
             "pattern": {
              "fillmode": "overlay",
              "size": 10,
              "solidity": 0.2
             }
            },
            "type": "bar"
           }
          ],
          "barpolar": [
           {
            "marker": {
             "line": {
              "color": "#E5ECF6",
              "width": 0.5
             },
             "pattern": {
              "fillmode": "overlay",
              "size": 10,
              "solidity": 0.2
             }
            },
            "type": "barpolar"
           }
          ],
          "carpet": [
           {
            "aaxis": {
             "endlinecolor": "#2a3f5f",
             "gridcolor": "white",
             "linecolor": "white",
             "minorgridcolor": "white",
             "startlinecolor": "#2a3f5f"
            },
            "baxis": {
             "endlinecolor": "#2a3f5f",
             "gridcolor": "white",
             "linecolor": "white",
             "minorgridcolor": "white",
             "startlinecolor": "#2a3f5f"
            },
            "type": "carpet"
           }
          ],
          "choropleth": [
           {
            "colorbar": {
             "outlinewidth": 0,
             "ticks": ""
            },
            "type": "choropleth"
           }
          ],
          "contour": [
           {
            "colorbar": {
             "outlinewidth": 0,
             "ticks": ""
            },
            "colorscale": [
             [
              0,
              "#0d0887"
             ],
             [
              0.1111111111111111,
              "#46039f"
             ],
             [
              0.2222222222222222,
              "#7201a8"
             ],
             [
              0.3333333333333333,
              "#9c179e"
             ],
             [
              0.4444444444444444,
              "#bd3786"
             ],
             [
              0.5555555555555556,
              "#d8576b"
             ],
             [
              0.6666666666666666,
              "#ed7953"
             ],
             [
              0.7777777777777778,
              "#fb9f3a"
             ],
             [
              0.8888888888888888,
              "#fdca26"
             ],
             [
              1,
              "#f0f921"
             ]
            ],
            "type": "contour"
           }
          ],
          "contourcarpet": [
           {
            "colorbar": {
             "outlinewidth": 0,
             "ticks": ""
            },
            "type": "contourcarpet"
           }
          ],
          "heatmap": [
           {
            "colorbar": {
             "outlinewidth": 0,
             "ticks": ""
            },
            "colorscale": [
             [
              0,
              "#0d0887"
             ],
             [
              0.1111111111111111,
              "#46039f"
             ],
             [
              0.2222222222222222,
              "#7201a8"
             ],
             [
              0.3333333333333333,
              "#9c179e"
             ],
             [
              0.4444444444444444,
              "#bd3786"
             ],
             [
              0.5555555555555556,
              "#d8576b"
             ],
             [
              0.6666666666666666,
              "#ed7953"
             ],
             [
              0.7777777777777778,
              "#fb9f3a"
             ],
             [
              0.8888888888888888,
              "#fdca26"
             ],
             [
              1,
              "#f0f921"
             ]
            ],
            "type": "heatmap"
           }
          ],
          "heatmapgl": [
           {
            "colorbar": {
             "outlinewidth": 0,
             "ticks": ""
            },
            "colorscale": [
             [
              0,
              "#0d0887"
             ],
             [
              0.1111111111111111,
              "#46039f"
             ],
             [
              0.2222222222222222,
              "#7201a8"
             ],
             [
              0.3333333333333333,
              "#9c179e"
             ],
             [
              0.4444444444444444,
              "#bd3786"
             ],
             [
              0.5555555555555556,
              "#d8576b"
             ],
             [
              0.6666666666666666,
              "#ed7953"
             ],
             [
              0.7777777777777778,
              "#fb9f3a"
             ],
             [
              0.8888888888888888,
              "#fdca26"
             ],
             [
              1,
              "#f0f921"
             ]
            ],
            "type": "heatmapgl"
           }
          ],
          "histogram": [
           {
            "marker": {
             "pattern": {
              "fillmode": "overlay",
              "size": 10,
              "solidity": 0.2
             }
            },
            "type": "histogram"
           }
          ],
          "histogram2d": [
           {
            "colorbar": {
             "outlinewidth": 0,
             "ticks": ""
            },
            "colorscale": [
             [
              0,
              "#0d0887"
             ],
             [
              0.1111111111111111,
              "#46039f"
             ],
             [
              0.2222222222222222,
              "#7201a8"
             ],
             [
              0.3333333333333333,
              "#9c179e"
             ],
             [
              0.4444444444444444,
              "#bd3786"
             ],
             [
              0.5555555555555556,
              "#d8576b"
             ],
             [
              0.6666666666666666,
              "#ed7953"
             ],
             [
              0.7777777777777778,
              "#fb9f3a"
             ],
             [
              0.8888888888888888,
              "#fdca26"
             ],
             [
              1,
              "#f0f921"
             ]
            ],
            "type": "histogram2d"
           }
          ],
          "histogram2dcontour": [
           {
            "colorbar": {
             "outlinewidth": 0,
             "ticks": ""
            },
            "colorscale": [
             [
              0,
              "#0d0887"
             ],
             [
              0.1111111111111111,
              "#46039f"
             ],
             [
              0.2222222222222222,
              "#7201a8"
             ],
             [
              0.3333333333333333,
              "#9c179e"
             ],
             [
              0.4444444444444444,
              "#bd3786"
             ],
             [
              0.5555555555555556,
              "#d8576b"
             ],
             [
              0.6666666666666666,
              "#ed7953"
             ],
             [
              0.7777777777777778,
              "#fb9f3a"
             ],
             [
              0.8888888888888888,
              "#fdca26"
             ],
             [
              1,
              "#f0f921"
             ]
            ],
            "type": "histogram2dcontour"
           }
          ],
          "mesh3d": [
           {
            "colorbar": {
             "outlinewidth": 0,
             "ticks": ""
            },
            "type": "mesh3d"
           }
          ],
          "parcoords": [
           {
            "line": {
             "colorbar": {
              "outlinewidth": 0,
              "ticks": ""
             }
            },
            "type": "parcoords"
           }
          ],
          "pie": [
           {
            "automargin": true,
            "type": "pie"
           }
          ],
          "scatter": [
           {
            "fillpattern": {
             "fillmode": "overlay",
             "size": 10,
             "solidity": 0.2
            },
            "type": "scatter"
           }
          ],
          "scatter3d": [
           {
            "line": {
             "colorbar": {
              "outlinewidth": 0,
              "ticks": ""
             }
            },
            "marker": {
             "colorbar": {
              "outlinewidth": 0,
              "ticks": ""
             }
            },
            "type": "scatter3d"
           }
          ],
          "scattercarpet": [
           {
            "marker": {
             "colorbar": {
              "outlinewidth": 0,
              "ticks": ""
             }
            },
            "type": "scattercarpet"
           }
          ],
          "scattergeo": [
           {
            "marker": {
             "colorbar": {
              "outlinewidth": 0,
              "ticks": ""
             }
            },
            "type": "scattergeo"
           }
          ],
          "scattergl": [
           {
            "marker": {
             "colorbar": {
              "outlinewidth": 0,
              "ticks": ""
             }
            },
            "type": "scattergl"
           }
          ],
          "scattermapbox": [
           {
            "marker": {
             "colorbar": {
              "outlinewidth": 0,
              "ticks": ""
             }
            },
            "type": "scattermapbox"
           }
          ],
          "scatterpolar": [
           {
            "marker": {
             "colorbar": {
              "outlinewidth": 0,
              "ticks": ""
             }
            },
            "type": "scatterpolar"
           }
          ],
          "scatterpolargl": [
           {
            "marker": {
             "colorbar": {
              "outlinewidth": 0,
              "ticks": ""
             }
            },
            "type": "scatterpolargl"
           }
          ],
          "scatterternary": [
           {
            "marker": {
             "colorbar": {
              "outlinewidth": 0,
              "ticks": ""
             }
            },
            "type": "scatterternary"
           }
          ],
          "surface": [
           {
            "colorbar": {
             "outlinewidth": 0,
             "ticks": ""
            },
            "colorscale": [
             [
              0,
              "#0d0887"
             ],
             [
              0.1111111111111111,
              "#46039f"
             ],
             [
              0.2222222222222222,
              "#7201a8"
             ],
             [
              0.3333333333333333,
              "#9c179e"
             ],
             [
              0.4444444444444444,
              "#bd3786"
             ],
             [
              0.5555555555555556,
              "#d8576b"
             ],
             [
              0.6666666666666666,
              "#ed7953"
             ],
             [
              0.7777777777777778,
              "#fb9f3a"
             ],
             [
              0.8888888888888888,
              "#fdca26"
             ],
             [
              1,
              "#f0f921"
             ]
            ],
            "type": "surface"
           }
          ],
          "table": [
           {
            "cells": {
             "fill": {
              "color": "#EBF0F8"
             },
             "line": {
              "color": "white"
             }
            },
            "header": {
             "fill": {
              "color": "#C8D4E3"
             },
             "line": {
              "color": "white"
             }
            },
            "type": "table"
           }
          ]
         },
         "layout": {
          "annotationdefaults": {
           "arrowcolor": "#2a3f5f",
           "arrowhead": 0,
           "arrowwidth": 1
          },
          "autotypenumbers": "strict",
          "coloraxis": {
           "colorbar": {
            "outlinewidth": 0,
            "ticks": ""
           }
          },
          "colorscale": {
           "diverging": [
            [
             0,
             "#8e0152"
            ],
            [
             0.1,
             "#c51b7d"
            ],
            [
             0.2,
             "#de77ae"
            ],
            [
             0.3,
             "#f1b6da"
            ],
            [
             0.4,
             "#fde0ef"
            ],
            [
             0.5,
             "#f7f7f7"
            ],
            [
             0.6,
             "#e6f5d0"
            ],
            [
             0.7,
             "#b8e186"
            ],
            [
             0.8,
             "#7fbc41"
            ],
            [
             0.9,
             "#4d9221"
            ],
            [
             1,
             "#276419"
            ]
           ],
           "sequential": [
            [
             0,
             "#0d0887"
            ],
            [
             0.1111111111111111,
             "#46039f"
            ],
            [
             0.2222222222222222,
             "#7201a8"
            ],
            [
             0.3333333333333333,
             "#9c179e"
            ],
            [
             0.4444444444444444,
             "#bd3786"
            ],
            [
             0.5555555555555556,
             "#d8576b"
            ],
            [
             0.6666666666666666,
             "#ed7953"
            ],
            [
             0.7777777777777778,
             "#fb9f3a"
            ],
            [
             0.8888888888888888,
             "#fdca26"
            ],
            [
             1,
             "#f0f921"
            ]
           ],
           "sequentialminus": [
            [
             0,
             "#0d0887"
            ],
            [
             0.1111111111111111,
             "#46039f"
            ],
            [
             0.2222222222222222,
             "#7201a8"
            ],
            [
             0.3333333333333333,
             "#9c179e"
            ],
            [
             0.4444444444444444,
             "#bd3786"
            ],
            [
             0.5555555555555556,
             "#d8576b"
            ],
            [
             0.6666666666666666,
             "#ed7953"
            ],
            [
             0.7777777777777778,
             "#fb9f3a"
            ],
            [
             0.8888888888888888,
             "#fdca26"
            ],
            [
             1,
             "#f0f921"
            ]
           ]
          },
          "colorway": [
           "#636efa",
           "#EF553B",
           "#00cc96",
           "#ab63fa",
           "#FFA15A",
           "#19d3f3",
           "#FF6692",
           "#B6E880",
           "#FF97FF",
           "#FECB52"
          ],
          "font": {
           "color": "#2a3f5f"
          },
          "geo": {
           "bgcolor": "white",
           "lakecolor": "white",
           "landcolor": "#E5ECF6",
           "showlakes": true,
           "showland": true,
           "subunitcolor": "white"
          },
          "hoverlabel": {
           "align": "left"
          },
          "hovermode": "closest",
          "mapbox": {
           "style": "light"
          },
          "paper_bgcolor": "white",
          "plot_bgcolor": "#E5ECF6",
          "polar": {
           "angularaxis": {
            "gridcolor": "white",
            "linecolor": "white",
            "ticks": ""
           },
           "bgcolor": "#E5ECF6",
           "radialaxis": {
            "gridcolor": "white",
            "linecolor": "white",
            "ticks": ""
           }
          },
          "scene": {
           "xaxis": {
            "backgroundcolor": "#E5ECF6",
            "gridcolor": "white",
            "gridwidth": 2,
            "linecolor": "white",
            "showbackground": true,
            "ticks": "",
            "zerolinecolor": "white"
           },
           "yaxis": {
            "backgroundcolor": "#E5ECF6",
            "gridcolor": "white",
            "gridwidth": 2,
            "linecolor": "white",
            "showbackground": true,
            "ticks": "",
            "zerolinecolor": "white"
           },
           "zaxis": {
            "backgroundcolor": "#E5ECF6",
            "gridcolor": "white",
            "gridwidth": 2,
            "linecolor": "white",
            "showbackground": true,
            "ticks": "",
            "zerolinecolor": "white"
           }
          },
          "shapedefaults": {
           "line": {
            "color": "#2a3f5f"
           }
          },
          "ternary": {
           "aaxis": {
            "gridcolor": "white",
            "linecolor": "white",
            "ticks": ""
           },
           "baxis": {
            "gridcolor": "white",
            "linecolor": "white",
            "ticks": ""
           },
           "bgcolor": "#E5ECF6",
           "caxis": {
            "gridcolor": "white",
            "linecolor": "white",
            "ticks": ""
           }
          },
          "title": {
           "x": 0.05
          },
          "xaxis": {
           "automargin": true,
           "gridcolor": "white",
           "linecolor": "white",
           "ticks": "",
           "title": {
            "standoff": 15
           },
           "zerolinecolor": "white",
           "zerolinewidth": 2
          },
          "yaxis": {
           "automargin": true,
           "gridcolor": "white",
           "linecolor": "white",
           "ticks": "",
           "title": {
            "standoff": 15
           },
           "zerolinecolor": "white",
           "zerolinewidth": 2
          }
         }
        },
        "title": {
         "text": "Маршруты от точки в Баренцевом море"
        },
        "xaxis": {
         "anchor": "y",
         "autorange": true,
         "domain": [
          0,
          1
         ],
         "range": [
          "2020-12-25 20:33:20",
          "2021-02-05 21:26:40"
         ],
         "type": "date"
        },
        "yaxis": {
         "anchor": "x",
         "autorange": true,
         "domain": [
          0,
          1
         ],
         "range": [
          -0.5,
          15.5
         ],
         "showgrid": true,
         "title": {
          "text": "name"
         },
         "type": "category"
        }
       }
      },
      "image/png": "[encoded data removed]",
      "text/html": [
       "<div>                            <div id=\"b98af964-c3e9-4cc7-8121-b00f8d3e8f3a\" class=\"plotly-graph-div\" style=\"height:700px; width:100%;\"></div>            <script type=\"text/javascript\">                require([\"plotly\"], function(Plotly) {                    window.PLOTLYENV=window.PLOTLYENV || {};                                    if (document.getElementById(\"b98af964-c3e9-4cc7-8121-b00f8d3e8f3a\")) {                    Plotly.newPlot(                        \"b98af964-c3e9-4cc7-8121-b00f8d3e8f3a\",                        [{\"alignmentgroup\":\"True\",\"base\":[\"2021-01-01T23:30:00\",\"2021-01-12T18:00:00\",\"2021-01-07T19:00:00\",\"2020-12-27T23:00:00\",\"2021-01-01T17:30:00\",\"2021-01-08T22:00:00\",\"2021-01-16T18:00:00\",\"2021-01-13T01:30:00\",\"2021-01-09T03:00:00\",\"2020-12-31T12:00:00\",\"2021-01-02T12:30:00\",\"2021-01-02T00:30:00\"],\"hovertemplate\":\"wiring_needed=False\\u003cbr\\u003edate_start=%{base}\\u003cbr\\u003edate_end=%{x}\\u003cbr\\u003ename=%{y}\\u003cextra\\u003e\\u003c\\u002fextra\\u003e\",\"legendgroup\":\"False\",\"marker\":{\"color\":\"#636efa\",\"pattern\":{\"shape\":\"\"}},\"name\":\"False\",\"offsetgroup\":\"False\",\"orientation\":\"h\",\"showlegend\":true,\"textposition\":\"auto\",\"x\":[279000000.0,360000000.0,289200000.0,928800000.0,214200000.0,144900000.0,176400000.0,288000000.0,412200000.0,172800000.0,171000000.0,169200000.0],\"xaxis\":\"x\",\"y\":[\"\\u0428\\u0442\\u0443\\u0440\\u043c\\u0430\\u043d \\u0410\\u043b\\u044c\\u0431\\u0430\\u043d\\u043e\\u0432\",\"\\u0428\\u0442\\u0443\\u0440\\u043c\\u0430\\u043d \\u0410\\u043b\\u044c\\u0431\\u0430\\u043d\\u043e\\u0432\",\"\\u0428\\u0442\\u0443\\u0440\\u043c\\u0430\\u043d \\u041a\\u043e\\u0448\\u0435\\u043b\\u0435\\u0432\",\"\\u041b\\u0430\\u0433\\u043e\\u0440\\u0442\\u0430\",\"\\u042d\\u0434\\u0443\\u0430\\u0440\\u0434 \\u0422\\u043e\\u043b\\u043b\\u044c\",\"\\u0411\\u043e\\u0440\\u0438\\u0441 \\u0414\\u0430\\u0432\\u044b\\u0434\\u043e\\u0432\",\"\\u0412\\u043b\\u0430\\u0434\\u0438\\u043c\\u0438\\u0440 \\u0412\\u043e\\u0440\\u043e\\u043d\\u0438\\u043d\",\"\\u0410\\u0440\\u043a\\u0442\\u0438\\u043a\\u0430-2\",\"\\u0420\\u0417\\u041a \\u041a\\u043e\\u043d\\u0441\\u0442\\u0430\\u043d\\u0442\\u0430\",\"\\u041c\\u044b\\u0441 \\u0416\\u0435\\u043b\\u0430\\u043d\\u0438\\u044f\",\"LNG PHECDA\",\"LNG DUBHE\"],\"yaxis\":\"y\",\"type\":\"bar\"},{\"alignmentgroup\":\"True\",\"base\":[\"2021-01-21T09:00:00\",\"2021-01-17T13:00:00\",\"2021-01-28T02:00:00\",\"2021-01-19T12:00:00\",\"2021-01-26T22:00:00\",\"2021-01-24T10:00:00\",\"2021-01-23T00:30:00\",\"2021-01-29T10:00:00\",\"2021-01-16T03:00:00\",\"2021-01-16T09:00:00\",\"2021-01-12T10:00:00\",\"2021-01-22T07:00:00\"],\"hovertemplate\":\"wiring_needed=True\\u003cbr\\u003edate_start=%{base}\\u003cbr\\u003edate_end=%{x}\\u003cbr\\u003ename=%{y}\\u003cextra\\u003e\\u003c\\u002fextra\\u003e\",\"legendgroup\":\"True\",\"marker\":{\"color\":\"#EF553B\",\"pattern\":{\"shape\":\"\"}},\"name\":\"True\",\"offsetgroup\":\"True\",\"orientation\":\"h\",\"showlegend\":true,\"textposition\":\"auto\",\"x\":[478800000.0,357600000.0,579600000.0,345600000.0,424800000.0,388800000.0,678600000.0,307800000.0,345600000.0,199800000.0,196200000.0,214200000.0],\"xaxis\":\"x\",\"y\":[\"\\u0428\\u0442\\u0443\\u0440\\u043c\\u0430\\u043d \\u0410\\u043b\\u044c\\u0431\\u0430\\u043d\\u043e\\u0432\",\"\\u0428\\u0442\\u0443\\u0440\\u043c\\u0430\\u043d \\u041a\\u043e\\u0448\\u0435\\u043b\\u0435\\u0432\",\"\\u0428\\u0442\\u0443\\u0440\\u043c\\u0430\\u043d \\u041a\\u043e\\u0448\\u0435\\u043b\\u0435\\u0432\",\"\\u041c\\u0438\\u0445\\u0430\\u0438\\u043b \\u041b\\u0430\\u0437\\u0430\\u0440\\u0435\\u0432\",\"\\u042e\\u0440\\u0438\\u0439 \\u041a\\u0443\\u0447\\u0438\\u0435\\u0432\",\"\\u0411\\u0435\\u0440\\u0438\\u043d\\u0433\",\"\\u0421\\u0435\\u0432\\u0435\\u0440\\u043d\\u044b\\u0439 \\u043f\\u0440\\u043e\\u0435\\u043a\\u0442\",\"\\u041c\\u044b\\u0441 \\u0416\\u0435\\u043b\\u0430\\u043d\\u0438\\u044f\",\"\\u041d\\u0438\\u043a\\u0438\\u0444\\u043e\\u0440 \\u0411\\u0435\\u0433\\u0438\\u0447\\u0435\\u0432\",\"LNG PHECDA\",\"LNG DUBHE\",\"LNG DUBHE\"],\"yaxis\":\"y\",\"type\":\"bar\"}],                        {\"template\":{\"data\":{\"histogram2dcontour\":[{\"type\":\"histogram2dcontour\",\"colorbar\":{\"outlinewidth\":0,\"ticks\":\"\"},\"colorscale\":[[0.0,\"#0d0887\"],[0.1111111111111111,\"#46039f\"],[0.2222222222222222,\"#7201a8\"],[0.3333333333333333,\"#9c179e\"],[0.4444444444444444,\"#bd3786\"],[0.5555555555555556,\"#d8576b\"],[0.6666666666666666,\"#ed7953\"],[0.7777777777777778,\"#fb9f3a\"],[0.8888888888888888,\"#fdca26\"],[1.0,\"#f0f921\"]]}],\"choropleth\":[{\"type\":\"choropleth\",\"colorbar\":{\"outlinewidth\":0,\"ticks\":\"\"}}],\"histogram2d\":[{\"type\":\"histogram2d\",\"colorbar\":{\"outlinewidth\":0,\"ticks\":\"\"},\"colorscale\":[[0.0,\"#0d0887\"],[0.1111111111111111,\"#46039f\"],[0.2222222222222222,\"#7201a8\"],[0.3333333333333333,\"#9c179e\"],[0.4444444444444444,\"#bd3786\"],[0.5555555555555556,\"#d8576b\"],[0.6666666666666666,\"#ed7953\"],[0.7777777777777778,\"#fb9f3a\"],[0.8888888888888888,\"#fdca26\"],[1.0,\"#f0f921\"]]}],\"heatmap\":[{\"type\":\"heatmap\",\"colorbar\":{\"outlinewidth\":0,\"ticks\":\"\"},\"colorscale\":[[0.0,\"#0d0887\"],[0.1111111111111111,\"#46039f\"],[0.2222222222222222,\"#7201a8\"],[0.3333333333333333,\"#9c179e\"],[0.4444444444444444,\"#bd3786\"],[0.5555555555555556,\"#d8576b\"],[0.6666666666666666,\"#ed7953\"],[0.7777777777777778,\"#fb9f3a\"],[0.8888888888888888,\"#fdca26\"],[1.0,\"#f0f921\"]]}],\"heatmapgl\":[{\"type\":\"heatmapgl\",\"colorbar\":{\"outlinewidth\":0,\"ticks\":\"\"},\"colorscale\":[[0.0,\"#0d0887\"],[0.1111111111111111,\"#46039f\"],[0.2222222222222222,\"#7201a8\"],[0.3333333333333333,\"#9c179e\"],[0.4444444444444444,\"#bd3786\"],[0.5555555555555556,\"#d8576b\"],[0.6666666666666666,\"#ed7953\"],[0.7777777777777778,\"#fb9f3a\"],[0.8888888888888888,\"#fdca26\"],[1.0,\"#f0f921\"]]}],\"contourcarpet\":[{\"type\":\"contourcarpet\",\"colorbar\":{\"outlinewidth\":0,\"ticks\":\"\"}}],\"contour\":[{\"type\":\"contour\",\"colorbar\":{\"outlinewidth\":0,\"ticks\":\"\"},\"colorscale\":[[0.0,\"#0d0887\"],[0.1111111111111111,\"#46039f\"],[0.2222222222222222,\"#7201a8\"],[0.3333333333333333,\"#9c179e\"],[0.4444444444444444,\"#bd3786\"],[0.5555555555555556,\"#d8576b\"],[0.6666666666666666,\"#ed7953\"],[0.7777777777777778,\"#fb9f3a\"],[0.8888888888888888,\"#fdca26\"],[1.0,\"#f0f921\"]]}],\"surface\":[{\"type\":\"surface\",\"colorbar\":{\"outlinewidth\":0,\"ticks\":\"\"},\"colorscale\":[[0.0,\"#0d0887\"],[0.1111111111111111,\"#46039f\"],[0.2222222222222222,\"#7201a8\"],[0.3333333333333333,\"#9c179e\"],[0.4444444444444444,\"#bd3786\"],[0.5555555555555556,\"#d8576b\"],[0.6666666666666666,\"#ed7953\"],[0.7777777777777778,\"#fb9f3a\"],[0.8888888888888888,\"#fdca26\"],[1.0,\"#f0f921\"]]}],\"mesh3d\":[{\"type\":\"mesh3d\",\"colorbar\":{\"outlinewidth\":0,\"ticks\":\"\"}}],\"scatter\":[{\"fillpattern\":{\"fillmode\":\"overlay\",\"size\":10,\"solidity\":0.2},\"type\":\"scatter\"}],\"parcoords\":[{\"type\":\"parcoords\",\"line\":{\"colorbar\":{\"outlinewidth\":0,\"ticks\":\"\"}}}],\"scatterpolargl\":[{\"type\":\"scatterpolargl\",\"marker\":{\"colorbar\":{\"outlinewidth\":0,\"ticks\":\"\"}}}],\"bar\":[{\"error_x\":{\"color\":\"#2a3f5f\"},\"error_y\":{\"color\":\"#2a3f5f\"},\"marker\":{\"line\":{\"color\":\"#E5ECF6\",\"width\":0.5},\"pattern\":{\"fillmode\":\"overlay\",\"size\":10,\"solidity\":0.2}},\"type\":\"bar\"}],\"scattergeo\":[{\"type\":\"scattergeo\",\"marker\":{\"colorbar\":{\"outlinewidth\":0,\"ticks\":\"\"}}}],\"scatterpolar\":[{\"type\":\"scatterpolar\",\"marker\":{\"colorbar\":{\"outlinewidth\":0,\"ticks\":\"\"}}}],\"histogram\":[{\"marker\":{\"pattern\":{\"fillmode\":\"overlay\",\"size\":10,\"solidity\":0.2}},\"type\":\"histogram\"}],\"scattergl\":[{\"type\":\"scattergl\",\"marker\":{\"colorbar\":{\"outlinewidth\":0,\"ticks\":\"\"}}}],\"scatter3d\":[{\"type\":\"scatter3d\",\"line\":{\"colorbar\":{\"outlinewidth\":0,\"ticks\":\"\"}},\"marker\":{\"colorbar\":{\"outlinewidth\":0,\"ticks\":\"\"}}}],\"scattermapbox\":[{\"type\":\"scattermapbox\",\"marker\":{\"colorbar\":{\"outlinewidth\":0,\"ticks\":\"\"}}}],\"scatterternary\":[{\"type\":\"scatterternary\",\"marker\":{\"colorbar\":{\"outlinewidth\":0,\"ticks\":\"\"}}}],\"scattercarpet\":[{\"type\":\"scattercarpet\",\"marker\":{\"colorbar\":{\"outlinewidth\":0,\"ticks\":\"\"}}}],\"carpet\":[{\"aaxis\":{\"endlinecolor\":\"#2a3f5f\",\"gridcolor\":\"white\",\"linecolor\":\"white\",\"minorgridcolor\":\"white\",\"startlinecolor\":\"#2a3f5f\"},\"baxis\":{\"endlinecolor\":\"#2a3f5f\",\"gridcolor\":\"white\",\"linecolor\":\"white\",\"minorgridcolor\":\"white\",\"startlinecolor\":\"#2a3f5f\"},\"type\":\"carpet\"}],\"table\":[{\"cells\":{\"fill\":{\"color\":\"#EBF0F8\"},\"line\":{\"color\":\"white\"}},\"header\":{\"fill\":{\"color\":\"#C8D4E3\"},\"line\":{\"color\":\"white\"}},\"type\":\"table\"}],\"barpolar\":[{\"marker\":{\"line\":{\"color\":\"#E5ECF6\",\"width\":0.5},\"pattern\":{\"fillmode\":\"overlay\",\"size\":10,\"solidity\":0.2}},\"type\":\"barpolar\"}],\"pie\":[{\"automargin\":true,\"type\":\"pie\"}]},\"layout\":{\"autotypenumbers\":\"strict\",\"colorway\":[\"#636efa\",\"#EF553B\",\"#00cc96\",\"#ab63fa\",\"#FFA15A\",\"#19d3f3\",\"#FF6692\",\"#B6E880\",\"#FF97FF\",\"#FECB52\"],\"font\":{\"color\":\"#2a3f5f\"},\"hovermode\":\"closest\",\"hoverlabel\":{\"align\":\"left\"},\"paper_bgcolor\":\"white\",\"plot_bgcolor\":\"#E5ECF6\",\"polar\":{\"bgcolor\":\"#E5ECF6\",\"angularaxis\":{\"gridcolor\":\"white\",\"linecolor\":\"white\",\"ticks\":\"\"},\"radialaxis\":{\"gridcolor\":\"white\",\"linecolor\":\"white\",\"ticks\":\"\"}},\"ternary\":{\"bgcolor\":\"#E5ECF6\",\"aaxis\":{\"gridcolor\":\"white\",\"linecolor\":\"white\",\"ticks\":\"\"},\"baxis\":{\"gridcolor\":\"white\",\"linecolor\":\"white\",\"ticks\":\"\"},\"caxis\":{\"gridcolor\":\"white\",\"linecolor\":\"white\",\"ticks\":\"\"}},\"coloraxis\":{\"colorbar\":{\"outlinewidth\":0,\"ticks\":\"\"}},\"colorscale\":{\"sequential\":[[0.0,\"#0d0887\"],[0.1111111111111111,\"#46039f\"],[0.2222222222222222,\"#7201a8\"],[0.3333333333333333,\"#9c179e\"],[0.4444444444444444,\"#bd3786\"],[0.5555555555555556,\"#d8576b\"],[0.6666666666666666,\"#ed7953\"],[0.7777777777777778,\"#fb9f3a\"],[0.8888888888888888,\"#fdca26\"],[1.0,\"#f0f921\"]],\"sequentialminus\":[[0.0,\"#0d0887\"],[0.1111111111111111,\"#46039f\"],[0.2222222222222222,\"#7201a8\"],[0.3333333333333333,\"#9c179e\"],[0.4444444444444444,\"#bd3786\"],[0.5555555555555556,\"#d8576b\"],[0.6666666666666666,\"#ed7953\"],[0.7777777777777778,\"#fb9f3a\"],[0.8888888888888888,\"#fdca26\"],[1.0,\"#f0f921\"]],\"diverging\":[[0,\"#8e0152\"],[0.1,\"#c51b7d\"],[0.2,\"#de77ae\"],[0.3,\"#f1b6da\"],[0.4,\"#fde0ef\"],[0.5,\"#f7f7f7\"],[0.6,\"#e6f5d0\"],[0.7,\"#b8e186\"],[0.8,\"#7fbc41\"],[0.9,\"#4d9221\"],[1,\"#276419\"]]},\"xaxis\":{\"gridcolor\":\"white\",\"linecolor\":\"white\",\"ticks\":\"\",\"title\":{\"standoff\":15},\"zerolinecolor\":\"white\",\"automargin\":true,\"zerolinewidth\":2},\"yaxis\":{\"gridcolor\":\"white\",\"linecolor\":\"white\",\"ticks\":\"\",\"title\":{\"standoff\":15},\"zerolinecolor\":\"white\",\"automargin\":true,\"zerolinewidth\":2},\"scene\":{\"xaxis\":{\"backgroundcolor\":\"#E5ECF6\",\"gridcolor\":\"white\",\"linecolor\":\"white\",\"showbackground\":true,\"ticks\":\"\",\"zerolinecolor\":\"white\",\"gridwidth\":2},\"yaxis\":{\"backgroundcolor\":\"#E5ECF6\",\"gridcolor\":\"white\",\"linecolor\":\"white\",\"showbackground\":true,\"ticks\":\"\",\"zerolinecolor\":\"white\",\"gridwidth\":2},\"zaxis\":{\"backgroundcolor\":\"#E5ECF6\",\"gridcolor\":\"white\",\"linecolor\":\"white\",\"showbackground\":true,\"ticks\":\"\",\"zerolinecolor\":\"white\",\"gridwidth\":2}},\"shapedefaults\":{\"line\":{\"color\":\"#2a3f5f\"}},\"annotationdefaults\":{\"arrowcolor\":\"#2a3f5f\",\"arrowhead\":0,\"arrowwidth\":1},\"geo\":{\"bgcolor\":\"white\",\"landcolor\":\"#E5ECF6\",\"subunitcolor\":\"white\",\"showland\":true,\"showlakes\":true,\"lakecolor\":\"white\"},\"title\":{\"x\":0.05},\"mapbox\":{\"style\":\"light\"}}},\"xaxis\":{\"anchor\":\"y\",\"domain\":[0.0,1.0],\"type\":\"date\"},\"yaxis\":{\"anchor\":\"x\",\"domain\":[0.0,1.0],\"title\":{\"text\":\"name\"},\"showgrid\":true},\"legend\":{\"title\":{\"text\":\"wiring_needed\"},\"tracegroupgap\":0},\"margin\":{\"t\":60},\"barmode\":\"overlay\",\"height\":700,\"title\":{\"text\":\"\\u041c\\u0430\\u0440\\u0448\\u0440\\u0443\\u0442\\u044b \\u043e\\u0442 \\u0442\\u043e\\u0447\\u043a\\u0438 \\u0432 \\u0411\\u0430\\u0440\\u0435\\u043d\\u0446\\u0435\\u0432\\u043e\\u043c \\u043c\\u043e\\u0440\\u0435\"}},                        {\"responsive\": true}                    ).then(function(){\n",
       "                            \n",
       "var gd = document.getElementById('b98af964-c3e9-4cc7-8121-b00f8d3e8f3a');\n",
       "var x = new MutationObserver(function (mutations, observer) {{\n",
       "        var display = window.getComputedStyle(gd).display;\n",
       "        if (!display || display === 'none') {{\n",
       "            console.log([gd, 'removed!']);\n",
       "            Plotly.purge(gd);\n",
       "            observer.disconnect();\n",
       "        }}\n",
       "}});\n",
       "\n",
       "// Listen for the removal of the full notebook cells\n",
       "var notebookContainer = gd.closest('#notebook-container');\n",
       "if (notebookContainer) {{\n",
       "    x.observe(notebookContainer, {childList: true});\n",
       "}}\n",
       "\n",
       "// Listen for the clearing of the current output cell\n",
       "var outputEl = gd.closest('.output');\n",
       "if (outputEl) {{\n",
       "    x.observe(outputEl, {childList: true});\n",
       "}}\n",
       "\n",
       "                        })                };                });            </script>        </div>"
      ]
     },
     "metadata": {},
     "output_type": "display_data"
    }
   ],
   "source": [
    "fig = px.timeline(requests[requests.start_point == 'точка в Баренцевом море'], \n",
    "                  x_start='date_start', x_end='date_end', y='name', color='wiring_needed')\n",
    "fig.update_layout(height=700, yaxis=dict(showgrid=True), title='Маршруты от точки в Баренцевом море')\n",
    "fig.show()"
   ]
  },
  {
   "cell_type": "code",
   "execution_count": 186,
   "id": "1c1a0077-5094-45f0-86ba-78f2523fa75c",
   "metadata": {
    "tags": []
   },
   "outputs": [
    {
     "data": {
      "application/vnd.plotly.v1+json": {
       "config": {
        "plotlyServerURL": "https://plot.ly"
       },
       "data": [
        {
         "alignmentgroup": "True",
         "base": [
          "2021-01-06T11:00:00",
          "2021-01-02T20:30:00",
          "2021-01-07T00:00:00",
          "2021-01-07T17:00:00",
          "2021-01-01T00:00:00",
          "2020-12-29T15:00:00",
          "2021-01-05T21:00:00",
          "2021-01-16T12:30:00",
          "2021-01-04T11:00:00"
         ],
         "hovertemplate": "wiring_needed=False<br>date_start=%{base}<br>date_end=%{x}<br>name=%{y}<extra></extra>",
         "legendgroup": "False",
         "marker": {
          "color": "#636efa",
          "pattern": {
           "shape": ""
          }
         },
         "name": "False",
         "offsetgroup": "False",
         "orientation": "h",
         "showlegend": true,
         "textposition": "auto",
         "type": "bar",
         "x": [
          370800000,
          297000000,
          309600000,
          329400000,
          218700000,
          361800000,
          219600000,
          293400000,
          183600000
         ],
         "xaxis": "x",
         "y": [
          "Штурман Альбанов",
          "Штурман Кошелев",
          "Юрий Кучиев",
          "Эдуард Толль",
          "Владимир Русанов",
          "РЗК Константа",
          "Беринг",
          "Мыс Желания",
          "LNG PHECDA"
         ],
         "yaxis": "y"
        },
        {
         "alignmentgroup": "True",
         "base": [
          "2021-01-17T06:00:00",
          "2021-01-28T01:00:00",
          "2021-01-13T16:00:00",
          "2021-01-22T07:30:00",
          "2021-01-20T15:00:00",
          "2021-01-14T22:00:00",
          "2021-01-26T10:00:00",
          "2021-01-24T21:00:00",
          "2021-01-19T04:00:00",
          "2021-01-22T03:00:00",
          "2021-01-20T09:00:00",
          "2021-01-06T15:00:00",
          "2021-01-13T19:30:00",
          "2021-01-23T00:30:00"
         ],
         "hovertemplate": "wiring_needed=True<br>date_start=%{base}<br>date_end=%{x}<br>name=%{y}<extra></extra>",
         "legendgroup": "True",
         "marker": {
          "color": "#EF553B",
          "pattern": {
           "shape": ""
          }
         },
         "name": "True",
         "offsetgroup": "True",
         "orientation": "h",
         "showlegend": true,
         "textposition": "auto",
         "type": "bar",
         "x": [
          398700000,
          496800000,
          338400000,
          387000000,
          889200000,
          302400000,
          304200000,
          345600000,
          309600000,
          414000000,
          219600000,
          176400000,
          138600000,
          255600000
         ],
         "xaxis": "x",
         "y": [
          "Штурман Альбанов",
          "Штурман Альбанов",
          "Штурман Кошелев",
          "Штурман Кошелев",
          "Лагорта",
          "Михаил Лазарев",
          "Владимир Воронин",
          "Арктика-2",
          "РЗК Константа",
          "Никифор Бегичев",
          "LNG PHECDA",
          "LNG DUBHE",
          "LNG DUBHE",
          "LNG DUBHE"
         ],
         "yaxis": "y"
        }
       ],
       "layout": {
        "autosize": true,
        "barmode": "overlay",
        "legend": {
         "title": {
          "text": "wiring_needed"
         },
         "tracegroupgap": 0
        },
        "margin": {
         "t": 60
        },
        "template": {
         "data": {
          "bar": [
           {
            "error_x": {
             "color": "#2a3f5f"
            },
            "error_y": {
             "color": "#2a3f5f"
            },
            "marker": {
             "line": {
              "color": "#E5ECF6",
              "width": 0.5
             },
             "pattern": {
              "fillmode": "overlay",
              "size": 10,
              "solidity": 0.2
             }
            },
            "type": "bar"
           }
          ],
          "barpolar": [
           {
            "marker": {
             "line": {
              "color": "#E5ECF6",
              "width": 0.5
             },
             "pattern": {
              "fillmode": "overlay",
              "size": 10,
              "solidity": 0.2
             }
            },
            "type": "barpolar"
           }
          ],
          "carpet": [
           {
            "aaxis": {
             "endlinecolor": "#2a3f5f",
             "gridcolor": "white",
             "linecolor": "white",
             "minorgridcolor": "white",
             "startlinecolor": "#2a3f5f"
            },
            "baxis": {
             "endlinecolor": "#2a3f5f",
             "gridcolor": "white",
             "linecolor": "white",
             "minorgridcolor": "white",
             "startlinecolor": "#2a3f5f"
            },
            "type": "carpet"
           }
          ],
          "choropleth": [
           {
            "colorbar": {
             "outlinewidth": 0,
             "ticks": ""
            },
            "type": "choropleth"
           }
          ],
          "contour": [
           {
            "colorbar": {
             "outlinewidth": 0,
             "ticks": ""
            },
            "colorscale": [
             [
              0,
              "#0d0887"
             ],
             [
              0.1111111111111111,
              "#46039f"
             ],
             [
              0.2222222222222222,
              "#7201a8"
             ],
             [
              0.3333333333333333,
              "#9c179e"
             ],
             [
              0.4444444444444444,
              "#bd3786"
             ],
             [
              0.5555555555555556,
              "#d8576b"
             ],
             [
              0.6666666666666666,
              "#ed7953"
             ],
             [
              0.7777777777777778,
              "#fb9f3a"
             ],
             [
              0.8888888888888888,
              "#fdca26"
             ],
             [
              1,
              "#f0f921"
             ]
            ],
            "type": "contour"
           }
          ],
          "contourcarpet": [
           {
            "colorbar": {
             "outlinewidth": 0,
             "ticks": ""
            },
            "type": "contourcarpet"
           }
          ],
          "heatmap": [
           {
            "colorbar": {
             "outlinewidth": 0,
             "ticks": ""
            },
            "colorscale": [
             [
              0,
              "#0d0887"
             ],
             [
              0.1111111111111111,
              "#46039f"
             ],
             [
              0.2222222222222222,
              "#7201a8"
             ],
             [
              0.3333333333333333,
              "#9c179e"
             ],
             [
              0.4444444444444444,
              "#bd3786"
             ],
             [
              0.5555555555555556,
              "#d8576b"
             ],
             [
              0.6666666666666666,
              "#ed7953"
             ],
             [
              0.7777777777777778,
              "#fb9f3a"
             ],
             [
              0.8888888888888888,
              "#fdca26"
             ],
             [
              1,
              "#f0f921"
             ]
            ],
            "type": "heatmap"
           }
          ],
          "heatmapgl": [
           {
            "colorbar": {
             "outlinewidth": 0,
             "ticks": ""
            },
            "colorscale": [
             [
              0,
              "#0d0887"
             ],
             [
              0.1111111111111111,
              "#46039f"
             ],
             [
              0.2222222222222222,
              "#7201a8"
             ],
             [
              0.3333333333333333,
              "#9c179e"
             ],
             [
              0.4444444444444444,
              "#bd3786"
             ],
             [
              0.5555555555555556,
              "#d8576b"
             ],
             [
              0.6666666666666666,
              "#ed7953"
             ],
             [
              0.7777777777777778,
              "#fb9f3a"
             ],
             [
              0.8888888888888888,
              "#fdca26"
             ],
             [
              1,
              "#f0f921"
             ]
            ],
            "type": "heatmapgl"
           }
          ],
          "histogram": [
           {
            "marker": {
             "pattern": {
              "fillmode": "overlay",
              "size": 10,
              "solidity": 0.2
             }
            },
            "type": "histogram"
           }
          ],
          "histogram2d": [
           {
            "colorbar": {
             "outlinewidth": 0,
             "ticks": ""
            },
            "colorscale": [
             [
              0,
              "#0d0887"
             ],
             [
              0.1111111111111111,
              "#46039f"
             ],
             [
              0.2222222222222222,
              "#7201a8"
             ],
             [
              0.3333333333333333,
              "#9c179e"
             ],
             [
              0.4444444444444444,
              "#bd3786"
             ],
             [
              0.5555555555555556,
              "#d8576b"
             ],
             [
              0.6666666666666666,
              "#ed7953"
             ],
             [
              0.7777777777777778,
              "#fb9f3a"
             ],
             [
              0.8888888888888888,
              "#fdca26"
             ],
             [
              1,
              "#f0f921"
             ]
            ],
            "type": "histogram2d"
           }
          ],
          "histogram2dcontour": [
           {
            "colorbar": {
             "outlinewidth": 0,
             "ticks": ""
            },
            "colorscale": [
             [
              0,
              "#0d0887"
             ],
             [
              0.1111111111111111,
              "#46039f"
             ],
             [
              0.2222222222222222,
              "#7201a8"
             ],
             [
              0.3333333333333333,
              "#9c179e"
             ],
             [
              0.4444444444444444,
              "#bd3786"
             ],
             [
              0.5555555555555556,
              "#d8576b"
             ],
             [
              0.6666666666666666,
              "#ed7953"
             ],
             [
              0.7777777777777778,
              "#fb9f3a"
             ],
             [
              0.8888888888888888,
              "#fdca26"
             ],
             [
              1,
              "#f0f921"
             ]
            ],
            "type": "histogram2dcontour"
           }
          ],
          "mesh3d": [
           {
            "colorbar": {
             "outlinewidth": 0,
             "ticks": ""
            },
            "type": "mesh3d"
           }
          ],
          "parcoords": [
           {
            "line": {
             "colorbar": {
              "outlinewidth": 0,
              "ticks": ""
             }
            },
            "type": "parcoords"
           }
          ],
          "pie": [
           {
            "automargin": true,
            "type": "pie"
           }
          ],
          "scatter": [
           {
            "fillpattern": {
             "fillmode": "overlay",
             "size": 10,
             "solidity": 0.2
            },
            "type": "scatter"
           }
          ],
          "scatter3d": [
           {
            "line": {
             "colorbar": {
              "outlinewidth": 0,
              "ticks": ""
             }
            },
            "marker": {
             "colorbar": {
              "outlinewidth": 0,
              "ticks": ""
             }
            },
            "type": "scatter3d"
           }
          ],
          "scattercarpet": [
           {
            "marker": {
             "colorbar": {
              "outlinewidth": 0,
              "ticks": ""
             }
            },
            "type": "scattercarpet"
           }
          ],
          "scattergeo": [
           {
            "marker": {
             "colorbar": {
              "outlinewidth": 0,
              "ticks": ""
             }
            },
            "type": "scattergeo"
           }
          ],
          "scattergl": [
           {
            "marker": {
             "colorbar": {
              "outlinewidth": 0,
              "ticks": ""
             }
            },
            "type": "scattergl"
           }
          ],
          "scattermapbox": [
           {
            "marker": {
             "colorbar": {
              "outlinewidth": 0,
              "ticks": ""
             }
            },
            "type": "scattermapbox"
           }
          ],
          "scatterpolar": [
           {
            "marker": {
             "colorbar": {
              "outlinewidth": 0,
              "ticks": ""
             }
            },
            "type": "scatterpolar"
           }
          ],
          "scatterpolargl": [
           {
            "marker": {
             "colorbar": {
              "outlinewidth": 0,
              "ticks": ""
             }
            },
            "type": "scatterpolargl"
           }
          ],
          "scatterternary": [
           {
            "marker": {
             "colorbar": {
              "outlinewidth": 0,
              "ticks": ""
             }
            },
            "type": "scatterternary"
           }
          ],
          "surface": [
           {
            "colorbar": {
             "outlinewidth": 0,
             "ticks": ""
            },
            "colorscale": [
             [
              0,
              "#0d0887"
             ],
             [
              0.1111111111111111,
              "#46039f"
             ],
             [
              0.2222222222222222,
              "#7201a8"
             ],
             [
              0.3333333333333333,
              "#9c179e"
             ],
             [
              0.4444444444444444,
              "#bd3786"
             ],
             [
              0.5555555555555556,
              "#d8576b"
             ],
             [
              0.6666666666666666,
              "#ed7953"
             ],
             [
              0.7777777777777778,
              "#fb9f3a"
             ],
             [
              0.8888888888888888,
              "#fdca26"
             ],
             [
              1,
              "#f0f921"
             ]
            ],
            "type": "surface"
           }
          ],
          "table": [
           {
            "cells": {
             "fill": {
              "color": "#EBF0F8"
             },
             "line": {
              "color": "white"
             }
            },
            "header": {
             "fill": {
              "color": "#C8D4E3"
             },
             "line": {
              "color": "white"
             }
            },
            "type": "table"
           }
          ]
         },
         "layout": {
          "annotationdefaults": {
           "arrowcolor": "#2a3f5f",
           "arrowhead": 0,
           "arrowwidth": 1
          },
          "autotypenumbers": "strict",
          "coloraxis": {
           "colorbar": {
            "outlinewidth": 0,
            "ticks": ""
           }
          },
          "colorscale": {
           "diverging": [
            [
             0,
             "#8e0152"
            ],
            [
             0.1,
             "#c51b7d"
            ],
            [
             0.2,
             "#de77ae"
            ],
            [
             0.3,
             "#f1b6da"
            ],
            [
             0.4,
             "#fde0ef"
            ],
            [
             0.5,
             "#f7f7f7"
            ],
            [
             0.6,
             "#e6f5d0"
            ],
            [
             0.7,
             "#b8e186"
            ],
            [
             0.8,
             "#7fbc41"
            ],
            [
             0.9,
             "#4d9221"
            ],
            [
             1,
             "#276419"
            ]
           ],
           "sequential": [
            [
             0,
             "#0d0887"
            ],
            [
             0.1111111111111111,
             "#46039f"
            ],
            [
             0.2222222222222222,
             "#7201a8"
            ],
            [
             0.3333333333333333,
             "#9c179e"
            ],
            [
             0.4444444444444444,
             "#bd3786"
            ],
            [
             0.5555555555555556,
             "#d8576b"
            ],
            [
             0.6666666666666666,
             "#ed7953"
            ],
            [
             0.7777777777777778,
             "#fb9f3a"
            ],
            [
             0.8888888888888888,
             "#fdca26"
            ],
            [
             1,
             "#f0f921"
            ]
           ],
           "sequentialminus": [
            [
             0,
             "#0d0887"
            ],
            [
             0.1111111111111111,
             "#46039f"
            ],
            [
             0.2222222222222222,
             "#7201a8"
            ],
            [
             0.3333333333333333,
             "#9c179e"
            ],
            [
             0.4444444444444444,
             "#bd3786"
            ],
            [
             0.5555555555555556,
             "#d8576b"
            ],
            [
             0.6666666666666666,
             "#ed7953"
            ],
            [
             0.7777777777777778,
             "#fb9f3a"
            ],
            [
             0.8888888888888888,
             "#fdca26"
            ],
            [
             1,
             "#f0f921"
            ]
           ]
          },
          "colorway": [
           "#636efa",
           "#EF553B",
           "#00cc96",
           "#ab63fa",
           "#FFA15A",
           "#19d3f3",
           "#FF6692",
           "#B6E880",
           "#FF97FF",
           "#FECB52"
          ],
          "font": {
           "color": "#2a3f5f"
          },
          "geo": {
           "bgcolor": "white",
           "lakecolor": "white",
           "landcolor": "#E5ECF6",
           "showlakes": true,
           "showland": true,
           "subunitcolor": "white"
          },
          "hoverlabel": {
           "align": "left"
          },
          "hovermode": "closest",
          "mapbox": {
           "style": "light"
          },
          "paper_bgcolor": "white",
          "plot_bgcolor": "#E5ECF6",
          "polar": {
           "angularaxis": {
            "gridcolor": "white",
            "linecolor": "white",
            "ticks": ""
           },
           "bgcolor": "#E5ECF6",
           "radialaxis": {
            "gridcolor": "white",
            "linecolor": "white",
            "ticks": ""
           }
          },
          "scene": {
           "xaxis": {
            "backgroundcolor": "#E5ECF6",
            "gridcolor": "white",
            "gridwidth": 2,
            "linecolor": "white",
            "showbackground": true,
            "ticks": "",
            "zerolinecolor": "white"
           },
           "yaxis": {
            "backgroundcolor": "#E5ECF6",
            "gridcolor": "white",
            "gridwidth": 2,
            "linecolor": "white",
            "showbackground": true,
            "ticks": "",
            "zerolinecolor": "white"
           },
           "zaxis": {
            "backgroundcolor": "#E5ECF6",
            "gridcolor": "white",
            "gridwidth": 2,
            "linecolor": "white",
            "showbackground": true,
            "ticks": "",
            "zerolinecolor": "white"
           }
          },
          "shapedefaults": {
           "line": {
            "color": "#2a3f5f"
           }
          },
          "ternary": {
           "aaxis": {
            "gridcolor": "white",
            "linecolor": "white",
            "ticks": ""
           },
           "baxis": {
            "gridcolor": "white",
            "linecolor": "white",
            "ticks": ""
           },
           "bgcolor": "#E5ECF6",
           "caxis": {
            "gridcolor": "white",
            "linecolor": "white",
            "ticks": ""
           }
          },
          "title": {
           "x": 0.05
          },
          "xaxis": {
           "automargin": true,
           "gridcolor": "white",
           "linecolor": "white",
           "ticks": "",
           "title": {
            "standoff": 15
           },
           "zerolinecolor": "white",
           "zerolinewidth": 2
          },
          "yaxis": {
           "automargin": true,
           "gridcolor": "white",
           "linecolor": "white",
           "ticks": "",
           "title": {
            "standoff": 15
           },
           "zerolinecolor": "white",
           "zerolinewidth": 2
          }
         }
        },
        "title": {
         "text": "Маршруты из портов"
        },
        "xaxis": {
         "anchor": "y",
         "autorange": true,
         "domain": [
          0,
          1
         ],
         "range": [
          "2020-12-27 16:06:40",
          "2021-02-04 17:53:20"
         ],
         "type": "date"
        },
        "yaxis": {
         "anchor": "x",
         "autorange": true,
         "domain": [
          0,
          1
         ],
         "range": [
          -0.5,
          14.5
         ],
         "showgrid": true,
         "title": {
          "text": "name"
         },
         "type": "category"
        }
       }
      },
      "image/png": "[encoded data removed]",
      "text/html": [
       "<div>                            <div id=\"bc54e1bf-bb05-4612-bc3e-1c20658eb435\" class=\"plotly-graph-div\" style=\"height:700px; width:100%;\"></div>            <script type=\"text/javascript\">                require([\"plotly\"], function(Plotly) {                    window.PLOTLYENV=window.PLOTLYENV || {};                                    if (document.getElementById(\"bc54e1bf-bb05-4612-bc3e-1c20658eb435\")) {                    Plotly.newPlot(                        \"bc54e1bf-bb05-4612-bc3e-1c20658eb435\",                        [{\"alignmentgroup\":\"True\",\"base\":[\"2021-01-06T11:00:00\",\"2021-01-02T20:30:00\",\"2021-01-07T00:00:00\",\"2021-01-07T17:00:00\",\"2021-01-01T00:00:00\",\"2020-12-29T15:00:00\",\"2021-01-05T21:00:00\",\"2021-01-16T12:30:00\",\"2021-01-04T11:00:00\"],\"hovertemplate\":\"wiring_needed=False\\u003cbr\\u003edate_start=%{base}\\u003cbr\\u003edate_end=%{x}\\u003cbr\\u003ename=%{y}\\u003cextra\\u003e\\u003c\\u002fextra\\u003e\",\"legendgroup\":\"False\",\"marker\":{\"color\":\"#636efa\",\"pattern\":{\"shape\":\"\"}},\"name\":\"False\",\"offsetgroup\":\"False\",\"orientation\":\"h\",\"showlegend\":true,\"textposition\":\"auto\",\"x\":[370800000.0,297000000.0,309600000.0,329400000.0,218700000.0,361800000.0,219600000.0,293400000.0,183600000.0],\"xaxis\":\"x\",\"y\":[\"\\u0428\\u0442\\u0443\\u0440\\u043c\\u0430\\u043d \\u0410\\u043b\\u044c\\u0431\\u0430\\u043d\\u043e\\u0432\",\"\\u0428\\u0442\\u0443\\u0440\\u043c\\u0430\\u043d \\u041a\\u043e\\u0448\\u0435\\u043b\\u0435\\u0432\",\"\\u042e\\u0440\\u0438\\u0439 \\u041a\\u0443\\u0447\\u0438\\u0435\\u0432\",\"\\u042d\\u0434\\u0443\\u0430\\u0440\\u0434 \\u0422\\u043e\\u043b\\u043b\\u044c\",\"\\u0412\\u043b\\u0430\\u0434\\u0438\\u043c\\u0438\\u0440 \\u0420\\u0443\\u0441\\u0430\\u043d\\u043e\\u0432\",\"\\u0420\\u0417\\u041a \\u041a\\u043e\\u043d\\u0441\\u0442\\u0430\\u043d\\u0442\\u0430\",\"\\u0411\\u0435\\u0440\\u0438\\u043d\\u0433\",\"\\u041c\\u044b\\u0441 \\u0416\\u0435\\u043b\\u0430\\u043d\\u0438\\u044f\",\"LNG PHECDA\"],\"yaxis\":\"y\",\"type\":\"bar\"},{\"alignmentgroup\":\"True\",\"base\":[\"2021-01-17T06:00:00\",\"2021-01-28T01:00:00\",\"2021-01-13T16:00:00\",\"2021-01-22T07:30:00\",\"2021-01-20T15:00:00\",\"2021-01-14T22:00:00\",\"2021-01-26T10:00:00\",\"2021-01-24T21:00:00\",\"2021-01-19T04:00:00\",\"2021-01-22T03:00:00\",\"2021-01-20T09:00:00\",\"2021-01-06T15:00:00\",\"2021-01-13T19:30:00\",\"2021-01-23T00:30:00\"],\"hovertemplate\":\"wiring_needed=True\\u003cbr\\u003edate_start=%{base}\\u003cbr\\u003edate_end=%{x}\\u003cbr\\u003ename=%{y}\\u003cextra\\u003e\\u003c\\u002fextra\\u003e\",\"legendgroup\":\"True\",\"marker\":{\"color\":\"#EF553B\",\"pattern\":{\"shape\":\"\"}},\"name\":\"True\",\"offsetgroup\":\"True\",\"orientation\":\"h\",\"showlegend\":true,\"textposition\":\"auto\",\"x\":[398700000.0,496800000.0,338400000.0,387000000.0,889200000.0,302400000.0,304200000.0,345600000.0,309600000.0,414000000.0,219600000.0,176400000.0,138600000.0,255600000.0],\"xaxis\":\"x\",\"y\":[\"\\u0428\\u0442\\u0443\\u0440\\u043c\\u0430\\u043d \\u0410\\u043b\\u044c\\u0431\\u0430\\u043d\\u043e\\u0432\",\"\\u0428\\u0442\\u0443\\u0440\\u043c\\u0430\\u043d \\u0410\\u043b\\u044c\\u0431\\u0430\\u043d\\u043e\\u0432\",\"\\u0428\\u0442\\u0443\\u0440\\u043c\\u0430\\u043d \\u041a\\u043e\\u0448\\u0435\\u043b\\u0435\\u0432\",\"\\u0428\\u0442\\u0443\\u0440\\u043c\\u0430\\u043d \\u041a\\u043e\\u0448\\u0435\\u043b\\u0435\\u0432\",\"\\u041b\\u0430\\u0433\\u043e\\u0440\\u0442\\u0430\",\"\\u041c\\u0438\\u0445\\u0430\\u0438\\u043b \\u041b\\u0430\\u0437\\u0430\\u0440\\u0435\\u0432\",\"\\u0412\\u043b\\u0430\\u0434\\u0438\\u043c\\u0438\\u0440 \\u0412\\u043e\\u0440\\u043e\\u043d\\u0438\\u043d\",\"\\u0410\\u0440\\u043a\\u0442\\u0438\\u043a\\u0430-2\",\"\\u0420\\u0417\\u041a \\u041a\\u043e\\u043d\\u0441\\u0442\\u0430\\u043d\\u0442\\u0430\",\"\\u041d\\u0438\\u043a\\u0438\\u0444\\u043e\\u0440 \\u0411\\u0435\\u0433\\u0438\\u0447\\u0435\\u0432\",\"LNG PHECDA\",\"LNG DUBHE\",\"LNG DUBHE\",\"LNG DUBHE\"],\"yaxis\":\"y\",\"type\":\"bar\"}],                        {\"template\":{\"data\":{\"histogram2dcontour\":[{\"type\":\"histogram2dcontour\",\"colorbar\":{\"outlinewidth\":0,\"ticks\":\"\"},\"colorscale\":[[0.0,\"#0d0887\"],[0.1111111111111111,\"#46039f\"],[0.2222222222222222,\"#7201a8\"],[0.3333333333333333,\"#9c179e\"],[0.4444444444444444,\"#bd3786\"],[0.5555555555555556,\"#d8576b\"],[0.6666666666666666,\"#ed7953\"],[0.7777777777777778,\"#fb9f3a\"],[0.8888888888888888,\"#fdca26\"],[1.0,\"#f0f921\"]]}],\"choropleth\":[{\"type\":\"choropleth\",\"colorbar\":{\"outlinewidth\":0,\"ticks\":\"\"}}],\"histogram2d\":[{\"type\":\"histogram2d\",\"colorbar\":{\"outlinewidth\":0,\"ticks\":\"\"},\"colorscale\":[[0.0,\"#0d0887\"],[0.1111111111111111,\"#46039f\"],[0.2222222222222222,\"#7201a8\"],[0.3333333333333333,\"#9c179e\"],[0.4444444444444444,\"#bd3786\"],[0.5555555555555556,\"#d8576b\"],[0.6666666666666666,\"#ed7953\"],[0.7777777777777778,\"#fb9f3a\"],[0.8888888888888888,\"#fdca26\"],[1.0,\"#f0f921\"]]}],\"heatmap\":[{\"type\":\"heatmap\",\"colorbar\":{\"outlinewidth\":0,\"ticks\":\"\"},\"colorscale\":[[0.0,\"#0d0887\"],[0.1111111111111111,\"#46039f\"],[0.2222222222222222,\"#7201a8\"],[0.3333333333333333,\"#9c179e\"],[0.4444444444444444,\"#bd3786\"],[0.5555555555555556,\"#d8576b\"],[0.6666666666666666,\"#ed7953\"],[0.7777777777777778,\"#fb9f3a\"],[0.8888888888888888,\"#fdca26\"],[1.0,\"#f0f921\"]]}],\"heatmapgl\":[{\"type\":\"heatmapgl\",\"colorbar\":{\"outlinewidth\":0,\"ticks\":\"\"},\"colorscale\":[[0.0,\"#0d0887\"],[0.1111111111111111,\"#46039f\"],[0.2222222222222222,\"#7201a8\"],[0.3333333333333333,\"#9c179e\"],[0.4444444444444444,\"#bd3786\"],[0.5555555555555556,\"#d8576b\"],[0.6666666666666666,\"#ed7953\"],[0.7777777777777778,\"#fb9f3a\"],[0.8888888888888888,\"#fdca26\"],[1.0,\"#f0f921\"]]}],\"contourcarpet\":[{\"type\":\"contourcarpet\",\"colorbar\":{\"outlinewidth\":0,\"ticks\":\"\"}}],\"contour\":[{\"type\":\"contour\",\"colorbar\":{\"outlinewidth\":0,\"ticks\":\"\"},\"colorscale\":[[0.0,\"#0d0887\"],[0.1111111111111111,\"#46039f\"],[0.2222222222222222,\"#7201a8\"],[0.3333333333333333,\"#9c179e\"],[0.4444444444444444,\"#bd3786\"],[0.5555555555555556,\"#d8576b\"],[0.6666666666666666,\"#ed7953\"],[0.7777777777777778,\"#fb9f3a\"],[0.8888888888888888,\"#fdca26\"],[1.0,\"#f0f921\"]]}],\"surface\":[{\"type\":\"surface\",\"colorbar\":{\"outlinewidth\":0,\"ticks\":\"\"},\"colorscale\":[[0.0,\"#0d0887\"],[0.1111111111111111,\"#46039f\"],[0.2222222222222222,\"#7201a8\"],[0.3333333333333333,\"#9c179e\"],[0.4444444444444444,\"#bd3786\"],[0.5555555555555556,\"#d8576b\"],[0.6666666666666666,\"#ed7953\"],[0.7777777777777778,\"#fb9f3a\"],[0.8888888888888888,\"#fdca26\"],[1.0,\"#f0f921\"]]}],\"mesh3d\":[{\"type\":\"mesh3d\",\"colorbar\":{\"outlinewidth\":0,\"ticks\":\"\"}}],\"scatter\":[{\"fillpattern\":{\"fillmode\":\"overlay\",\"size\":10,\"solidity\":0.2},\"type\":\"scatter\"}],\"parcoords\":[{\"type\":\"parcoords\",\"line\":{\"colorbar\":{\"outlinewidth\":0,\"ticks\":\"\"}}}],\"scatterpolargl\":[{\"type\":\"scatterpolargl\",\"marker\":{\"colorbar\":{\"outlinewidth\":0,\"ticks\":\"\"}}}],\"bar\":[{\"error_x\":{\"color\":\"#2a3f5f\"},\"error_y\":{\"color\":\"#2a3f5f\"},\"marker\":{\"line\":{\"color\":\"#E5ECF6\",\"width\":0.5},\"pattern\":{\"fillmode\":\"overlay\",\"size\":10,\"solidity\":0.2}},\"type\":\"bar\"}],\"scattergeo\":[{\"type\":\"scattergeo\",\"marker\":{\"colorbar\":{\"outlinewidth\":0,\"ticks\":\"\"}}}],\"scatterpolar\":[{\"type\":\"scatterpolar\",\"marker\":{\"colorbar\":{\"outlinewidth\":0,\"ticks\":\"\"}}}],\"histogram\":[{\"marker\":{\"pattern\":{\"fillmode\":\"overlay\",\"size\":10,\"solidity\":0.2}},\"type\":\"histogram\"}],\"scattergl\":[{\"type\":\"scattergl\",\"marker\":{\"colorbar\":{\"outlinewidth\":0,\"ticks\":\"\"}}}],\"scatter3d\":[{\"type\":\"scatter3d\",\"line\":{\"colorbar\":{\"outlinewidth\":0,\"ticks\":\"\"}},\"marker\":{\"colorbar\":{\"outlinewidth\":0,\"ticks\":\"\"}}}],\"scattermapbox\":[{\"type\":\"scattermapbox\",\"marker\":{\"colorbar\":{\"outlinewidth\":0,\"ticks\":\"\"}}}],\"scatterternary\":[{\"type\":\"scatterternary\",\"marker\":{\"colorbar\":{\"outlinewidth\":0,\"ticks\":\"\"}}}],\"scattercarpet\":[{\"type\":\"scattercarpet\",\"marker\":{\"colorbar\":{\"outlinewidth\":0,\"ticks\":\"\"}}}],\"carpet\":[{\"aaxis\":{\"endlinecolor\":\"#2a3f5f\",\"gridcolor\":\"white\",\"linecolor\":\"white\",\"minorgridcolor\":\"white\",\"startlinecolor\":\"#2a3f5f\"},\"baxis\":{\"endlinecolor\":\"#2a3f5f\",\"gridcolor\":\"white\",\"linecolor\":\"white\",\"minorgridcolor\":\"white\",\"startlinecolor\":\"#2a3f5f\"},\"type\":\"carpet\"}],\"table\":[{\"cells\":{\"fill\":{\"color\":\"#EBF0F8\"},\"line\":{\"color\":\"white\"}},\"header\":{\"fill\":{\"color\":\"#C8D4E3\"},\"line\":{\"color\":\"white\"}},\"type\":\"table\"}],\"barpolar\":[{\"marker\":{\"line\":{\"color\":\"#E5ECF6\",\"width\":0.5},\"pattern\":{\"fillmode\":\"overlay\",\"size\":10,\"solidity\":0.2}},\"type\":\"barpolar\"}],\"pie\":[{\"automargin\":true,\"type\":\"pie\"}]},\"layout\":{\"autotypenumbers\":\"strict\",\"colorway\":[\"#636efa\",\"#EF553B\",\"#00cc96\",\"#ab63fa\",\"#FFA15A\",\"#19d3f3\",\"#FF6692\",\"#B6E880\",\"#FF97FF\",\"#FECB52\"],\"font\":{\"color\":\"#2a3f5f\"},\"hovermode\":\"closest\",\"hoverlabel\":{\"align\":\"left\"},\"paper_bgcolor\":\"white\",\"plot_bgcolor\":\"#E5ECF6\",\"polar\":{\"bgcolor\":\"#E5ECF6\",\"angularaxis\":{\"gridcolor\":\"white\",\"linecolor\":\"white\",\"ticks\":\"\"},\"radialaxis\":{\"gridcolor\":\"white\",\"linecolor\":\"white\",\"ticks\":\"\"}},\"ternary\":{\"bgcolor\":\"#E5ECF6\",\"aaxis\":{\"gridcolor\":\"white\",\"linecolor\":\"white\",\"ticks\":\"\"},\"baxis\":{\"gridcolor\":\"white\",\"linecolor\":\"white\",\"ticks\":\"\"},\"caxis\":{\"gridcolor\":\"white\",\"linecolor\":\"white\",\"ticks\":\"\"}},\"coloraxis\":{\"colorbar\":{\"outlinewidth\":0,\"ticks\":\"\"}},\"colorscale\":{\"sequential\":[[0.0,\"#0d0887\"],[0.1111111111111111,\"#46039f\"],[0.2222222222222222,\"#7201a8\"],[0.3333333333333333,\"#9c179e\"],[0.4444444444444444,\"#bd3786\"],[0.5555555555555556,\"#d8576b\"],[0.6666666666666666,\"#ed7953\"],[0.7777777777777778,\"#fb9f3a\"],[0.8888888888888888,\"#fdca26\"],[1.0,\"#f0f921\"]],\"sequentialminus\":[[0.0,\"#0d0887\"],[0.1111111111111111,\"#46039f\"],[0.2222222222222222,\"#7201a8\"],[0.3333333333333333,\"#9c179e\"],[0.4444444444444444,\"#bd3786\"],[0.5555555555555556,\"#d8576b\"],[0.6666666666666666,\"#ed7953\"],[0.7777777777777778,\"#fb9f3a\"],[0.8888888888888888,\"#fdca26\"],[1.0,\"#f0f921\"]],\"diverging\":[[0,\"#8e0152\"],[0.1,\"#c51b7d\"],[0.2,\"#de77ae\"],[0.3,\"#f1b6da\"],[0.4,\"#fde0ef\"],[0.5,\"#f7f7f7\"],[0.6,\"#e6f5d0\"],[0.7,\"#b8e186\"],[0.8,\"#7fbc41\"],[0.9,\"#4d9221\"],[1,\"#276419\"]]},\"xaxis\":{\"gridcolor\":\"white\",\"linecolor\":\"white\",\"ticks\":\"\",\"title\":{\"standoff\":15},\"zerolinecolor\":\"white\",\"automargin\":true,\"zerolinewidth\":2},\"yaxis\":{\"gridcolor\":\"white\",\"linecolor\":\"white\",\"ticks\":\"\",\"title\":{\"standoff\":15},\"zerolinecolor\":\"white\",\"automargin\":true,\"zerolinewidth\":2},\"scene\":{\"xaxis\":{\"backgroundcolor\":\"#E5ECF6\",\"gridcolor\":\"white\",\"linecolor\":\"white\",\"showbackground\":true,\"ticks\":\"\",\"zerolinecolor\":\"white\",\"gridwidth\":2},\"yaxis\":{\"backgroundcolor\":\"#E5ECF6\",\"gridcolor\":\"white\",\"linecolor\":\"white\",\"showbackground\":true,\"ticks\":\"\",\"zerolinecolor\":\"white\",\"gridwidth\":2},\"zaxis\":{\"backgroundcolor\":\"#E5ECF6\",\"gridcolor\":\"white\",\"linecolor\":\"white\",\"showbackground\":true,\"ticks\":\"\",\"zerolinecolor\":\"white\",\"gridwidth\":2}},\"shapedefaults\":{\"line\":{\"color\":\"#2a3f5f\"}},\"annotationdefaults\":{\"arrowcolor\":\"#2a3f5f\",\"arrowhead\":0,\"arrowwidth\":1},\"geo\":{\"bgcolor\":\"white\",\"landcolor\":\"#E5ECF6\",\"subunitcolor\":\"white\",\"showland\":true,\"showlakes\":true,\"lakecolor\":\"white\"},\"title\":{\"x\":0.05},\"mapbox\":{\"style\":\"light\"}}},\"xaxis\":{\"anchor\":\"y\",\"domain\":[0.0,1.0],\"type\":\"date\"},\"yaxis\":{\"anchor\":\"x\",\"domain\":[0.0,1.0],\"title\":{\"text\":\"name\"},\"showgrid\":true},\"legend\":{\"title\":{\"text\":\"wiring_needed\"},\"tracegroupgap\":0},\"margin\":{\"t\":60},\"barmode\":\"overlay\",\"height\":700,\"title\":{\"text\":\"\\u041c\\u0430\\u0440\\u0448\\u0440\\u0443\\u0442\\u044b \\u0438\\u0437 \\u043f\\u043e\\u0440\\u0442\\u043e\\u0432\"}},                        {\"responsive\": true}                    ).then(function(){\n",
       "                            \n",
       "var gd = document.getElementById('bc54e1bf-bb05-4612-bc3e-1c20658eb435');\n",
       "var x = new MutationObserver(function (mutations, observer) {{\n",
       "        var display = window.getComputedStyle(gd).display;\n",
       "        if (!display || display === 'none') {{\n",
       "            console.log([gd, 'removed!']);\n",
       "            Plotly.purge(gd);\n",
       "            observer.disconnect();\n",
       "        }}\n",
       "}});\n",
       "\n",
       "// Listen for the removal of the full notebook cells\n",
       "var notebookContainer = gd.closest('#notebook-container');\n",
       "if (notebookContainer) {{\n",
       "    x.observe(notebookContainer, {childList: true});\n",
       "}}\n",
       "\n",
       "// Listen for the clearing of the current output cell\n",
       "var outputEl = gd.closest('.output');\n",
       "if (outputEl) {{\n",
       "    x.observe(outputEl, {childList: true});\n",
       "}}\n",
       "\n",
       "                        })                };                });            </script>        </div>"
      ]
     },
     "metadata": {},
     "output_type": "display_data"
    }
   ],
   "source": [
    "fig = px.timeline(requests[requests.start_point != 'точка в Баренцевом море'], \n",
    "                  x_start='date_start', x_end='date_end', y='name', color='wiring_needed')\n",
    "fig.update_layout(height=700, yaxis=dict(showgrid=True), title='Маршруты из портов')\n",
    "fig.show()"
   ]
  },
  {
   "cell_type": "code",
   "execution_count": 251,
   "id": "7bcf7f89-d8fc-42a5-9b50-ba8345a48c12",
   "metadata": {
    "tags": []
   },
   "outputs": [
    {
     "data": {
      "text/html": [
       "<div>\n",
       "<style scoped>\n",
       "    .dataframe tbody tr th:only-of-type {\n",
       "        vertical-align: middle;\n",
       "    }\n",
       "\n",
       "    .dataframe tbody tr th {\n",
       "        vertical-align: top;\n",
       "    }\n",
       "\n",
       "    .dataframe thead th {\n",
       "        text-align: right;\n",
       "    }\n",
       "</style>\n",
       "<table border=\"1\" class=\"dataframe\">\n",
       "  <thead>\n",
       "    <tr style=\"text-align: right;\">\n",
       "      <th></th>\n",
       "      <th>name</th>\n",
       "      <th>imo</th>\n",
       "      <th>ice_class</th>\n",
       "      <th>speed</th>\n",
       "      <th>start_point</th>\n",
       "      <th>end_point</th>\n",
       "      <th>date_start</th>\n",
       "      <th>date_end</th>\n",
       "      <th>wiring_needed</th>\n",
       "      <th>start_point_coord</th>\n",
       "      <th>end_point_coord</th>\n",
       "    </tr>\n",
       "  </thead>\n",
       "  <tbody>\n",
       "    <tr>\n",
       "      <th>0</th>\n",
       "      <td>Штурман Альбанов</td>\n",
       "      <td>9752084</td>\n",
       "      <td>Arc7</td>\n",
       "      <td>27.78</td>\n",
       "      <td>точка в Баренцевом море</td>\n",
       "      <td>Саббета 3</td>\n",
       "      <td>2021-01-01 23:30:00</td>\n",
       "      <td>2021-01-05 05:00:00</td>\n",
       "      <td>False</td>\n",
       "      <td>(69.9303, 46.142578)</td>\n",
       "      <td>(71.244356, 72.202148)</td>\n",
       "    </tr>\n",
       "    <tr>\n",
       "      <th>1</th>\n",
       "      <td>Штурман Альбанов</td>\n",
       "      <td>9752084</td>\n",
       "      <td>Arc7</td>\n",
       "      <td>27.78</td>\n",
       "      <td>Саббета 3</td>\n",
       "      <td>точка в Баренцевом море</td>\n",
       "      <td>2021-01-06 11:00:00</td>\n",
       "      <td>2021-01-10 18:00:00</td>\n",
       "      <td>False</td>\n",
       "      <td>(71.244356, 72.202148)</td>\n",
       "      <td>(69.9303, 46.142578)</td>\n",
       "    </tr>\n",
       "    <tr>\n",
       "      <th>2</th>\n",
       "      <td>Штурман Альбанов</td>\n",
       "      <td>9752084</td>\n",
       "      <td>Arc7</td>\n",
       "      <td>27.78</td>\n",
       "      <td>точка в Баренцевом море</td>\n",
       "      <td>Саббета 3</td>\n",
       "      <td>2021-01-12 18:00:00</td>\n",
       "      <td>2021-01-16 22:00:00</td>\n",
       "      <td>False</td>\n",
       "      <td>(69.9303, 46.142578)</td>\n",
       "      <td>(71.244356, 72.202148)</td>\n",
       "    </tr>\n",
       "    <tr>\n",
       "      <th>3</th>\n",
       "      <td>Штурман Альбанов</td>\n",
       "      <td>9752084</td>\n",
       "      <td>Arc7</td>\n",
       "      <td>27.78</td>\n",
       "      <td>Саббета 3</td>\n",
       "      <td>точка в Баренцевом море</td>\n",
       "      <td>2021-01-17 06:00:00</td>\n",
       "      <td>2021-01-21 20:45:00</td>\n",
       "      <td>True</td>\n",
       "      <td>(71.244356, 72.202148)</td>\n",
       "      <td>(69.9303, 46.142578)</td>\n",
       "    </tr>\n",
       "    <tr>\n",
       "      <th>4</th>\n",
       "      <td>Штурман Альбанов</td>\n",
       "      <td>9752084</td>\n",
       "      <td>Arc7</td>\n",
       "      <td>27.78</td>\n",
       "      <td>точка в Баренцевом море</td>\n",
       "      <td>Саббета 3</td>\n",
       "      <td>2021-01-21 09:00:00</td>\n",
       "      <td>2021-01-26 22:00:00</td>\n",
       "      <td>True</td>\n",
       "      <td>(69.9303, 46.142578)</td>\n",
       "      <td>(71.244356, 72.202148)</td>\n",
       "    </tr>\n",
       "  </tbody>\n",
       "</table>\n",
       "</div>"
      ],
      "text/plain": [
       "               name      imo ice_class  speed              start_point  \\\n",
       "0  Штурман Альбанов  9752084      Arc7  27.78  точка в Баренцевом море   \n",
       "1  Штурман Альбанов  9752084      Arc7  27.78                Саббета 3   \n",
       "2  Штурман Альбанов  9752084      Arc7  27.78  точка в Баренцевом море   \n",
       "3  Штурман Альбанов  9752084      Arc7  27.78                Саббета 3   \n",
       "4  Штурман Альбанов  9752084      Arc7  27.78  точка в Баренцевом море   \n",
       "\n",
       "                 end_point          date_start            date_end  \\\n",
       "0                Саббета 3 2021-01-01 23:30:00 2021-01-05 05:00:00   \n",
       "1  точка в Баренцевом море 2021-01-06 11:00:00 2021-01-10 18:00:00   \n",
       "2                Саббета 3 2021-01-12 18:00:00 2021-01-16 22:00:00   \n",
       "3  точка в Баренцевом море 2021-01-17 06:00:00 2021-01-21 20:45:00   \n",
       "4                Саббета 3 2021-01-21 09:00:00 2021-01-26 22:00:00   \n",
       "\n",
       "   wiring_needed       start_point_coord         end_point_coord  \n",
       "0          False    (69.9303, 46.142578)  (71.244356, 72.202148)  \n",
       "1          False  (71.244356, 72.202148)    (69.9303, 46.142578)  \n",
       "2          False    (69.9303, 46.142578)  (71.244356, 72.202148)  \n",
       "3           True  (71.244356, 72.202148)    (69.9303, 46.142578)  \n",
       "4           True    (69.9303, 46.142578)  (71.244356, 72.202148)  "
      ]
     },
     "execution_count": 251,
     "metadata": {},
     "output_type": "execute_result"
    }
   ],
   "source": [
    "requests.head()"
   ]
  },
  {
   "cell_type": "code",
   "execution_count": null,
   "id": "02cc678f-f644-4190-87f2-eec91879930f",
   "metadata": {},
   "outputs": [],
   "source": []
  }
 ],
 "metadata": {
  "kernelspec": {
   "display_name": "Python 3 (ipykernel)",
   "language": "python",
   "name": "python3"
  },
  "language_info": {
   "codemirror_mode": {
    "name": "ipython",
    "version": 3
   },
   "file_extension": ".py",
   "mimetype": "text/x-python",
   "name": "python",
   "nbconvert_exporter": "python",
   "pygments_lexer": "ipython3",
   "version": "3.11.3"
  }
 },
 "nbformat": 4,
 "nbformat_minor": 5
}
